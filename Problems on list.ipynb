{
 "cells": [
  {
   "cell_type": "markdown",
   "id": "9f707eb6",
   "metadata": {},
   "source": [
    "# List()"
   ]
  },
  {
   "cell_type": "raw",
   "id": "aee9ded0",
   "metadata": {},
   "source": [
    "1. What are lists in Python? Explain with example.\n",
    "==> Unlike C++ or Java, Python Programming Language doesn’t have arrays. To hold a sequence of values, then, it provides the ‘list’ class. A Python list can be seen as a collection of values.\n",
    "\n",
    "colors=['red','green','blue']\n",
    "days=['Monday','Tuesday','Wednesday',4,5,6,7.0] #A Python list may hold different types of values.\n",
    "languages=[['English'],['Gujarati'],['Hindi'],'Romanian','Spanish'] #A list may have python list.\n",
    "\n",
    "languages=[('English','Albanian'),'Gujarati','Hindi','Romanian','Spanish'] #A list may also contain tuples or so.\n"
   ]
  },
  {
   "cell_type": "code",
   "execution_count": 6,
   "id": "95bf2d5e",
   "metadata": {},
   "outputs": [
    {
     "name": "stdout",
     "output_type": "stream",
     "text": [
      "[['English'], ['Gujarati'], ['Hindi'], 'Romanian', 'Spanish']\n",
      "['English']\n",
      "[['Hindi'], 'Romanian']\n",
      "[['English'], ['Gujarati'], ['Hindi']]\n"
     ]
    }
   ],
   "source": [
    "# 2. How to get the elements of a list in Python?\n",
    "languages=[['English'],['Gujarati'],['Hindi'],'Romanian','Spanish']\n",
    "print(languages)\n",
    "print(languages[0])\n",
    "print(languages[2:4])\n",
    "print(languages[:-2])"
   ]
  },
  {
   "cell_type": "code",
   "execution_count": 8,
   "id": "2b5b184d",
   "metadata": {},
   "outputs": [
    {
     "data": {
      "text/plain": [
       "[['caramel', 'P&B', 'Jelly'], ['onions', 'potatoes'], ['flour', 'oil']]"
      ]
     },
     "execution_count": 8,
     "metadata": {},
     "output_type": "execute_result"
    }
   ],
   "source": [
    "# 3. How to make a list in a list Python?\n",
    "grocery_list=[['caramel','P&B','Jelly'],['onions','potatoes'],['flour','oil']] # Multidimensional Lists in Python\n",
    "grocery_list"
   ]
  },
  {
   "cell_type": "raw",
   "id": "8693b0dd",
   "metadata": {},
   "source": [
    "4. What are lists used for in Python?\n",
    "Lists are used to store multiple items in a single variable.\n",
    "Lists are great to use when you want to work with many related values. They enable you to keep data together that belongs together, condense your code, and perform the same methods and operations on multiple values at once."
   ]
  },
  {
   "cell_type": "raw",
   "id": "6da6ef08",
   "metadata": {},
   "source": [
    "5. What are lists called in Python?\n",
    "The list are basically replacemnet of arrays in Python.`r"
   ]
  },
  {
   "cell_type": "code",
   "execution_count": 1,
   "id": "0511a3db",
   "metadata": {},
   "outputs": [
    {
     "data": {
      "text/plain": [
       "2"
      ]
     },
     "execution_count": 1,
     "metadata": {},
     "output_type": "execute_result"
    }
   ],
   "source": [
    "#Multi dimentional list\n",
    "list1=[[1,2],3]\n",
    "list1[0][1]"
   ]
  },
  {
   "cell_type": "code",
   "execution_count": 5,
   "id": "173aeeff",
   "metadata": {},
   "outputs": [
    {
     "name": "stdout",
     "output_type": "stream",
     "text": [
      "[2, 3]\n",
      "[0, 1, 2, 3]\n",
      "[0, 1, 2, 3]\n",
      "[4]\n"
     ]
    }
   ],
   "source": [
    "list2=[0,1,2,3,4,5]\n",
    "print(list2[2:4])\n",
    "print(list2[:4])\n",
    "print(list2[:-2])\n",
    "print(list2[-2:-1])"
   ]
  },
  {
   "cell_type": "code",
   "execution_count": 7,
   "id": "6885559c",
   "metadata": {},
   "outputs": [
    {
     "name": "stdout",
     "output_type": "stream",
     "text": [
      "['blue', 'range', 'red', 'white', 'black']\n",
      "['blue', 'range', 'bronze', 'silver', 'black']\n",
      "['blue', 'range', 'black']\n"
     ]
    }
   ],
   "source": [
    "colors=['blue','range','red','white','black']\n",
    "print(colors)\n",
    "colors[2:4]=['bronze','silver']\n",
    "print(colors)\n",
    "del colors[2:4]\n",
    "print(colors)"
   ]
  },
  {
   "cell_type": "code",
   "execution_count": 8,
   "id": "70d31eb9",
   "metadata": {},
   "outputs": [
    {
     "data": {
      "text/plain": [
       "[1, 2, 3, 4, 5, 6]"
      ]
     },
     "execution_count": 8,
     "metadata": {},
     "output_type": "execute_result"
    }
   ],
   "source": [
    "[1,2,3]+[4,5,6]"
   ]
  },
  {
   "cell_type": "code",
   "execution_count": 9,
   "id": "5ad7eb5b",
   "metadata": {},
   "outputs": [
    {
     "data": {
      "text/plain": [
       "[2, 1, 2, 1]"
      ]
     },
     "execution_count": 9,
     "metadata": {},
     "output_type": "execute_result"
    }
   ],
   "source": [
    "[2,1]*2"
   ]
  },
  {
   "cell_type": "code",
   "execution_count": 10,
   "id": "6958c6b1",
   "metadata": {},
   "outputs": [
    {
     "data": {
      "text/plain": [
       "True"
      ]
     },
     "execution_count": 10,
     "metadata": {},
     "output_type": "execute_result"
    }
   ],
   "source": [
    "1 in [2,1]"
   ]
  },
  {
   "cell_type": "code",
   "execution_count": 11,
   "id": "95d406f9",
   "metadata": {},
   "outputs": [
    {
     "name": "stdout",
     "output_type": "stream",
     "text": [
      "1\n",
      "2\n",
      "3\n"
     ]
    }
   ],
   "source": [
    "for num in [1,2,3]: print(num)"
   ]
  },
  {
   "cell_type": "code",
   "execution_count": 18,
   "id": "b5995fab",
   "metadata": {},
   "outputs": [
    {
     "data": {
      "text/plain": [
       "[6, 12, 18]"
      ]
     },
     "execution_count": 18,
     "metadata": {},
     "output_type": "execute_result"
    }
   ],
   "source": [
    "#list comprehension to get list of twice of nos divisble by 3 between 1-10\n",
    "[2*num for num in range(1,11) if num%3==0]"
   ]
  },
  {
   "cell_type": "code",
   "execution_count": 22,
   "id": "85bc252d",
   "metadata": {},
   "outputs": [
    {
     "name": "stdout",
     "output_type": "stream",
     "text": [
      "3\n",
      "3\n",
      "6\n",
      "[1, 2, 3]\n"
     ]
    }
   ],
   "source": [
    "a=[3,1,2]\n",
    "print(len(a))\n",
    "print(max(a))\n",
    "print(sum(a))\n",
    "print(sorted(a))"
   ]
  },
  {
   "cell_type": "code",
   "execution_count": 24,
   "id": "d1e4cefe",
   "metadata": {},
   "outputs": [
    {
     "name": "stdout",
     "output_type": "stream",
     "text": [
      "[3, 1, 2, 4, 4]\n",
      "[3, 1, 2, 5, 4, 4]\n"
     ]
    }
   ],
   "source": [
    "a.append(4)\n",
    "print(a)\n",
    "a.insert(3,5) #inserts value 5 at index 3\n",
    "print(a)\n"
   ]
  },
  {
   "cell_type": "code",
   "execution_count": 31,
   "id": "a98f030d",
   "metadata": {},
   "outputs": [
    {
     "name": "stdout",
     "output_type": "stream",
     "text": [
      "[2, 1, 3, 5, 2, 4]\n",
      "[1, 3, 5, 2, 4]\n",
      "[1, 3, 5, 4]\n",
      "0\n",
      "[1, 3, 4, 5]\n"
     ]
    }
   ],
   "source": [
    "a=[2,1,3,5,2,4]\n",
    "print(a)\n",
    "a.remove(2) # removes 1st occurance of 2\n",
    "print(a)\n",
    "a.pop(3) # removs 3rd index\n",
    "print(a)\n",
    "print(a.count(2))\n",
    "a.sort()\n",
    "print(a)"
   ]
  },
  {
   "cell_type": "code",
   "execution_count": 37,
   "id": "60088333",
   "metadata": {},
   "outputs": [
    {
     "name": "stdout",
     "output_type": "stream",
     "text": [
      "['World', 'Hello']\n",
      "['Science', 'Data', 'Python']\n"
     ]
    }
   ],
   "source": [
    "#WAP to accept a string of multiple words then print word back to front\n",
    "def front_to_back(string):\n",
    "    list1=string.split(' ')\n",
    "    return list1[::-1]\n",
    "\n",
    "print(front_to_back('Hello World'))\n",
    "print(front_to_back('Python Data Science'))"
   ]
  },
  {
   "cell_type": "code",
   "execution_count": 39,
   "id": "78abac55",
   "metadata": {},
   "outputs": [
    {
     "name": "stdout",
     "output_type": "stream",
     "text": [
      "World Hello\n",
      "Science Data Python\n"
     ]
    }
   ],
   "source": [
    "#Another way using reversed function\n",
    "def front_to_back(string):\n",
    "    return ' '.join(reversed(string.split(' ')))\n",
    "\n",
    "print(front_to_back('Hello World'))\n",
    "print(front_to_back('Python Data Science'))"
   ]
  },
  {
   "cell_type": "code",
   "execution_count": 52,
   "id": "9ebbbdad",
   "metadata": {},
   "outputs": [
    {
     "name": "stdout",
     "output_type": "stream",
     "text": [
      "Enter nos seperated by comma: 1,2,3,4,2,6,1,2,3,7,8,9,9\n"
     ]
    },
    {
     "data": {
      "text/plain": [
       "['1', '2', '3', '9']"
      ]
     },
     "execution_count": 52,
     "metadata": {},
     "output_type": "execute_result"
    }
   ],
   "source": [
    "# WAF to accept nos in a list then print the ones that occure more than onece.\n",
    "def count():\n",
    "    list1=input(\"Enter nos seperated by comma: \").split(',')\n",
    "    list2=[]\n",
    "    for i in list1:\n",
    "        if list1.count(i)>1:\n",
    "            if i not in list2:\n",
    "                list2.append(i)\n",
    "    return list2\n",
    "\n",
    "count()"
   ]
  },
  {
   "cell_type": "code",
   "execution_count": 59,
   "id": "56fd3114",
   "metadata": {},
   "outputs": [
    {
     "name": "stdout",
     "output_type": "stream",
     "text": [
      "an apple\n",
      "an orange\n",
      "a butterfly\n",
      "a cake\n",
      "an umbrella\n"
     ]
    }
   ],
   "source": [
    "# Infinite Articles -- WAF to prepend a indefinite noun [a,an] for appropriate article\n",
    "\n",
    "def add_indinite_aticle(article):\n",
    "    list1=list(article)\n",
    "    list_v=['a','e','i','o','u']\n",
    "    if list1[0] in list_v:\n",
    "        return 'an '+article\n",
    "    else:\n",
    "        return 'a '+article\n",
    "        \n",
    "print(add_indinite_aticle('apple'))\n",
    "print(add_indinite_aticle('orange'))\n",
    "print(add_indinite_aticle('butterfly'))\n",
    "print(add_indinite_aticle('cake'))\n",
    "print(add_indinite_aticle('umbrella'))\n",
    "            "
   ]
  },
  {
   "cell_type": "code",
   "execution_count": 60,
   "id": "fbe6718b",
   "metadata": {},
   "outputs": [
    {
     "name": "stdout",
     "output_type": "stream",
     "text": [
      "an apple\n",
      "an orange\n",
      "a butterfly\n",
      "a cake\n",
      "an umbrella\n"
     ]
    }
   ],
   "source": [
    "vowels=['a','e','i','o','u']\n",
    "def add_aticle(noun):\n",
    "    return 'an '+noun if noun[0] in vowels else 'a '+noun\n",
    "\n",
    "print(add_aticle('apple'))\n",
    "print(add_aticle('orange'))\n",
    "print(add_aticle('butterfly'))\n",
    "print(add_aticle('cake'))\n",
    "print(add_aticle('umbrella'))"
   ]
  },
  {
   "cell_type": "code",
   "execution_count": 64,
   "id": "ae783477",
   "metadata": {},
   "outputs": [
    {
     "data": {
      "text/plain": [
       "'46000000000 ohms'"
      ]
     },
     "execution_count": 64,
     "metadata": {},
     "output_type": "execute_result"
    }
   ],
   "source": [
    "# WAF to understand the color coding of 4 band resistor it takes 1st 3 values [ignores tolerance] and calculates the resistance in ohms\n",
    "\n",
    "color_codes=['black','brown','red','orange','yellow','green','blue','voilet','grey','white']\n",
    "def calc_resistance(digit1,digit2,multiplier):\n",
    "    return str((color_codes.index(digit1)*10+color_codes.index(digit2))*10**color_codes.index(multiplier))+' ohms'\n",
    "\n",
    "calc_resistance('yellow','blue','white') # (4*10+6)*10^9"
   ]
  },
  {
   "cell_type": "code",
   "execution_count": null,
   "id": "1435e07e",
   "metadata": {},
   "outputs": [],
   "source": []
  }
 ],
 "metadata": {
  "kernelspec": {
   "display_name": "Python 3 (ipykernel)",
   "language": "python",
   "name": "python3"
  },
  "language_info": {
   "codemirror_mode": {
    "name": "ipython",
    "version": 3
   },
   "file_extension": ".py",
   "mimetype": "text/x-python",
   "name": "python",
   "nbconvert_exporter": "python",
   "pygments_lexer": "ipython3",
   "version": "3.9.7"
  }
 },
 "nbformat": 4,
 "nbformat_minor": 5
}
