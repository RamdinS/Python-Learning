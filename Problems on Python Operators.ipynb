{
 "cells": [
  {
   "cell_type": "markdown",
   "id": "3abfc73a",
   "metadata": {},
   "source": [
    "# Problems on Python Operators"
   ]
  },
  {
   "cell_type": "code",
   "execution_count": 4,
   "id": "faef6f66",
   "metadata": {},
   "outputs": [
    {
     "data": {
      "text/plain": [
       "4"
      ]
     },
     "execution_count": 4,
     "metadata": {},
     "output_type": "execute_result"
    }
   ],
   "source": [
    "#Next perfect square\n",
    "import math\n",
    "def my_func(num):\n",
    "    return (int(math.sqrt(num))+1)**2 if math.sqrt(num)%1==0 else \"Not a perfect square itself\"\n",
    "\n",
    "my_func(0)\n",
    "my_func(1)"
   ]
  },
  {
   "cell_type": "code",
   "execution_count": 6,
   "id": "768a8819",
   "metadata": {},
   "outputs": [
    {
     "data": {
      "text/plain": [
       "'srbh'"
      ]
     },
     "execution_count": 6,
     "metadata": {},
     "output_type": "execute_result"
    }
   ],
   "source": [
    "#remove vovels in a string\n",
    "\n",
    "def func(s):\n",
    "    str=\"\"\n",
    "    for letter in s:\n",
    "        if letter not in ['a','e','i','o','u'] :\n",
    "            str+=letter\n",
    "    return str\n",
    "\n",
    "func(\"saurabh\")"
   ]
  },
  {
   "cell_type": "code",
   "execution_count": 7,
   "id": "52eb2602",
   "metadata": {},
   "outputs": [
    {
     "data": {
      "text/plain": [
       "33.51"
      ]
     },
     "execution_count": 7,
     "metadata": {},
     "output_type": "execute_result"
    }
   ],
   "source": [
    "#volumne of a sphere\n",
    "\n",
    "import math\n",
    "\n",
    "def func(r):\n",
    "    return round(4/3*r**3*math.pi,2)\n",
    "\n",
    "func(2)"
   ]
  },
  {
   "cell_type": "code",
   "execution_count": 11,
   "id": "a74baf2e",
   "metadata": {},
   "outputs": [
    {
     "data": {
      "text/plain": [
       "True"
      ]
     },
     "execution_count": 11,
     "metadata": {},
     "output_type": "execute_result"
    }
   ],
   "source": [
    "# check for valid password\n",
    "# 6-12 character long\n",
    "# atleast 1 letter, 1 digit, 1 character from $, # and @\n",
    "\n",
    "def func(s):\n",
    "    p=list(s)\n",
    "    if (len(s)<6 or len(s)>12): return False\n",
    "    if not(any(i.isdigit() for i in p)): return False #The any() function returns True if any item in an iterable are true, otherwise it returns False\n",
    "    if not(any(i.isalpha() for i in p)): return False\n",
    "    if not(any(i in '$#@' for i in p)): return False\n",
    "    return True\n",
    "\n",
    "func(\"saur@bh1\")\n"
   ]
  },
  {
   "cell_type": "code",
   "execution_count": null,
   "id": "754b0304",
   "metadata": {},
   "outputs": [],
   "source": []
  }
 ],
 "metadata": {
  "kernelspec": {
   "display_name": "Python 3 (ipykernel)",
   "language": "python",
   "name": "python3"
  },
  "language_info": {
   "codemirror_mode": {
    "name": "ipython",
    "version": 3
   },
   "file_extension": ".py",
   "mimetype": "text/x-python",
   "name": "python",
   "nbconvert_exporter": "python",
   "pygments_lexer": "ipython3",
   "version": "3.9.7"
  }
 },
 "nbformat": 4,
 "nbformat_minor": 5
}
