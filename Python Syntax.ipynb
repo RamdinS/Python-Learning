{
 "cells": [
  {
   "cell_type": "markdown",
   "metadata": {},
   "source": [
    "Multiline Code \n",
    "with use of backslash -- '\\'"
   ]
  },
  {
   "cell_type": "code",
   "execution_count": 2,
   "metadata": {},
   "outputs": [
    {
     "name": "stdout",
     "output_type": "stream",
     "text": [
      "10\n"
     ]
    }
   ],
   "source": [
    "a\\\n",
    "=\\\n",
    "10\n",
    "\n",
    "print(a)"
   ]
  },
  {
   "cell_type": "code",
   "execution_count": 6,
   "metadata": {},
   "outputs": [
    {
     "data": {
      "text/plain": [
       "'Hi \\nHow are you ? with docstring'"
      ]
     },
     "execution_count": 6,
     "metadata": {},
     "output_type": "execute_result"
    }
   ],
   "source": [
    "\"\"\"Hi \n",
    "How are you ? with docstring\"\"\""
   ]
  },
  {
   "cell_type": "code",
   "execution_count": 7,
   "metadata": {},
   "outputs": [
    {
     "data": {
      "text/plain": [
       "'HiHow are you ? with backslash'"
      ]
     },
     "execution_count": 7,
     "metadata": {},
     "output_type": "execute_result"
    }
   ],
   "source": [
    "\"Hi\\\n",
    "How are you ? with backslash\""
   ]
  },
  {
   "cell_type": "code",
   "execution_count": 9,
   "metadata": {},
   "outputs": [],
   "source": [
    "#This is a comment"
   ]
  },
  {
   "cell_type": "code",
   "execution_count": 10,
   "metadata": {},
   "outputs": [
    {
     "name": "stdout",
     "output_type": "stream",
     "text": [
      "Yes\n"
     ]
    }
   ],
   "source": [
    "#Indentation\n",
    "if 2>1:\n",
    "    print(\"Yes\")"
   ]
  },
  {
   "cell_type": "code",
   "execution_count": 11,
   "metadata": {},
   "outputs": [
    {
     "name": "stdout",
     "output_type": "stream",
     "text": [
      "I'm fine\n"
     ]
    }
   ],
   "source": [
    "# using quote in a string\n",
    "s=\"I'm fine\"\n",
    "print(s)"
   ]
  },
  {
   "cell_type": "code",
   "execution_count": 13,
   "metadata": {},
   "outputs": [
    {
     "name": "stdout",
     "output_type": "stream",
     "text": [
      "I scored 96 on Maths test\n"
     ]
    }
   ],
   "source": [
    "# f string to embed a value in a string\n",
    "score=96\n",
    "print(f\"I scored {score} on Maths test\")"
   ]
  },
  {
   "cell_type": "markdown",
   "metadata": {},
   "source": [
    "Mean and Median -- Write a function thattakes list of numbers , computes the mean and median and returns true if the median value is greter than the mean of the numbers . Otherwise return false."
   ]
  },
  {
   "cell_type": "code",
   "execution_count": 14,
   "metadata": {},
   "outputs": [
    {
     "data": {
      "text/plain": [
       "False"
      ]
     },
     "execution_count": 14,
     "metadata": {},
     "output_type": "execute_result"
    }
   ],
   "source": [
    "def mean_median(scores):\n",
    "    mean=sum(scores)/len(scores)\n",
    "    median=sorted(scores)[int(len(scores)/2)]\n",
    "    if median>mean: return True\n",
    "    return False\n",
    "\n",
    "mean_median([3,4,3,2,9,7,11,12,13])\n"
   ]
  },
  {
   "cell_type": "markdown",
   "metadata": {},
   "source": [
    "Write a function to stimulate the popular kids game Mad libs. Take the folllowing inputs from matplotlib.image import NonUniformImage\n",
    "from the player.\n",
    "1. A random last name\n",
    "2. A Noun\n",
    "3. The time of the day\n",
    "4. An adjective\n",
    "5. A verb present that ends in ing\n",
    "6. A body part\n",
    "7. A number\n",
    "8. A noun\n",
    "9. A verb base form\n",
    "10. A liquid\n",
    "11. A number\n",
    "12. A period of time - day , month , year etc.\n",
    "13. A noun plural\n",
    "14. Player name\n",
    "\n",
    "Use the inputs respectively to fill the blanks in the story."
   ]
  },
  {
   "cell_type": "code",
   "execution_count": 16,
   "metadata": {},
   "outputs": [
    {
     "name": "stdout",
     "output_type": "stream",
     "text": [
      "Dera Dr. Sadigale,\n",
      "    \n",
      "    I cannot make it to Cock this Afternoon. I am very good and cannot stop reading my hand. I have a fever of 24 degrees and the doctor ordered me to stay in artic\n",
      "    and is lots of coke. Also, can i have a 69  month extension on the essay about oranges? My cat ate it and now i have to start over!\n",
      "    \n",
      "    Best balls,\n",
      "    \n",
      "    saurabh\n"
     ]
    }
   ],
   "source": [
    "def mad_libs():\n",
    "    inputs,pos=[],['A random last name','A Noun','The time of the day','An adjective','A verb present that ends in ing','A body part','A number','A noun','A verb base form','A liquid','A number',' A period of time - day , month , year etc','A noun plural','an animal','a noun plural','Player name'] \n",
    "    for part in pos: inputs.append(input(f'Give me {part}'))\n",
    "    print(\"\"\"Dera Dr. {0},\n",
    "    \n",
    "    I cannot make it to {1} this {2}. I am very {3} and cannot stop {4} my {5}. I have a fever of {6} degrees and the doctor ordered me to stay in {7}\n",
    "    and {8} lots of {9}. Also, can i have a {10}  {11} extension on the essay about {12}? My {13} ate it and now i have to start over!\n",
    "    \n",
    "    Best {14},\n",
    "    \n",
    "    {15}\"\"\".format(*inputs))\n",
    "\n",
    "\n",
    "mad_libs()"
   ]
  },
  {
   "cell_type": "markdown",
   "metadata": {},
   "source": [
    "Baby Sharks -- Write a function to print out the lyrics to popular kids song 'Baby Shark'"
   ]
  },
  {
   "cell_type": "code",
   "execution_count": 18,
   "metadata": {},
   "outputs": [
    {
     "name": "stdout",
     "output_type": "stream",
     "text": [
      "Baby shark, doo doo doo doo doo doo\n",
      "Baby shark, doo doo doo doo doo doo\n",
      "Baby shark, doo doo doo doo doo doo\n",
      "Baby shark!\n",
      "\n",
      "Mommy shark, doo doo doo doo doo doo\n",
      "Mommy shark, doo doo doo doo doo doo\n",
      "Mommy shark, doo doo doo doo doo doo\n",
      "Mommy shark!\n",
      "\n",
      "Daddy shark, doo doo doo doo doo doo\n",
      "Daddy shark, doo doo doo doo doo doo\n",
      "Daddy shark, doo doo doo doo doo doo\n",
      "Daddy shark!\n",
      "\n",
      "Grandma shark, doo doo doo doo doo doo\n",
      "Grandma shark, doo doo doo doo doo doo\n",
      "Grandma shark, doo doo doo doo doo doo\n",
      "Grandma shark!\n",
      "\n",
      "Grandpa shark, doo doo doo doo doo doo\n",
      "Grandpa shark, doo doo doo doo doo doo\n",
      "Grandpa shark, doo doo doo doo doo doo\n",
      "Grandpa shark!\n",
      "\n",
      "let's go hunt, doo doo doo doo doo doo\n",
      "let's go hunt, doo doo doo doo doo doo\n",
      "let's go hunt, doo doo doo doo doo doo\n",
      "Let's go hunt!\n",
      "\n",
      "Run Away...\n"
     ]
    }
   ],
   "source": [
    "def print_doo():\n",
    "    return ' doo'*6\n",
    "\n",
    "def baby_shark():\n",
    "    sharks=['Baby','Mommy','Daddy','Grandma','Grandpa']\n",
    "    for shark in sharks:\n",
    "        for index in range(3): print(shark+' shark,%s' %(print_doo()))\n",
    "        print(shark+' shark!\\n')\n",
    "    for index in range(3):\n",
    "        print('let\\'s go hunt,%s' %(print_doo())) #used backslash as escape character to ignore the single quote in Let's\n",
    "    print('Let\\'s go hunt!\\n\\nRun Away...')\n",
    "\n",
    "\n",
    "baby_shark()"
   ]
  },
  {
   "cell_type": "markdown",
   "metadata": {},
   "source": [
    "Alphabetically write a function that takes in a string of words seperated by commas and sort the words before returning them in the same format."
   ]
  },
  {
   "cell_type": "code",
   "execution_count": 19,
   "metadata": {},
   "outputs": [
    {
     "data": {
      "text/plain": [
       "'exhale,label,phone,users'"
      ]
     },
     "execution_count": 19,
     "metadata": {},
     "output_type": "execute_result"
    }
   ],
   "source": [
    "def alphabetical(words):\n",
    "    return ','.join(sorted(words.split(',')))\n",
    "\n",
    "alphabetical('users,phone,label,exhale')"
   ]
  },
  {
   "cell_type": "code",
   "execution_count": 20,
   "metadata": {},
   "outputs": [
    {
     "name": "stdout",
     "output_type": "stream",
     "text": [
      "The Zen of Python, by Tim Peters\n",
      "\n",
      "Beautiful is better than ugly.\n",
      "Explicit is better than implicit.\n",
      "Simple is better than complex.\n",
      "Complex is better than complicated.\n",
      "Flat is better than nested.\n",
      "Sparse is better than dense.\n",
      "Readability counts.\n",
      "Special cases aren't special enough to break the rules.\n",
      "Although practicality beats purity.\n",
      "Errors should never pass silently.\n",
      "Unless explicitly silenced.\n",
      "In the face of ambiguity, refuse the temptation to guess.\n",
      "There should be one-- and preferably only one --obvious way to do it.\n",
      "Although that way may not be obvious at first unless you're Dutch.\n",
      "Now is better than never.\n",
      "Although never is often better than *right* now.\n",
      "If the implementation is hard to explain, it's a bad idea.\n",
      "If the implementation is easy to explain, it may be a good idea.\n",
      "Namespaces are one honking great idea -- let's do more of those!\n"
     ]
    }
   ],
   "source": [
    "import this"
   ]
  },
  {
   "cell_type": "code",
   "execution_count": 21,
   "metadata": {},
   "outputs": [],
   "source": [
    "import antigravity\n"
   ]
  },
  {
   "cell_type": "code",
   "execution_count": null,
   "metadata": {},
   "outputs": [],
   "source": []
  }
 ],
 "metadata": {
  "kernelspec": {
   "display_name": "Python 3 (ipykernel)",
   "language": "python",
   "name": "python3"
  },
  "language_info": {
   "codemirror_mode": {
    "name": "ipython",
    "version": 3
   },
   "file_extension": ".py",
   "mimetype": "text/x-python",
   "name": "python",
   "nbconvert_exporter": "python",
   "pygments_lexer": "ipython3",
   "version": "3.9.7"
  },
  "vscode": {
   "interpreter": {
    "hash": "b2f029b477be8590de4b123341a0234ab1557d772cd02104fad6fa55ff3f39c9"
   }
  }
 },
 "nbformat": 4,
 "nbformat_minor": 2
}
