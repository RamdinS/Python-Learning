{
 "cells": [
  {
   "cell_type": "markdown",
   "id": "baeb3ba0",
   "metadata": {},
   "source": [
    "# Problems on Ternary Operators"
   ]
  },
  {
   "cell_type": "raw",
   "id": "b8922124",
   "metadata": {},
   "source": [
    "Terse conditional expressions that test a condition and then determine a value"
   ]
  },
  {
   "cell_type": "code",
   "execution_count": 1,
   "id": "4ad45dc6",
   "metadata": {},
   "outputs": [
    {
     "name": "stdout",
     "output_type": "stream",
     "text": [
      "three\n"
     ]
    }
   ],
   "source": [
    "print('two' if 2>3 else 'three')"
   ]
  },
  {
   "cell_type": "code",
   "execution_count": 2,
   "id": "b6abd9d3",
   "metadata": {},
   "outputs": [
    {
     "data": {
      "text/plain": [
       "{}"
      ]
     },
     "execution_count": 2,
     "metadata": {},
     "output_type": "execute_result"
    }
   ],
   "source": [
    "print('two') if 2>3 else dict()"
   ]
  },
  {
   "cell_type": "code",
   "execution_count": 5,
   "id": "6e0d579e",
   "metadata": {},
   "outputs": [
    {
     "data": {
      "text/plain": [
       "'between 0 and 1'"
      ]
     },
     "execution_count": 5,
     "metadata": {},
     "output_type": "execute_result"
    }
   ],
   "source": [
    "one=0.6\n",
    "\"less than zero\" if one<0 else \"between 0 and 1\" if one>0 and one<=1 else \"greater than 1\""
   ]
  },
  {
   "cell_type": "raw",
   "id": "6518061e",
   "metadata": {},
   "source": [
    "Modern Add Problem\n",
    "write a function that adds two intergers and returns sum if it does not lie within the inclusive range of 9..18 in which case it should return 100"
   ]
  },
  {
   "cell_type": "code",
   "execution_count": 8,
   "id": "723e83e0",
   "metadata": {},
   "outputs": [
    {
     "data": {
      "text/plain": [
       "8"
      ]
     },
     "execution_count": 8,
     "metadata": {},
     "output_type": "execute_result"
    }
   ],
   "source": [
    "def func(a,b):\n",
    "    return 100 if ((a+b)>=9 and (a+b)<=18) else a+b\n",
    "\n",
    "func(8,1)\n",
    "func(6,2)"
   ]
  },
  {
   "cell_type": "raw",
   "id": "c286b8e6",
   "metadata": {},
   "source": [
    "Add Round Problem\n",
    "Write two function one to round the interger to the next multiple of 10 if the right most digit is 5 or greater else round down to previous multiple of 10 . The secound function should return the sum of the rounded integers"
   ]
  },
  {
   "cell_type": "code",
   "execution_count": 17,
   "id": "0434375b",
   "metadata": {},
   "outputs": [
    {
     "data": {
      "text/plain": [
       "60"
      ]
     },
     "execution_count": 17,
     "metadata": {},
     "output_type": "execute_result"
    }
   ],
   "source": [
    "def add_round(a,b):\n",
    "    return round(a)+round(b)\n",
    "\n",
    "def round(n):\n",
    "    return n-(n%10) if(n%10 <= 5) else n-(n%10)+10\n",
    "\n",
    "add_round(12,46)"
   ]
  },
  {
   "cell_type": "raw",
   "id": "942550f2",
   "metadata": {},
   "source": [
    "BMI Calculator\n",
    "write a function that takes individual weight , height in kg and cm and calculate their BMI\n",
    "it should also suggest whether it is underweight, overweight, normal weight or obese using below\n",
    "less than 18.5 -- underweight\n",
    "18.5 to 24.9 -- normal weight \n",
    "25 to 29.9 -- overweight\n",
    "30 or more -- obese"
   ]
  },
  {
   "cell_type": "code",
   "execution_count": 28,
   "id": "a1fe2eef",
   "metadata": {},
   "outputs": [
    {
     "name": "stdout",
     "output_type": "stream",
     "text": [
      "Yor BMI is: 30.0 this is considered overweight\n"
     ]
    }
   ],
   "source": [
    "def bmi_calc(w,h):\n",
    "    results(w/(h/100)**2)\n",
    "\n",
    "def results(bmi):\n",
    "    result=\"underweight\" if (bmi<18.5) else \"normal weight\" if (bmi>=18.5 and bmi<=24.9) else \"overweight\" if (bmi>=25 and bmi<=29.9) else \"obese\"\n",
    "    print(\"Yor BMI is: \"+str(round(bmi))+\" this is considered \"+str(result))\n",
    "\n",
    "bmi_calc(65,156)\n",
    "    "
   ]
  },
  {
   "cell_type": "code",
   "execution_count": null,
   "id": "d8fc18a1",
   "metadata": {},
   "outputs": [],
   "source": []
  },
  {
   "cell_type": "code",
   "execution_count": null,
   "id": "a76fd8f3",
   "metadata": {},
   "outputs": [],
   "source": []
  }
 ],
 "metadata": {
  "kernelspec": {
   "display_name": "Python 3 (ipykernel)",
   "language": "python",
   "name": "python3"
  },
  "language_info": {
   "codemirror_mode": {
    "name": "ipython",
    "version": 3
   },
   "file_extension": ".py",
   "mimetype": "text/x-python",
   "name": "python",
   "nbconvert_exporter": "python",
   "pygments_lexer": "ipython3",
   "version": "3.9.7"
  }
 },
 "nbformat": 4,
 "nbformat_minor": 5
}
