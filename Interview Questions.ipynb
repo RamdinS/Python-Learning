{
 "cells": [
  {
   "cell_type": "markdown",
   "id": "e1df5f01",
   "metadata": {},
   "source": [
    "# Interview Questions"
   ]
  },
  {
   "cell_type": "markdown",
   "id": "7104eb16",
   "metadata": {},
   "source": [
    "## Python Introduction"
   ]
  },
  {
   "cell_type": "raw",
   "id": "c29a6f95",
   "metadata": {},
   "source": [
    "1. How does Python get its name?\n",
    "==> Guido van Rossum named it after the comedy group Monty Python. That is why the metasyntactic variables (those we will often use to explain code syntax) used here are ‘spam’ and ‘eggs’ instead of ‘foo’ and ‘bar’."
   ]
  },
  {
   "cell_type": "raw",
   "id": "fb97ea7c",
   "metadata": {},
   "source": [
    "2. What are the Features of Python that make it so popular?\n",
    "==> a. Easy\n",
    "Python is very easy to learn and understand; any beginner can learn Python easily. When writing code in Python, you need fewer lines of code compared to languages like Java.\n",
    "\n",
    "b. Interpreted\n",
    "It is interpreted(executed) line by line. This makes it easy to test and debug.\n",
    "\n",
    "c. Object-Oriented\n",
    "The Python programming language supports classes and objects and hence it is object-oriented.\n",
    "\n",
    "d. Free and Open Source\n",
    "The language and its source code are available to the public for free; there is no need to buy a costly license.\n",
    "\n",
    "e. Portable\n",
    "Since Python is open-source, you can run it on Windows, Mac, Linux or any other platform. Your programs will work without any need to change it for every machine.\n",
    "\n",
    "f. GUI Programming\n",
    "You can use it to develop a GUI (Graphical User Interface). One way to do this is through Tkinter.\n",
    "\n",
    "g. Large Python Library\n",
    "Python provides you with a large standard library.\n",
    "You can use it to implement a variety of functions without the need to reinvent the wheel every time. Just pick the code you need and continue.\n",
    "\n"
   ]
  },
  {
   "cell_type": "raw",
   "id": "1e807e87",
   "metadata": {},
   "source": [
    "3. Define Modules in Python?\n",
    "==> Python module is a collection of related classes and functions.\n",
    "We have modules for mathematical calculations, string manipulations, web programming, and many more."
   ]
  },
  {
   "cell_type": "raw",
   "id": "1b79cc96",
   "metadata": {},
   "source": [
    "4. What is the difference between List and Tuple in Python?\n",
    "The key difference between the tuples and lists is that while the tuples are immutable objects the lists are mutable. This means that tuples cannot be changed while the lists can be modified.\n",
    "\n",
    "Let’s further understand how this effect our code in terms of time and memory efficiency.\n",
    "As lists are mutable, Python needs to allocate an extra memory block in case there is a need to extend the size of the list object after it is created. In contrary, as tuples are immutable and fixed size, Python allocates just the minimum memory block required for the data.\n",
    "\n",
    "As a result, tuples are more memory efficient than the lists."
   ]
  },
  {
   "cell_type": "raw",
   "id": "110148a9",
   "metadata": {},
   "source": [
    "5. Compare Python with Java\n",
    "==>\n",
    "1. Code\t\n",
    "Python: Python has less lines of code.\t\n",
    "Java: Java has longer lines of code.\n",
    "\n",
    "2. Framework\n",
    "Python: Compare to JAVA, Python has lower number of Frameworks. Popular ones are DJango, Flask.\t\n",
    "Java: Java has large number of Frameworks. Popular ones are Spring, Hibernate, etc.\n",
    "\n",
    "3. Syntax\n",
    "Python: Syntax is easy to remember almost similar to human language.\t\n",
    "Java: Syntax is complex as it throws error if you miss semicolon or curly braces.\n",
    "\n",
    "4. Key Features\t\n",
    "Python: Less line no of code, Rapid deployment and dynamic typing.\t\n",
    "Java: Self memory management, Robust, Platform independent\n",
    "\n",
    "5. Speed\n",
    "Python: Python is slower since it uses interpreter and also determines the data type at run time.\t\n",
    "Java: Java is faster in speed as compared to python.\n",
    "\n",
    "6. Databases\t\n",
    "Python’s database access layers are weaker than Java’s JDBC. This is why it rarely used in enterprises.\t\n",
    "Java: (JDBC)Java Database Connectivity is most popular and widely used to connect with database.\n",
    "\n",
    "7. Machine Learning Libraries\n",
    "Python: Tensorflow, Pytorch.\t\n",
    "Java: Weka, Mallet, Deeplearning4j, MOA\n",
    "\n",
    "8. Practical Agility\n",
    "Python: Python has always had a presence in the agile space and has grown in popularity for many reasons, including the rise of the DevOps movement.\t\n",
    "Java: Java enjoys more consistent refactoring support than Python thanks on one hand to its static type system which makes automated refactored more predictable and reliable, and on the other to the prevalence of IDEs in Java development ."
   ]
  },
  {
   "cell_type": "markdown",
   "id": "0a850f56",
   "metadata": {},
   "source": [
    "## Python Features"
   ]
  },
  {
   "cell_type": "raw",
   "id": "a8e651f4",
   "metadata": {},
   "source": [
    "1. How is Python Portable Language?\n",
    "==> Let’s assume you’ve written a Python code for your Windows machine. Now, if you want to run it on a Mac, you don’t need to make changes to it for the same.\n",
    "In other words, you can take one code and run it on any machine. This makes Python a portable language."
   ]
  },
  {
   "cell_type": "raw",
   "id": "a0131575",
   "metadata": {},
   "source": [
    "2. How will you define a Dynamically Typed language?\n",
    "==> Python is dynamically-typed. This means that the type for a value is decided at runtime, not in advance.\n",
    "This is why we don’t need to specify the type of data while declaring it."
   ]
  },
  {
   "cell_type": "raw",
   "id": "593a6462",
   "metadata": {},
   "source": [
    "3. What is FLOSS?\n",
    "==> Firstly, Python is freely available. You can download it from the Python Official Website.\n",
    "\n",
    "Secondly, it is open-source. This means that its source code is available to the public. You can download it, change it, use it, and distribute it.\n",
    "\n",
    "This is called FLOSS(Free/Libre and Open Source Software)."
   ]
  },
  {
   "cell_type": "raw",
   "id": "dbc606b4",
   "metadata": {},
   "source": [
    "4. What do you mean by “Python is Expressive”?\n",
    "==> First, let’s learn what is expressiveness. Suppose we have two languages A and B, and all programs that can be made in A can be made in B using local transformations.\n",
    "\n",
    "However, there are some programs that can be made in B, but not in A, using local transformations. Then, B is said to be more expressive than A.\n",
    "\n",
    "Python provides us with a myriad of constructs that help us focus on the solution rather than on the syntax.\n",
    "\n",
    "This is one of the outstanding python features that tell you why you should learn Python."
   ]
  },
  {
   "cell_type": "raw",
   "id": "c9238551",
   "metadata": {},
   "source": [
    "5. List 10 Features of Python.\n",
    "==> Features of Python\n",
    "1. Easy\n",
    "When we say the word ‘easy’, we mean it in different contexts.\n",
    "    a. Easy to Code\n",
    "    Python is very easy to code as compared to other popular languages like Java and C++.\n",
    "    Anyone can learn Basic Python syntax in just a few hours. Thus, it is programmer-friendly.\n",
    "    b. Easy to Read\n",
    "    Being a high-level language, Python code is quite like English. Looking at it, you can tell what the code is supposed to do.\n",
    "    Also, since it is dynamically-typed, it mandates indentation. This aids readability.\n",
    "\n",
    "2. Expressive\n",
    "First, let’s learn what is expressiveness. Suppose we have two languages A and B, and all programs that can be made in A can be made in B using local transformations.\n",
    "However, there are some programs that can be made in B, but not in A, using local transformations. Then, B is said to be more expressive than A.\n",
    "Python provides us with a myriad of constructs that help us focus on the solution rather than on the syntax.\n",
    "This is one of the outstanding python features that tell you why you should learn Python.\n",
    "\n",
    "3. Free and Open-Source\n",
    "Firstly, Python is freely available. You can download it from the Python Official Website.\n",
    "Secondly, it is open-source. This means that its source code is available to the public. You can download it, change it, use it, and distribute it.\n",
    "This is called FLOSS(Free/Libre and Open Source Software).\n",
    "As the Python community, we’re all headed toward one goal- an ever-bettering Python.\n",
    "\n",
    "4. High-Level\n",
    "Python is a high-level language. This means that as programmers, we don’t need to remember the system architecture.\n",
    "Also, we need not manage memory. This makes it more programmer-friendly and is one of the key python features.\n",
    "\n",
    "5. Portable\n",
    "Let’s assume you’ve written a Python code for your Windows machine. Now, if you want to run it on a Mac, you don’t need to make changes to it for the same.\n",
    "In other words, you can take one code and run it on any machine. This makes Python a portable language.\n",
    "However, you must avoid any system-dependent features in this case.\n",
    "\n",
    "6. Interpreted\n",
    "If you’re familiar with any languages like C++ or Java, you must first compile it, and then run it. But in Python, there is no need to compile it.\n",
    "Internally, its source code is converted into an immediate form called bytecode.\n",
    "So, all you need to do is to run your Python code without worrying about linking to libraries, and a few other things.\n",
    "By interpreted, we mean the source code is executed line by line, and not all at once. Because of this, it is easier to debug your code.\n",
    "Also, interpreting makes it just slightly slower than Java, but that does not matter compared to the benefits it offers.\n",
    "If you have any doubt in DataFlair’s features of python programming language article, drop a comment below and we will get back to you.\n",
    "\n",
    "7. Object-Oriented\n",
    "A programming language that can model the real world is said to be object-oriented. It focuses on objects and combines data and functions.\n",
    "Contrarily, a procedure-oriented language revolves around functions, which are code that can be reused.\n",
    "Python supports both procedure-oriented and object-oriented programming which is one of the key python features.\n",
    "It also supports multiple inheritance, unlike Java.\n",
    "A class is a blueprint for such an object. It is an abstract data type and holds no values.\n",
    "\n",
    "8. Extensible\n",
    "If needed, you can write some of your Python code in other languages like C++.\n",
    "This makes Python an extensible language, meaning that it can be extended to other languages.\n",
    "\n",
    "9. Embeddable\n",
    "We just saw that we can put code in other languages in our Python source code.\n",
    "However, it is also possible to put our Python code in a source code in a different language like C++.\n",
    "This allows us to integrate scripting capabilities into our program of the other language.\n",
    "\n",
    "10. Large Standard Library\n",
    "Python downloads with a large library that you can use so you don’t have to write your own code for every single thing.\n",
    "There are libraries for regular expressions, documentation-generation, unit-testing, web browsers, threading, databases, CGI, email, image manipulation, and a lot of other functionality.\n",
    "\n",
    "11. GUI Programming\n",
    "Software is not user-friendly until its GUI is made. A user can easily interact with the software with a GUI.\n",
    "Python offers various libraries for making Graphical user interface for your applications.\n",
    "For this, you can use Tkinter, wxPython or JPython. These toolkits allow you for easy and fast development of GUI.\n",
    "\n",
    "12. Dynamically Typed\n",
    "Python is dynamically-typed. This means that the type for a value is decided at runtime, not in advance.\n",
    "This is why we don’t need to specify the type of data while declaring it."
   ]
  },
  {
   "cell_type": "markdown",
   "id": "c6197e97",
   "metadata": {},
   "source": [
    "# Python Syntax"
   ]
  },
  {
   "cell_type": "raw",
   "id": "d1f0f533",
   "metadata": {},
   "source": [
    "1. What are Python Identifiers?\n",
    "==> An identifier is a name of a program element, and it is user-defined. This Python Syntax uniquely identifies the element.\n",
    "like class name, function name, module name etc.\n",
    "There are some rules to follow while choosing an identifier:\n",
    "\n",
    "An identifier may only begin with A-Z, a-z, or an underscore(_).\n",
    "This may be followed by letters, digits, and underscores- zero or more.\n",
    "Python is case-sensitive. Name and name are two different identifiers.\n",
    "A reserved keyword may not be used as an identifier. The following is a list of keywords.\n",
    "and\tdef\tFalse\timport\tnot\tTrue\n",
    "as\tdel\tfinally\tin\tor\ttry\n",
    "assert\telif\tfor\tis\tpass\twhile\n",
    "break\telse\tfrom\tlambda\tprint\twith\n",
    "class\texcept\tglobal\tNone\traise\tyield\n",
    "continue\texec\tif\tnonlocal\treturn\t\n",
    "Apart from these rules, there are a few naming conventions that you should follow while using this Python syntax:\n",
    "\n",
    "Use uppercase initials for class names, lowercase for all others.\n",
    "Name a private identifier with a leading underscore ( _username)\n",
    "Name a strongly private identifier with two leading underscores ( __password)\n",
    "Special identifiers by Python end with two leading underscores."
   ]
  },
  {
   "cell_type": "raw",
   "id": "1f604654",
   "metadata": {},
   "source": [
    "2. Name various string formatters in Python.\n",
    "==> a. % Operator\n",
    "You can use the % operator to format a string to contain text as well as values of identifiers. Use %s where you want a value to appear.\n",
    "After the string, put a % operator and mention the identifiers in parameters.\n",
    "\n",
    ">>> x=10;  printer=\"HP\"\n",
    ">>> print(\"I just printed %s pages to the printer %s\" % (x, printer))\n",
    "Output:\n",
    "\n",
    "I just printed 10 pages to the printer HP\n",
    "\n",
    "b. Format Method\n",
    "The format method allows you to format a string in a similar way. At the places, you want to put values, put 0,1,2,.. in curly braces.\n",
    "Call the format method on the string and mention the identifiers in the parameters.\n",
    "\n",
    ">>> print(\"I just printed {0} pages to the printer {1}\".format(x, printer))\n",
    "\n",
    "Output:\n",
    "\n",
    "I just printed 10 pages to the printer HP\n",
    "You can also use the method to print out identifiers that match certain values.\n",
    "\n",
    ">>> print(\"I  just printed {x} pages to the printer {printer}\".format(x=7, printer='HP'))\n",
    "Output:\n",
    "\n",
    "I just printed 7 pages to the printer HP\n",
    "\n",
    "c. f-strings\n",
    "If you use an f-string, you just need to mention the identifiers in curly braces. Also, write ‘f’ right before the string, but outside the quotes used.\n",
    "\n",
    ">>> print(f\"I just printed {x} pages to the printer {printer}\")\n",
    "Output:\n",
    "\n",
    "I just printed 10 pages to the printer HP"
   ]
  },
  {
   "cell_type": "raw",
   "id": "b8ebd09f",
   "metadata": {},
   "source": [
    "3. What is the use of Python Docstrings?\n",
    "==> A docstring is a documentation string. As a comment, this Python Syntax is used to explain code.\n",
    "\n",
    "But unlike comments, they are more specific. Also, they are retained at runtime.\n",
    "\n",
    "This way, the programmer can inspect them at runtime. Delimit a docstring using three double-quotes. You may put it as a function’s first line to describe it.\n"
   ]
  },
  {
   "cell_type": "code",
   "execution_count": 7,
   "id": "a137f546",
   "metadata": {},
   "outputs": [
    {
     "data": {
      "text/plain": [
       "'\\n  This docstring is retained at runtime to debug hence printed in output\\n'"
      ]
     },
     "execution_count": 7,
     "metadata": {},
     "output_type": "execute_result"
    }
   ],
   "source": [
    "\"\"\"\n",
    "  This docstring is retained at runtime to debug hence printed in output\n",
    "\"\"\"\n",
    "# Comments are not retained at runtime"
   ]
  },
  {
   "cell_type": "raw",
   "id": "8401ad32",
   "metadata": {},
   "source": [
    "4. What is the use of Python Multiline Statements?\n",
    "==> sometimes, you may want to split a statement over two or more lines.\n",
    "It may be to aid readability. \n",
    "a. Use a backward slash\n",
    "b. Put the String in Triple Quotes\n"
   ]
  },
  {
   "cell_type": "raw",
   "id": "93ead88f",
   "metadata": {},
   "source": [
    "5. Explain Python Quotations.\n",
    "==> Python supports the single quote and the double quote for string literals. But if you begin a string with a single quote, you must end it with a single quote.\n",
    "\n",
    "The same goes for double-quotes."
   ]
  },
  {
   "cell_type": "markdown",
   "id": "71afda2a",
   "metadata": {},
   "source": [
    "## Indentation, Comments and statements"
   ]
  },
  {
   "cell_type": "raw",
   "id": "e53d13c3",
   "metadata": {},
   "source": [
    "1. What are the various types of Python Statements?\n",
    "==> 1. Multiline Python Statement\n",
    ">>> a=\\\n",
    "    10\\\n",
    "    +20\n",
    ">>> a\n",
    "o/p: 30\n",
    "\n",
    "2. Multiple Python Statement in One Line\n",
    ">>> a=7; print(a)\n",
    "o/p: 7\n",
    "\n",
    "3. Strings Python Statements\n",
    ">>> \"Hello 'user'\"\n",
    "o/p: “Hello ‘user'”\n",
    "\n",
    "4. Blank Lines Python Statements\n",
    "The interpreter simply ignores blank lines."
   ]
  },
  {
   "cell_type": "raw",
   "id": "2838d6b8",
   "metadata": {},
   "source": [
    "2. How to write comments in Python?\n",
    "==> 1. Multiline Python Comment\n",
    ">>> #Line 1 of comment\n",
    ">>> #Line 2 of comment\n",
    ">>> #Line 3 of comment\n",
    "\n",
    ">>> \"\"\"This comment\n",
    "is spanned across\n",
    "multiple lines\"\"\"\n",
    "\n",
    "Triple quotes will also preserve formatting.\n",
    "\n",
    "2. Docstrings Python Comment\n",
    "A docstring is a documentation string in Python. It is the first statement in a module, function, class, or method in Python.\n",
    "\n",
    "In this, you will learn what a python function/class does.\n",
    ">>> def sayhi():\n",
    "  \"\"\"\n",
    "  This function prints Hi\n",
    "  \"\"\"\n",
    "  print(\"Hi\")             \n",
    ">>> sayhi()\n",
    "\n",
    "To check a function’s docstring, use its __doc__ attribute.\n",
    ">>> def sayhi():\n",
    "  \"\"\"\n",
    "  This function prints Hi\n",
    "  \"\"\"\n",
    "  print(\"Hi\")            \n",
    ">>> sayhi.__doc__\n",
    "\n",
    "The interpreter is unable to get the docstring to a function if it isn’t the first thing in the python function.\n",
    ">>> def sayhi():\n",
    "  print(\"Hi\")\n",
    "  \"\"\"\n",
    "  This function prints Hi\n",
    "  \"\"\"           \n",
    ">>> sayhi.__doc__\n",
    ">>>"
   ]
  },
  {
   "cell_type": "raw",
   "id": "3c347ca7",
   "metadata": {},
   "source": [
    "3. What is the use of Hash # in Python\n",
    "==> to add comment to the code."
   ]
  },
  {
   "cell_type": "raw",
   "id": "86a4b44b",
   "metadata": {},
   "source": [
    "4. Why do we need proper indentation in Python?\n",
    "==> Unlike C++ or Java, Python does not use curly braces for indentation.\n",
    "\n",
    "Instead, Python mandates indentation. \n",
    "\n",
    "There are no strict rules on what kind of Python indentation you use. But it must be consistent throughout the block.\n",
    "\n",
    ">>> if 2>1:\n",
    "                print(\"2\")"
   ]
  },
  {
   "cell_type": "code",
   "execution_count": 10,
   "id": "f416a3a2",
   "metadata": {},
   "outputs": [
    {
     "name": "stdout",
     "output_type": "stream",
     "text": [
      "Hi\n"
     ]
    }
   ],
   "source": [
    "# 5. Write a code explaining Docstring Python Comment.\n",
    "def sayhi():\n",
    "  \"\"\"\n",
    "  This function prints Hi\n",
    "  \"\"\"\n",
    "  print(\"Hi\")             \n",
    "sayhi()"
   ]
  },
  {
   "cell_type": "code",
   "execution_count": 11,
   "id": "d4d4cca5",
   "metadata": {},
   "outputs": [
    {
     "data": {
      "text/plain": [
       "'\\n  This function prints Hi\\n  '"
      ]
     },
     "execution_count": 11,
     "metadata": {},
     "output_type": "execute_result"
    }
   ],
   "source": [
    "# To check a function’s docstring, use its __doc__ attribute.\n",
    "def sayhi():\n",
    "  \"\"\"\n",
    "  This function prints Hi\n",
    "  \"\"\"\n",
    "  print(\"Hi\")            \n",
    "sayhi.__doc__"
   ]
  },
  {
   "cell_type": "code",
   "execution_count": null,
   "id": "38857a4b",
   "metadata": {},
   "outputs": [],
   "source": []
  }
 ],
 "metadata": {
  "kernelspec": {
   "display_name": "Python 3 (ipykernel)",
   "language": "python",
   "name": "python3"
  },
  "language_info": {
   "codemirror_mode": {
    "name": "ipython",
    "version": 3
   },
   "file_extension": ".py",
   "mimetype": "text/x-python",
   "name": "python",
   "nbconvert_exporter": "python",
   "pygments_lexer": "ipython3",
   "version": "3.9.7"
  }
 },
 "nbformat": 4,
 "nbformat_minor": 5
}
