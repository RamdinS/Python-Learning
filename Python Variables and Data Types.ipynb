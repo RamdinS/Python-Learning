{
 "cells": [
  {
   "cell_type": "markdown",
   "id": "3444531a",
   "metadata": {},
   "source": [
    "# Python Variables and Data types"
   ]
  },
  {
   "cell_type": "raw",
   "id": "f8237851",
   "metadata": {},
   "source": [
    "A variable is a container for a value. It can be assigned a name, you can use it to refer to it later in the program."
   ]
  },
  {
   "cell_type": "code",
   "execution_count": 2,
   "id": "f4bb48cb",
   "metadata": {},
   "outputs": [],
   "source": [
    "flag=0\n",
    "_9lives='cat'\n",
    "year2='Sophomore'\n",
    "name='Ayushi'\n",
    "# valid variable names"
   ]
  },
  {
   "cell_type": "code",
   "execution_count": 3,
   "id": "469ebc65",
   "metadata": {},
   "outputs": [
    {
     "ename": "SyntaxError",
     "evalue": "invalid syntax (Temp/ipykernel_10012/866560351.py, line 1)",
     "output_type": "error",
     "traceback": [
      "\u001b[1;36m  File \u001b[1;32m\"C:\\Users\\saura\\AppData\\Local\\Temp/ipykernel_10012/866560351.py\"\u001b[1;36m, line \u001b[1;32m1\u001b[0m\n\u001b[1;33m    _$$=7\u001b[0m\n\u001b[1;37m     ^\u001b[0m\n\u001b[1;31mSyntaxError\u001b[0m\u001b[1;31m:\u001b[0m invalid syntax\n"
     ]
    }
   ],
   "source": [
    "_$$=7\n",
    "9lives=9\n",
    "# invalid variable names"
   ]
  },
  {
   "cell_type": "markdown",
   "id": "c083cfcf",
   "metadata": {},
   "source": [
    "### Assigning and Reassigning Python Variables"
   ]
  },
  {
   "cell_type": "code",
   "execution_count": 4,
   "id": "6eae422e",
   "metadata": {},
   "outputs": [
    {
     "name": "stdout",
     "output_type": "stream",
     "text": [
      "7\n",
      "Dinosaur\n"
     ]
    }
   ],
   "source": [
    "age=7\n",
    "print(age)\n",
    "age='Dinosaur'\n",
    "print(age)"
   ]
  },
  {
   "cell_type": "code",
   "execution_count": 6,
   "id": "1c101368",
   "metadata": {},
   "outputs": [
    {
     "ename": "NameError",
     "evalue": "name 'str1' is not defined",
     "output_type": "error",
     "traceback": [
      "\u001b[1;31m---------------------------------------------------------------------------\u001b[0m",
      "\u001b[1;31mNameError\u001b[0m                                 Traceback (most recent call last)",
      "\u001b[1;32m~\\AppData\\Local\\Temp/ipykernel_10012/1353994314.py\u001b[0m in \u001b[0;36m<module>\u001b[1;34m\u001b[0m\n\u001b[1;32m----> 1\u001b[1;33m \u001b[0mstr1\u001b[0m\u001b[1;33m\u001b[0m\u001b[1;33m\u001b[0m\u001b[0m\n\u001b[0m\u001b[0;32m      2\u001b[0m \u001b[1;31m#cannot use Python variables before assigning it a value.\u001b[0m\u001b[1;33m\u001b[0m\u001b[1;33m\u001b[0m\u001b[0m\n",
      "\u001b[1;31mNameError\u001b[0m: name 'str1' is not defined"
     ]
    }
   ],
   "source": [
    "str1\n",
    "#cannot use Python variables before assigning it a value."
   ]
  },
  {
   "cell_type": "markdown",
   "id": "7dd704c3",
   "metadata": {},
   "source": [
    "### Multiple Assignment"
   ]
  },
  {
   "cell_type": "code",
   "execution_count": 11,
   "id": "4d2ced64",
   "metadata": {},
   "outputs": [
    {
     "name": "stdout",
     "output_type": "stream",
     "text": [
      "21 Indore\n",
      "7 7\n"
     ]
    }
   ],
   "source": [
    "age,city=21,'Indore'\n",
    "print(age,city)\n",
    "age=fav=7\n",
    "print(age,fav)"
   ]
  },
  {
   "cell_type": "markdown",
   "id": "b8979729",
   "metadata": {},
   "source": [
    "### Swapping Variables"
   ]
  },
  {
   "cell_type": "code",
   "execution_count": 10,
   "id": "f62ab538",
   "metadata": {},
   "outputs": [
    {
     "name": "stdout",
     "output_type": "stream",
     "text": [
      "red blue\n",
      "blue red\n"
     ]
    }
   ],
   "source": [
    "a,b='red','blue'\n",
    "print(a,b)\n",
    "a,b=b,a\n",
    "print(a,b)"
   ]
  },
  {
   "cell_type": "markdown",
   "id": "a2f4a530",
   "metadata": {},
   "source": [
    "### Deleting Variables"
   ]
  },
  {
   "cell_type": "code",
   "execution_count": 13,
   "id": "081bf099",
   "metadata": {},
   "outputs": [
    {
     "name": "stdout",
     "output_type": "stream",
     "text": [
      "red\n"
     ]
    },
    {
     "ename": "NameError",
     "evalue": "name 'a' is not defined",
     "output_type": "error",
     "traceback": [
      "\u001b[1;31m---------------------------------------------------------------------------\u001b[0m",
      "\u001b[1;31mNameError\u001b[0m                                 Traceback (most recent call last)",
      "\u001b[1;32m~\\AppData\\Local\\Temp/ipykernel_10012/813384872.py\u001b[0m in \u001b[0;36m<module>\u001b[1;34m\u001b[0m\n\u001b[0;32m      2\u001b[0m \u001b[0mprint\u001b[0m\u001b[1;33m(\u001b[0m\u001b[0ma\u001b[0m\u001b[1;33m)\u001b[0m\u001b[1;33m\u001b[0m\u001b[1;33m\u001b[0m\u001b[0m\n\u001b[0;32m      3\u001b[0m \u001b[1;32mdel\u001b[0m \u001b[0ma\u001b[0m\u001b[1;33m\u001b[0m\u001b[1;33m\u001b[0m\u001b[0m\n\u001b[1;32m----> 4\u001b[1;33m \u001b[0mprint\u001b[0m\u001b[1;33m(\u001b[0m\u001b[0ma\u001b[0m\u001b[1;33m)\u001b[0m\u001b[1;33m\u001b[0m\u001b[1;33m\u001b[0m\u001b[0m\n\u001b[0m",
      "\u001b[1;31mNameError\u001b[0m: name 'a' is not defined"
     ]
    }
   ],
   "source": [
    "a='red'\n",
    "print(a)\n",
    "del a\n",
    "print(a)"
   ]
  },
  {
   "cell_type": "markdown",
   "id": "5fd312c4",
   "metadata": {},
   "source": [
    "# Python Data Types"
   ]
  },
  {
   "cell_type": "markdown",
   "id": "c758fa72",
   "metadata": {},
   "source": [
    "### 1. Python Numbers"
   ]
  },
  {
   "cell_type": "code",
   "execution_count": 15,
   "id": "a3bc48f8",
   "metadata": {},
   "outputs": [
    {
     "data": {
      "text/plain": [
       "int"
      ]
     },
     "execution_count": 15,
     "metadata": {},
     "output_type": "execute_result"
    }
   ],
   "source": [
    "#int\n",
    "a=-7\n",
    "type(a)"
   ]
  },
  {
   "cell_type": "code",
   "execution_count": 17,
   "id": "7d100ba4",
   "metadata": {},
   "outputs": [
    {
     "data": {
      "text/plain": [
       "float"
      ]
     },
     "execution_count": 17,
     "metadata": {},
     "output_type": "execute_result"
    }
   ],
   "source": [
    "#float\n",
    "a=3.0\n",
    "type(a)"
   ]
  },
  {
   "cell_type": "code",
   "execution_count": 18,
   "id": "5e0d209e",
   "metadata": {},
   "outputs": [
    {
     "data": {
      "text/plain": [
       "complex"
      ]
     },
     "execution_count": 18,
     "metadata": {},
     "output_type": "execute_result"
    }
   ],
   "source": [
    "#complex\n",
    ">>> a=2+3j\n",
    ">>> type(a)"
   ]
  },
  {
   "cell_type": "markdown",
   "id": "30d50e3d",
   "metadata": {},
   "source": [
    "### 2. Strings"
   ]
  },
  {
   "cell_type": "code",
   "execution_count": 19,
   "id": "a0f514b2",
   "metadata": {},
   "outputs": [
    {
     "data": {
      "text/plain": [
       "'Ahmedabad'"
      ]
     },
     "execution_count": 19,
     "metadata": {},
     "output_type": "execute_result"
    }
   ],
   "source": [
    "city='Ahmedabad'\n",
    "city"
   ]
  },
  {
   "cell_type": "code",
   "execution_count": 20,
   "id": "bd435c6d",
   "metadata": {},
   "outputs": [
    {
     "data": {
      "text/plain": [
       "'If\\nonly'"
      ]
     },
     "execution_count": 20,
     "metadata": {},
     "output_type": "execute_result"
    }
   ],
   "source": [
    "#Spanning a String Across Lines\n",
    "var=\"\"\"If\n",
    "\"\"\"\n",
    "var"
   ]
  },
  {
   "cell_type": "code",
   "execution_count": 50,
   "id": "bdff4602",
   "metadata": {},
   "outputs": [
    {
     "ename": "TypeError",
     "evalue": "'str' object does not support item assignment",
     "output_type": "error",
     "traceback": [
      "\u001b[1;31m---------------------------------------------------------------------------\u001b[0m",
      "\u001b[1;31mTypeError\u001b[0m                                 Traceback (most recent call last)",
      "\u001b[1;32m~\\AppData\\Local\\Temp/ipykernel_10012/226688498.py\u001b[0m in \u001b[0;36m<module>\u001b[1;34m\u001b[0m\n\u001b[0;32m      1\u001b[0m \u001b[0mstr1\u001b[0m\u001b[1;33m=\u001b[0m\u001b[1;34m'saurabh'\u001b[0m\u001b[1;33m\u001b[0m\u001b[1;33m\u001b[0m\u001b[0m\n\u001b[1;32m----> 2\u001b[1;33m \u001b[0mstr1\u001b[0m\u001b[1;33m[\u001b[0m\u001b[1;36m2\u001b[0m\u001b[1;33m]\u001b[0m\u001b[1;33m=\u001b[0m\u001b[1;34m'v'\u001b[0m \u001b[1;31m# strings are immutable\u001b[0m\u001b[1;33m\u001b[0m\u001b[1;33m\u001b[0m\u001b[0m\n\u001b[0m",
      "\u001b[1;31mTypeError\u001b[0m: 'str' object does not support item assignment"
     ]
    }
   ],
   "source": [
    "str1='saurabh'\n",
    "str1[2]='v' # strings are immutable "
   ]
  },
  {
   "cell_type": "code",
   "execution_count": 22,
   "id": "e072e826",
   "metadata": {},
   "outputs": [
    {
     "name": "stdout",
     "output_type": "stream",
     "text": [
      "d\n",
      "point\n"
     ]
    }
   ],
   "source": [
    "#Displaying Part of a String -- indexing\n",
    "lesson='disappointment'\n",
    "print(lesson[0])\n",
    "print(lesson[5:10])"
   ]
  },
  {
   "cell_type": "code",
   "execution_count": 24,
   "id": "1ffd41f9",
   "metadata": {},
   "outputs": [
    {
     "name": "stdout",
     "output_type": "stream",
     "text": [
      "I just printed 10 pages to the printer Dell\n"
     ]
    }
   ],
   "source": [
    "#String Formatters\n",
    "# % operator\n",
    "x=10;\n",
    "printer=\"Dell\"\n",
    "print(\"I just printed %s pages to the printer %s\" % (x, printer))"
   ]
  },
  {
   "cell_type": "code",
   "execution_count": 26,
   "id": "666d028a",
   "metadata": {},
   "outputs": [
    {
     "name": "stdout",
     "output_type": "stream",
     "text": [
      "I just printed 10 pages to the printer Dell\n",
      "I  just printed 7 pages to the printer Dell\n"
     ]
    }
   ],
   "source": [
    "# format method\n",
    "print(\"I just printed {0} pages to the printer {1}\".format(x, printer))\n",
    "print(\"I  just printed {x} pages to the printer {printer}\".format(x=7, printer=\"Dell\"))"
   ]
  },
  {
   "cell_type": "code",
   "execution_count": 27,
   "id": "92e40df6",
   "metadata": {},
   "outputs": [
    {
     "name": "stdout",
     "output_type": "stream",
     "text": [
      "I just printed 10 pages to the printer Dell\n"
     ]
    }
   ],
   "source": [
    "# f-string\n",
    "print(f\"I just printed {x} pages to the printer {printer}\")"
   ]
  },
  {
   "cell_type": "code",
   "execution_count": 28,
   "id": "5cee2c9d",
   "metadata": {},
   "outputs": [
    {
     "name": "stdout",
     "output_type": "stream",
     "text": [
      "1010\n"
     ]
    }
   ],
   "source": [
    "#String Concatenation\n",
    "a='10'\n",
    "print(a+a)"
   ]
  },
  {
   "cell_type": "code",
   "execution_count": 30,
   "id": "cae5400c",
   "metadata": {},
   "outputs": [
    {
     "ename": "TypeError",
     "evalue": "can only concatenate str (not \"int\") to str",
     "output_type": "error",
     "traceback": [
      "\u001b[1;31m---------------------------------------------------------------------------\u001b[0m",
      "\u001b[1;31mTypeError\u001b[0m                                 Traceback (most recent call last)",
      "\u001b[1;32m~\\AppData\\Local\\Temp/ipykernel_10012/2811141608.py\u001b[0m in \u001b[0;36m<module>\u001b[1;34m\u001b[0m\n\u001b[1;32m----> 1\u001b[1;33m \u001b[0mprint\u001b[0m\u001b[1;33m(\u001b[0m\u001b[1;34m'10'\u001b[0m\u001b[1;33m+\u001b[0m\u001b[1;36m10\u001b[0m\u001b[1;33m)\u001b[0m \u001b[1;31m# cannot concatenate values of different types.\u001b[0m\u001b[1;33m\u001b[0m\u001b[1;33m\u001b[0m\u001b[0m\n\u001b[0m",
      "\u001b[1;31mTypeError\u001b[0m: can only concatenate str (not \"int\") to str"
     ]
    }
   ],
   "source": [
    "print('10'+10) # cannot concatenate values of different types."
   ]
  },
  {
   "cell_type": "markdown",
   "id": "310bbee3",
   "metadata": {},
   "source": [
    "### 3. Python Lists"
   ]
  },
  {
   "cell_type": "code",
   "execution_count": 32,
   "id": "bf9ae6f7",
   "metadata": {},
   "outputs": [
    {
     "data": {
      "text/plain": [
       "['Monday', 'Tuesday', 3, 4, 5, 6, 7]"
      ]
     },
     "execution_count": 32,
     "metadata": {},
     "output_type": "execute_result"
    }
   ],
   "source": [
    "# it may contain different types of values.\n",
    "# To define a list, you must put values separated with commas in square brackets. \n",
    "# You don’t need to declare a type for a list either.\n",
    "\n",
    "days=['Monday','Tuesday',3,4,5,6,7]\n",
    "days"
   ]
  },
  {
   "cell_type": "code",
   "execution_count": 38,
   "id": "573ee150",
   "metadata": {},
   "outputs": [
    {
     "name": "stdout",
     "output_type": "stream",
     "text": [
      "['Tuesday', 3]\n",
      "[3, 4, 5, 6]\n",
      "['Monday', 'Tuesday']\n"
     ]
    }
   ],
   "source": [
    "#Slicing a List\n",
    "print(days[1:3])\n",
    "print(days[2:6])\n",
    "print(days[:2])"
   ]
  },
  {
   "cell_type": "code",
   "execution_count": 39,
   "id": "b37100bd",
   "metadata": {},
   "outputs": [
    {
     "data": {
      "text/plain": [
       "7"
      ]
     },
     "execution_count": 39,
     "metadata": {},
     "output_type": "execute_result"
    }
   ],
   "source": [
    "#Length of a List\n",
    "len(days)"
   ]
  },
  {
   "cell_type": "code",
   "execution_count": 40,
   "id": "87155d90",
   "metadata": {},
   "outputs": [
    {
     "data": {
      "text/plain": [
       "['Monday', 'Tuesday', 'Wednesday', 4, 5, 6, 7]"
      ]
     },
     "execution_count": 40,
     "metadata": {},
     "output_type": "execute_result"
    }
   ],
   "source": [
    "#Reassigning Elements of a List as lists are mutable\n",
    "days[2]='Wednesday'\n",
    "days"
   ]
  },
  {
   "cell_type": "code",
   "execution_count": 51,
   "id": "3d35f210",
   "metadata": {},
   "outputs": [
    {
     "name": "stdout",
     "output_type": "stream",
     "text": [
      "1\n",
      "2\n",
      "5\n",
      "6\n",
      "8\n"
     ]
    }
   ],
   "source": [
    "#Iterating on the List\n",
    "nums = [1,2,5,6,8]\n",
    "for n in nums:\n",
    "    print(n)"
   ]
  },
  {
   "cell_type": "code",
   "execution_count": 55,
   "id": "4a7d7327",
   "metadata": {},
   "outputs": [
    {
     "name": "stdout",
     "output_type": "stream",
     "text": [
      "[[1, 2, 3], [4, 5, 6]]\n",
      "6\n",
      "2\n"
     ]
    }
   ],
   "source": [
    "#Multidimensional Lists\n",
    "\n",
    "a=[[1,2,3],[4,5,6]]\n",
    "print(a)\n",
    "print(a[1][2])\n",
    "print(a[0][1])"
   ]
  },
  {
   "cell_type": "markdown",
   "id": "5b4e4571",
   "metadata": {},
   "source": [
    "### 4. Python Tuples"
   ]
  },
  {
   "cell_type": "code",
   "execution_count": 59,
   "id": "2a92d0ba",
   "metadata": {},
   "outputs": [
    {
     "data": {
      "text/plain": [
       "('Physics', 'Chemistry', '1')"
      ]
     },
     "execution_count": 59,
     "metadata": {},
     "output_type": "execute_result"
    }
   ],
   "source": [
    "#A tuple is like a list. You declare it using parentheses instead.\n",
    "subjects=('Physics','Chemistry','1')\n",
    "subjects"
   ]
  },
  {
   "cell_type": "code",
   "execution_count": 58,
   "id": "cac2fa9b",
   "metadata": {},
   "outputs": [
    {
     "data": {
      "text/plain": [
       "'Chemistry'"
      ]
     },
     "execution_count": 58,
     "metadata": {},
     "output_type": "execute_result"
    }
   ],
   "source": [
    "#Accessing and Slicing a Tuple\n",
    "subjects[1]"
   ]
  },
  {
   "cell_type": "code",
   "execution_count": 60,
   "id": "2bed5261",
   "metadata": {},
   "outputs": [
    {
     "data": {
      "text/plain": [
       "('Physics', 'Chemistry')"
      ]
     },
     "execution_count": 60,
     "metadata": {},
     "output_type": "execute_result"
    }
   ],
   "source": [
    "subjects[0:2]"
   ]
  },
  {
   "cell_type": "code",
   "execution_count": 61,
   "id": "c114a80b",
   "metadata": {},
   "outputs": [
    {
     "ename": "TypeError",
     "evalue": "'tuple' object does not support item assignment",
     "output_type": "error",
     "traceback": [
      "\u001b[1;31m---------------------------------------------------------------------------\u001b[0m",
      "\u001b[1;31mTypeError\u001b[0m                                 Traceback (most recent call last)",
      "\u001b[1;32m~\\AppData\\Local\\Temp/ipykernel_10012/527114460.py\u001b[0m in \u001b[0;36m<module>\u001b[1;34m\u001b[0m\n\u001b[0;32m      1\u001b[0m \u001b[1;31m#A tuple is Immutable\u001b[0m\u001b[1;33m\u001b[0m\u001b[1;33m\u001b[0m\u001b[0m\n\u001b[1;32m----> 2\u001b[1;33m \u001b[0msubjects\u001b[0m\u001b[1;33m[\u001b[0m\u001b[1;36m2\u001b[0m\u001b[1;33m]\u001b[0m\u001b[1;33m=\u001b[0m\u001b[1;34m'Biology'\u001b[0m\u001b[1;33m\u001b[0m\u001b[1;33m\u001b[0m\u001b[0m\n\u001b[0m",
      "\u001b[1;31mTypeError\u001b[0m: 'tuple' object does not support item assignment"
     ]
    }
   ],
   "source": [
    "#A tuple is Immutable\n",
    "subjects[2]='Biology'"
   ]
  },
  {
   "cell_type": "markdown",
   "id": "8c29c4b9",
   "metadata": {},
   "source": [
    "### 5. Dictionaries"
   ]
  },
  {
   "cell_type": "code",
   "execution_count": 66,
   "id": "27650496",
   "metadata": {},
   "outputs": [
    {
     "data": {
      "text/plain": [
       "{'city': 'Ahmedabad', 'age': 7}"
      ]
     },
     "execution_count": 66,
     "metadata": {},
     "output_type": "execute_result"
    }
   ],
   "source": [
    "#A dictionary holds key-value pairs. Declare it in curly braces, \n",
    "#with pairs separated by commas. Separate keys and values by a colon(:).\n",
    "\n",
    "person={'city':'Ahmedabad','age':7}\n",
    "person"
   ]
  },
  {
   "cell_type": "code",
   "execution_count": 67,
   "id": "d9735c87",
   "metadata": {},
   "outputs": [
    {
     "data": {
      "text/plain": [
       "'Ahmedabad'"
      ]
     },
     "execution_count": 67,
     "metadata": {},
     "output_type": "execute_result"
    }
   ],
   "source": [
    "# Accessing a Value\n",
    "person['city']"
   ]
  },
  {
   "cell_type": "code",
   "execution_count": 68,
   "id": "ceb7c924",
   "metadata": {},
   "outputs": [
    {
     "name": "stdout",
     "output_type": "stream",
     "text": [
      "7\n",
      "21\n"
     ]
    }
   ],
   "source": [
    "#Reassigning Elements -- Dictionary is mutable\n",
    "print(person['age'])\n",
    "person['age']=21\n",
    "print(person['age'])"
   ]
  },
  {
   "cell_type": "code",
   "execution_count": 70,
   "id": "7441eae7",
   "metadata": {},
   "outputs": [
    {
     "data": {
      "text/plain": [
       "dict_keys(['city', 'age'])"
      ]
     },
     "execution_count": 70,
     "metadata": {},
     "output_type": "execute_result"
    }
   ],
   "source": [
    "#List of Keys\n",
    "#Use the keys() function to get a list of keys in the dictionary.\n",
    "person.keys()"
   ]
  },
  {
   "cell_type": "markdown",
   "id": "4ac4ed14",
   "metadata": {},
   "source": [
    "### 6. bool"
   ]
  },
  {
   "cell_type": "code",
   "execution_count": 72,
   "id": "44bd01dc",
   "metadata": {},
   "outputs": [
    {
     "name": "stdout",
     "output_type": "stream",
     "text": [
      "True <class 'bool'>\n"
     ]
    }
   ],
   "source": [
    "#A Boolean value can be True or False.\n",
    "a=2>1\n",
    "print(a,type(a))"
   ]
  },
  {
   "cell_type": "markdown",
   "id": "a6dcb060",
   "metadata": {},
   "source": [
    "### 7. Sets"
   ]
  },
  {
   "cell_type": "code",
   "execution_count": 74,
   "id": "8fbdd786",
   "metadata": {},
   "outputs": [
    {
     "data": {
      "text/plain": [
       "{1, 2, 3}"
      ]
     },
     "execution_count": 74,
     "metadata": {},
     "output_type": "execute_result"
    }
   ],
   "source": [
    "#A set can have a list of values. Define it using curly braces.\n",
    "a={1,2,3}\n",
    "a"
   ]
  },
  {
   "cell_type": "code",
   "execution_count": 76,
   "id": "719c6f53",
   "metadata": {},
   "outputs": [
    {
     "data": {
      "text/plain": [
       "{1, 2, 3}"
      ]
     },
     "execution_count": 76,
     "metadata": {},
     "output_type": "execute_result"
    }
   ],
   "source": [
    "#It returns only one instance of any value present more than once.\n",
    "a={1,2,2,3}\n",
    "a"
   ]
  },
  {
   "cell_type": "code",
   "execution_count": 77,
   "id": "e60d93fd",
   "metadata": {},
   "outputs": [
    {
     "ename": "TypeError",
     "evalue": "'set' object is not subscriptable",
     "output_type": "error",
     "traceback": [
      "\u001b[1;31m---------------------------------------------------------------------------\u001b[0m",
      "\u001b[1;31mTypeError\u001b[0m                                 Traceback (most recent call last)",
      "\u001b[1;32m~\\AppData\\Local\\Temp/ipykernel_10012/1618321246.py\u001b[0m in \u001b[0;36m<module>\u001b[1;34m\u001b[0m\n\u001b[0;32m      1\u001b[0m \u001b[1;31m#However, a set is unordered, so it doesn’t support indexing.\u001b[0m\u001b[1;33m\u001b[0m\u001b[1;33m\u001b[0m\u001b[0m\n\u001b[1;32m----> 2\u001b[1;33m \u001b[0ma\u001b[0m\u001b[1;33m[\u001b[0m\u001b[1;36m2\u001b[0m\u001b[1;33m]\u001b[0m\u001b[1;33m\u001b[0m\u001b[1;33m\u001b[0m\u001b[0m\n\u001b[0m",
      "\u001b[1;31mTypeError\u001b[0m: 'set' object is not subscriptable"
     ]
    }
   ],
   "source": [
    "#However, a set is unordered, so it doesn’t support indexing.\n",
    "a[2]"
   ]
  },
  {
   "cell_type": "code",
   "execution_count": 80,
   "id": "617bef41",
   "metadata": {},
   "outputs": [
    {
     "name": "stdout",
     "output_type": "stream",
     "text": [
      "{1, 2, 3, 4}\n",
      "{1, 2, 3}\n",
      "{1, 2, 3, 5}\n"
     ]
    }
   ],
   "source": [
    "#Also, it is mutable. You can change its elements or add more. Use the add() and remove() methods to do so.\n",
    "a={1,2,3,4}\n",
    "print(a)\n",
    "a.remove(4)\n",
    "print(a)\n",
    "a.add(5)\n",
    "print(a)"
   ]
  },
  {
   "cell_type": "markdown",
   "id": "41fc80fe",
   "metadata": {},
   "source": [
    "# Type Conversion"
   ]
  },
  {
   "cell_type": "code",
   "execution_count": 87,
   "id": "5a2ab519",
   "metadata": {},
   "outputs": [
    {
     "name": "stdout",
     "output_type": "stream",
     "text": [
      "1. int()\n",
      "3.7 [float] to [int] -->  3\n",
      "True [bool] to [int] -->  1\n",
      "77 [numeric string] to [int] -->  77\n"
     ]
    }
   ],
   "source": [
    "print(\"1. int()\")\n",
    "print(\"3.7 [float] to [int] --> \",int(3.7))\n",
    "print(\"True [bool] to [int] --> \",int(True))\n",
    "print(\"77 [numeric string] to [int] --> \",int(\"77\"))"
   ]
  },
  {
   "cell_type": "code",
   "execution_count": 88,
   "id": "7fbf89e8",
   "metadata": {},
   "outputs": [
    {
     "ename": "ValueError",
     "evalue": "invalid literal for int() with base 10: 'str1'",
     "output_type": "error",
     "traceback": [
      "\u001b[1;31m---------------------------------------------------------------------------\u001b[0m",
      "\u001b[1;31mValueError\u001b[0m                                Traceback (most recent call last)",
      "\u001b[1;32m~\\AppData\\Local\\Temp/ipykernel_10012/3932921889.py\u001b[0m in \u001b[0;36m<module>\u001b[1;34m\u001b[0m\n\u001b[0;32m      1\u001b[0m \u001b[1;31m# can not convert alphanumeric strng to int\u001b[0m\u001b[1;33m\u001b[0m\u001b[1;33m\u001b[0m\u001b[0m\n\u001b[1;32m----> 2\u001b[1;33m \u001b[0mint\u001b[0m\u001b[1;33m(\u001b[0m\u001b[1;34m\"str1\"\u001b[0m\u001b[1;33m)\u001b[0m\u001b[1;33m\u001b[0m\u001b[1;33m\u001b[0m\u001b[0m\n\u001b[0m",
      "\u001b[1;31mValueError\u001b[0m: invalid literal for int() with base 10: 'str1'"
     ]
    }
   ],
   "source": [
    "# can not convert alphanumeric strng to int\n",
    "int(\"str1\")"
   ]
  },
  {
   "cell_type": "code",
   "execution_count": 91,
   "id": "858f6fb7",
   "metadata": {},
   "outputs": [
    {
     "name": "stdout",
     "output_type": "stream",
     "text": [
      "1. float()\n",
      "7 [int] to [float] -->  7.0\n",
      "True [bool] to [float] -->  1.0\n",
      "77 [numeric string] to [float] -->  77.0\n"
     ]
    }
   ],
   "source": [
    "print(\"1. float()\")\n",
    "print(\"7 [int] to [float] --> \",float(7))\n",
    "print(\"True [bool] to [float] --> \",float(True))\n",
    "print(\"77 [numeric string] to [float] --> \",float(\"77\"))"
   ]
  },
  {
   "cell_type": "code",
   "execution_count": 92,
   "id": "e41da341",
   "metadata": {},
   "outputs": [
    {
     "data": {
      "text/plain": [
       "0.021"
      ]
     },
     "execution_count": 92,
     "metadata": {},
     "output_type": "execute_result"
    }
   ],
   "source": [
    "#can also use ‘e’ to denote an exponential number.\n",
    "float(\"2.1e-2\")"
   ]
  },
  {
   "cell_type": "code",
   "execution_count": 93,
   "id": "62a41d6e",
   "metadata": {},
   "outputs": [
    {
     "ename": "ValueError",
     "evalue": "could not convert string to float: 'str1'",
     "output_type": "error",
     "traceback": [
      "\u001b[1;31m---------------------------------------------------------------------------\u001b[0m",
      "\u001b[1;31mValueError\u001b[0m                                Traceback (most recent call last)",
      "\u001b[1;32m~\\AppData\\Local\\Temp/ipykernel_10012/1509663565.py\u001b[0m in \u001b[0;36m<module>\u001b[1;34m\u001b[0m\n\u001b[0;32m      1\u001b[0m \u001b[1;31m# can not convert alphanumeric strng to float\u001b[0m\u001b[1;33m\u001b[0m\u001b[1;33m\u001b[0m\u001b[0m\n\u001b[1;32m----> 2\u001b[1;33m \u001b[0mfloat\u001b[0m\u001b[1;33m(\u001b[0m\u001b[1;34m\"str1\"\u001b[0m\u001b[1;33m)\u001b[0m\u001b[1;33m\u001b[0m\u001b[1;33m\u001b[0m\u001b[0m\n\u001b[0m",
      "\u001b[1;31mValueError\u001b[0m: could not convert string to float: 'str1'"
     ]
    }
   ],
   "source": [
    "# can not convert alphanumeric strng to float\n",
    "float(\"str1\")"
   ]
  },
  {
   "cell_type": "code",
   "execution_count": 98,
   "id": "e11ebd3a",
   "metadata": {},
   "outputs": [
    {
     "name": "stdout",
     "output_type": "stream",
     "text": [
      "3. str()\n",
      "2.1\n",
      "True\n",
      "[2, 3, 4]\n"
     ]
    }
   ],
   "source": [
    "print(\"3. str()\") #It converts the value into a string.\n",
    "print(str(2.1))\n",
    "print(str(True))\n",
    "print(str([2,3,4])) #can also convert a list, a tuple, a set, or a dictionary into a string."
   ]
  },
  {
   "cell_type": "code",
   "execution_count": 103,
   "id": "92b41b6e",
   "metadata": {},
   "outputs": [
    {
     "name": "stdout",
     "output_type": "stream",
     "text": [
      "4. bool()\n",
      "3 -->  True\n",
      "0 -->  False\n",
      "0.1 -->  True\n",
      "[1,2] -->  True\n"
     ]
    }
   ],
   "source": [
    "print(\"4. bool()\")\n",
    "print(\"3 --> \",bool(3))\n",
    "print(\"0 --> \",bool(0))\n",
    "print(\"0.1 --> \",bool(0.1))\n",
    "print(\"[1,2] --> \",bool([1,2])) #can convert a list into a Boolean."
   ]
  },
  {
   "cell_type": "code",
   "execution_count": 108,
   "id": "c38dba2d",
   "metadata": {},
   "outputs": [
    {
     "name": "stdout",
     "output_type": "stream",
     "text": [
      " -->  False\n",
      "[] -->  False\n",
      "{} -->  False\n",
      "None -->  False\n"
     ]
    }
   ],
   "source": [
    "# function returns False for empty constructs.\n",
    "print(\" --> \",bool())\n",
    "print(\"[] --> \",bool([]))\n",
    "print(\"{} --> \",bool({}))\n",
    "print(\"None --> \",bool(None))"
   ]
  },
  {
   "cell_type": "code",
   "execution_count": 110,
   "id": "34add2de",
   "metadata": {},
   "outputs": [
    {
     "name": "stdout",
     "output_type": "stream",
     "text": [
      "5. set()\n",
      "{1, 2, 3}\n"
     ]
    }
   ],
   "source": [
    "print(\"5. set()\") #It converts the value into a set.\n",
    "print(set([1,2,2,3]))"
   ]
  },
  {
   "cell_type": "code",
   "execution_count": 113,
   "id": "7252a644",
   "metadata": {},
   "outputs": [
    {
     "name": "stdout",
     "output_type": "stream",
     "text": [
      "6. list()\n",
      "['1', '2', '3']\n",
      "[1, 2, 3]\n",
      "['a', 'b']\n"
     ]
    }
   ],
   "source": [
    "print(\"6. list()\") \n",
    "print(list(\"123\"))\n",
    "print(list({1,2,2,3}))\n",
    "print(list({\"a\":1,\"b\":2}))"
   ]
  },
  {
   "cell_type": "code",
   "execution_count": 116,
   "id": "cca95bee",
   "metadata": {},
   "outputs": [
    {
     "ename": "TypeError",
     "evalue": "unhashable type: 'set'",
     "output_type": "error",
     "traceback": [
      "\u001b[1;31m---------------------------------------------------------------------------\u001b[0m",
      "\u001b[1;31mTypeError\u001b[0m                                 Traceback (most recent call last)",
      "\u001b[1;32m~\\AppData\\Local\\Temp/ipykernel_10012/1773018215.py\u001b[0m in \u001b[0;36m<module>\u001b[1;34m\u001b[0m\n\u001b[1;32m----> 1\u001b[1;33m \u001b[0mlist\u001b[0m\u001b[1;33m(\u001b[0m\u001b[1;33m{\u001b[0m\u001b[0ma\u001b[0m\u001b[1;33m:\u001b[0m\u001b[1;36m1\u001b[0m\u001b[1;33m,\u001b[0m\u001b[0mb\u001b[0m\u001b[1;33m:\u001b[0m\u001b[1;36m2\u001b[0m\u001b[1;33m}\u001b[0m\u001b[1;33m)\u001b[0m\u001b[1;33m\u001b[0m\u001b[1;33m\u001b[0m\u001b[0m\n\u001b[0m",
      "\u001b[1;31mTypeError\u001b[0m: unhashable type: 'set'"
     ]
    }
   ],
   "source": [
    "list({a:1,b:2})"
   ]
  },
  {
   "cell_type": "code",
   "execution_count": 119,
   "id": "27448db0",
   "metadata": {},
   "outputs": [
    {
     "name": "stdout",
     "output_type": "stream",
     "text": [
      "7. tuple()\n",
      "(1, 2, 3)\n",
      "(1, 2)\n"
     ]
    }
   ],
   "source": [
    "print(\"7. tuple()\")\n",
    "print(tuple({1,2,2,3}))\n",
    "print(tuple(list(set([1,2]))))\n"
   ]
  },
  {
   "cell_type": "markdown",
   "id": "733c70c0",
   "metadata": {},
   "source": [
    "# Python Local and Global Variables"
   ]
  },
  {
   "cell_type": "raw",
   "id": "97eb391b",
   "metadata": {},
   "source": [
    "1. Python Local Variables\n",
    "When you declare a variable in a function, class, or so, it is only visible in that scope. If you call it outside of that scope, you get an ‘undefined’ error."
   ]
  },
  {
   "cell_type": "code",
   "execution_count": 121,
   "id": "45bedcdf",
   "metadata": {},
   "outputs": [
    {
     "name": "stdout",
     "output_type": "stream",
     "text": [
      "2\n"
     ]
    }
   ],
   "source": [
    "def func1():\n",
    "  uvw=2\n",
    "  print(uvw)\n",
    "func1()"
   ]
  },
  {
   "cell_type": "code",
   "execution_count": 122,
   "id": "a89dc5ac",
   "metadata": {},
   "outputs": [
    {
     "ename": "NameError",
     "evalue": "name 'uvw' is not defined",
     "output_type": "error",
     "traceback": [
      "\u001b[1;31m---------------------------------------------------------------------------\u001b[0m",
      "\u001b[1;31mNameError\u001b[0m                                 Traceback (most recent call last)",
      "\u001b[1;32m~\\AppData\\Local\\Temp/ipykernel_10012/3486092268.py\u001b[0m in \u001b[0;36m<module>\u001b[1;34m\u001b[0m\n\u001b[1;32m----> 1\u001b[1;33m \u001b[0muvw\u001b[0m\u001b[1;33m\u001b[0m\u001b[1;33m\u001b[0m\u001b[0m\n\u001b[0m",
      "\u001b[1;31mNameError\u001b[0m: name 'uvw' is not defined"
     ]
    }
   ],
   "source": [
    "uvw"
   ]
  },
  {
   "cell_type": "raw",
   "id": "e9897d61",
   "metadata": {},
   "source": [
    "2. Global Variables\n",
    "When you declare a variable outside any context/scope, it is visible in the whole program."
   ]
  },
  {
   "cell_type": "code",
   "execution_count": 123,
   "id": "aa277578",
   "metadata": {},
   "outputs": [
    {
     "name": "stdout",
     "output_type": "stream",
     "text": [
      "1\n"
     ]
    }
   ],
   "source": [
    ">>> xyz=3\n",
    ">>> def func2():\n",
    "  xyz=0\n",
    "  xyz+=1\n",
    "  print(xyz)\n",
    ">>> func2()"
   ]
  },
  {
   "cell_type": "code",
   "execution_count": 124,
   "id": "f3c81fdc",
   "metadata": {},
   "outputs": [
    {
     "name": "stdout",
     "output_type": "stream",
     "text": [
      "3\n"
     ]
    }
   ],
   "source": [
    "print(xyz)"
   ]
  },
  {
   "cell_type": "raw",
   "id": "39488308",
   "metadata": {},
   "source": [
    "You can use the ‘global’ keyword when you want to treat a variable as global in a local scope."
   ]
  },
  {
   "cell_type": "code",
   "execution_count": 125,
   "id": "c0ab9b74",
   "metadata": {},
   "outputs": [
    {
     "name": "stdout",
     "output_type": "stream",
     "text": [
      "3\n"
     ]
    }
   ],
   "source": [
    ">>> foo=1\n",
    ">>> def func2():\n",
    "  global foo\n",
    "  foo=3\n",
    "  print(foo)\n",
    ">>> func2()"
   ]
  },
  {
   "cell_type": "code",
   "execution_count": 126,
   "id": "5f48d65b",
   "metadata": {},
   "outputs": [
    {
     "data": {
      "text/plain": [
       "3"
      ]
     },
     "execution_count": 126,
     "metadata": {},
     "output_type": "execute_result"
    }
   ],
   "source": [
    "foo"
   ]
  },
  {
   "cell_type": "code",
   "execution_count": null,
   "id": "4c286c45",
   "metadata": {},
   "outputs": [],
   "source": []
  }
 ],
 "metadata": {
  "kernelspec": {
   "display_name": "Python 3 (ipykernel)",
   "language": "python",
   "name": "python3"
  },
  "language_info": {
   "codemirror_mode": {
    "name": "ipython",
    "version": 3
   },
   "file_extension": ".py",
   "mimetype": "text/x-python",
   "name": "python",
   "nbconvert_exporter": "python",
   "pygments_lexer": "ipython3",
   "version": "3.9.7"
  }
 },
 "nbformat": 4,
 "nbformat_minor": 5
}
