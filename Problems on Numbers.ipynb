{
 "cells": [
  {
   "cell_type": "markdown",
   "id": "2b3b8c5d",
   "metadata": {},
   "source": [
    "# Problems on Numbers"
   ]
  },
  {
   "cell_type": "code",
   "execution_count": 4,
   "id": "4ed1ffbb",
   "metadata": {},
   "outputs": [
    {
     "name": "stdout",
     "output_type": "stream",
     "text": [
      "1\n",
      "0\n"
     ]
    }
   ],
   "source": [
    "# NOT Gate -- function that simulates NOT gate i.e return when 1 is input and vice versa\n",
    "def func(n):\n",
    "    #return 1-n\n",
    "    return [1,0][n]\n",
    "\n",
    "print(func(0))\n",
    "print(func(1))"
   ]
  },
  {
   "cell_type": "code",
   "execution_count": 6,
   "id": "41e1ba37",
   "metadata": {},
   "outputs": [
    {
     "name": "stdout",
     "output_type": "stream",
     "text": [
      "1\n",
      "0\n"
     ]
    }
   ],
   "source": [
    "def func(n):\n",
    "    return [1,0][n]\n",
    "\n",
    "print(func(0))\n",
    "print(func(1))"
   ]
  },
  {
   "cell_type": "code",
   "execution_count": 7,
   "id": "cdddb68a",
   "metadata": {},
   "outputs": [
    {
     "name": "stdout",
     "output_type": "stream",
     "text": [
      "50000+6000+700+60+4\n",
      "3000+200+40+5\n"
     ]
    }
   ],
   "source": [
    "# Expanded WAP to expand the number as 421 --> 400+20+1\n",
    "def func(n):\n",
    "    n=str(n)\n",
    "    return ('+').join([n[i]+'0'*(len(n)-1-i) for i in range(len(n)) if n[i]!='0'])\n",
    "\n",
    "print(func(56764))\n",
    "print(func(3245))"
   ]
  },
  {
   "cell_type": "code",
   "execution_count": 15,
   "id": "f95f07ec",
   "metadata": {},
   "outputs": [
    {
     "name": "stdout",
     "output_type": "stream",
     "text": [
      "0\n",
      "1\n",
      "2\n",
      "5.5\n",
      "16.75\n"
     ]
    }
   ],
   "source": [
    "#Dogs age calculato -- Dogs age for 1st two years is said to be 10.5 human years for each year. every consecutive yeasrs count to 4 human years \n",
    "# WAP to convert human age to dog age.\n",
    "\n",
    "def func(n):\n",
    "    if(n==0):\n",
    "        return 0\n",
    "    elif(n<=10.5):\n",
    "        return 1\n",
    "    elif(n>10.5 and n<=21):\n",
    "        return 2\n",
    "    else:\n",
    "        return ((n-21)/4)+2\n",
    "\n",
    "print(func(0))\n",
    "print(func(9))\n",
    "print(func(19))\n",
    "print(func(35))\n",
    "print(func(80))"
   ]
  },
  {
   "cell_type": "code",
   "execution_count": 22,
   "id": "294c011c",
   "metadata": {},
   "outputs": [
    {
     "name": "stdout",
     "output_type": "stream",
     "text": [
      "20\n",
      "2\n"
     ]
    }
   ],
   "source": [
    "# Binary to decimal\n",
    "def func(n):\n",
    "    decimal,mul=0,len(str(n))-1\n",
    "    for i in str(n):\n",
    "        decimal+=int(i)*2**mul\n",
    "        mul-=1\n",
    "    return decimal\n",
    "\n",
    "print(func(10100))\n",
    "print(func(10))"
   ]
  },
  {
   "cell_type": "code",
   "execution_count": 20,
   "id": "dc1a09c1",
   "metadata": {},
   "outputs": [
    {
     "data": {
      "text/plain": [
       "'0b10100'"
      ]
     },
     "execution_count": 20,
     "metadata": {},
     "output_type": "execute_result"
    }
   ],
   "source": [
    "bin(20)"
   ]
  },
  {
   "cell_type": "code",
   "execution_count": null,
   "id": "f82295a8",
   "metadata": {},
   "outputs": [],
   "source": []
  }
 ],
 "metadata": {
  "kernelspec": {
   "display_name": "Python 3 (ipykernel)",
   "language": "python",
   "name": "python3"
  },
  "language_info": {
   "codemirror_mode": {
    "name": "ipython",
    "version": 3
   },
   "file_extension": ".py",
   "mimetype": "text/x-python",
   "name": "python",
   "nbconvert_exporter": "python",
   "pygments_lexer": "ipython3",
   "version": "3.9.7"
  }
 },
 "nbformat": 4,
 "nbformat_minor": 5
}
