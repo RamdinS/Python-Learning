{
 "cells": [
  {
   "cell_type": "markdown",
   "id": "dd635615",
   "metadata": {},
   "source": [
    "# Problems on switchcase"
   ]
  },
  {
   "cell_type": "raw",
   "id": "5609a336",
   "metadata": {},
   "source": [
    "What is the replacement of Switch Case in Python?\n",
    "\n",
    "Unlike every other programming language we have used before, Python does not have a switch or case statement. To get around this fact, we use dictionary mapping.\n"
   ]
  },
  {
   "cell_type": "code",
   "execution_count": 1,
   "id": "8ab1027f",
   "metadata": {},
   "outputs": [
    {
     "name": "stdout",
     "output_type": "stream",
     "text": [
      "zero\n"
     ]
    }
   ],
   "source": [
    "# Function to convert number into string\n",
    "# Switcher is dictionary data type here\n",
    "def numbers_to_strings(argument):\n",
    "\tswitcher = {\n",
    "\t\t0: \"zero\",\n",
    "\t\t1: \"one\",\n",
    "\t\t2: \"two\",\n",
    "\t}\n",
    "\n",
    "\t# get() method of dictionary data type returns\n",
    "\t# value of passed argument if it is present\n",
    "\t# in dictionary otherwise second argument will\n",
    "\t# be assigned as default value of passed argument\n",
    "\treturn switcher.get(argument, \"nothing\")\n",
    "\n",
    "# Driver program\n",
    "if __name__ == \"__main__\":\n",
    "\targument=0\n",
    "\tprint (numbers_to_strings(argument))\n"
   ]
  },
  {
   "cell_type": "code",
   "execution_count": 8,
   "id": "16bf6f88",
   "metadata": {},
   "outputs": [
    {
     "name": "stdout",
     "output_type": "stream",
     "text": [
      "Invalid day of a week\n"
     ]
    }
   ],
   "source": [
    "#Day of a week\n",
    "def week(arg):\n",
    "    switcher={\n",
    "        0: \"Monday\",\n",
    "        1: \"Tuesday\",\n",
    "        2: \"Wednesday\",\n",
    "        3: \"Thrusday\",\n",
    "        4: \"Friday\",\n",
    "        5: \"Saturday\",\n",
    "        6: \"Sunday\"\n",
    "    }\n",
    "    return switcher.get(arg,\"Invalid day of a week\")\n",
    "\n",
    "if __name__ == \"__main__\":\n",
    "    arg=7\n",
    "    print(week(arg))"
   ]
  },
  {
   "cell_type": "code",
   "execution_count": 13,
   "id": "e5c430c3",
   "metadata": {},
   "outputs": [
    {
     "data": {
      "text/plain": [
       "'zero'"
      ]
     },
     "execution_count": 13,
     "metadata": {},
     "output_type": "execute_result"
    }
   ],
   "source": [
    "# Same with class\n",
    "class Switcher(object):\n",
    "    def indirect(self,i):\n",
    "        method_name='number_'+str(i)\n",
    "        method=getattr(self,method_name,lambda : \"Invalid\")\n",
    "        return method()\n",
    "    def number_0(self):\n",
    "        return \"zero\"\n",
    "    def number_1(self):\n",
    "        return \"one\"\n",
    "    def number_2(self):\n",
    "        return \"two\"\n",
    "    \n",
    "s=Switcher()\n",
    "s.indirect(2)\n",
    "s.number_0()\n",
    "    "
   ]
  },
  {
   "cell_type": "code",
   "execution_count": 2,
   "id": "2cdda1bc",
   "metadata": {},
   "outputs": [
    {
     "name": "stdout",
     "output_type": "stream",
     "text": [
      "Welcome to star travels. \n",
      "Please select the requirement. \n",
      "1.Home\n",
      "2.Booking\n",
      "3.Enquiry\n",
      "4.Complaint\n",
      "5.Exit\n",
      "4\n"
     ]
    },
    {
     "data": {
      "text/plain": [
       "'Complaint'"
      ]
     },
     "execution_count": 2,
     "metadata": {},
     "output_type": "execute_result"
    }
   ],
   "source": [
    "#IVR WAP that stimulates the IVR (Interactive voice response) menu for a travel agency\n",
    "def func():\n",
    "    choice=int(input(\"Welcome to star travels. \\nPlease select the requirement. \\n1.Home\\n2.Booking\\n3.Enquiry\\n4.Complaint\\n5.Exit\\n\"))\n",
    "    switcher={\n",
    "        1: \"Home\",\n",
    "        2: \"Booking\",\n",
    "        3: \"Enquiry\",\n",
    "        4: \"Complaint\",\n",
    "        5: \"Exit\"\n",
    "    }\n",
    "    return switcher.get(choice,\"Please select correct option\")\n",
    "\n",
    "func()"
   ]
  },
  {
   "cell_type": "code",
   "execution_count": null,
   "id": "719f0f25",
   "metadata": {},
   "outputs": [],
   "source": []
  }
 ],
 "metadata": {
  "kernelspec": {
   "display_name": "Python 3 (ipykernel)",
   "language": "python",
   "name": "python3"
  },
  "language_info": {
   "codemirror_mode": {
    "name": "ipython",
    "version": 3
   },
   "file_extension": ".py",
   "mimetype": "text/x-python",
   "name": "python",
   "nbconvert_exporter": "python",
   "pygments_lexer": "ipython3",
   "version": "3.9.7"
  }
 },
 "nbformat": 4,
 "nbformat_minor": 5
}
