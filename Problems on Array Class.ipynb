{
 "cells": [
  {
   "cell_type": "markdown",
   "id": "66a034c4",
   "metadata": {},
   "source": [
    "# Problems on Array Class"
   ]
  },
  {
   "cell_type": "raw",
   "id": "8b232bcc",
   "metadata": {},
   "source": [
    "1. What is array module in Python?\n",
    "==> Python array module gives us an object type that we can use to denote an array. This is a collection of a type of values.\n",
    "In a way, this is like a Python list, but we specify a type at the time of creation."
   ]
  },
  {
   "cell_type": "raw",
   "id": "30680ea8",
   "metadata": {},
   "source": [
    "2. How do you display an array in Python?\n",
    ">>> import array\n",
    "# sybtax --> class array.array(typecode[,initializer])\n",
    ">>> arr=array.array('i',[1,3,4])\n",
    ">>> arr\n",
    "\n",
    "o/p: array(‘i’, [1, 3, 4])"
   ]
  },
  {
   "cell_type": "raw",
   "id": "77096e78",
   "metadata": {},
   "source": [
    "3. How to use an array module in Python?\n",
    "==> same as above"
   ]
  },
  {
   "cell_type": "raw",
   "id": "ef734e60",
   "metadata": {},
   "source": [
    "4. What is the difference between array and list in Python?\n",
    "==> In a way, this is like a Python list, but we specify a type at the time of creation."
   ]
  },
  {
   "cell_type": "raw",
   "id": "8233ff9c",
   "metadata": {},
   "source": [
    "5. How to read an array in Python?\n",
    "==> arr=array.array('i',[1,3,4])"
   ]
  },
  {
   "cell_type": "code",
   "execution_count": 3,
   "id": "d798277d",
   "metadata": {},
   "outputs": [
    {
     "data": {
      "text/plain": [
       "array('i', [1, 2, 3])"
      ]
     },
     "execution_count": 3,
     "metadata": {},
     "output_type": "execute_result"
    }
   ],
   "source": [
    "import array\n",
    "arr = array.array('i',[1,2,3])\n",
    "arr"
   ]
  },
  {
   "cell_type": "code",
   "execution_count": 4,
   "id": "3032a92e",
   "metadata": {},
   "outputs": [
    {
     "data": {
      "text/plain": [
       "array('u', 'hello ♁')"
      ]
     },
     "execution_count": 4,
     "metadata": {},
     "output_type": "execute_result"
    }
   ],
   "source": [
    "array.array('u','hello \\u2641') #unicode array"
   ]
  },
  {
   "cell_type": "code",
   "execution_count": 5,
   "id": "b804e255",
   "metadata": {},
   "outputs": [
    {
     "data": {
      "text/plain": [
       "'bBuhHiIlLqQfd'"
      ]
     },
     "execution_count": 5,
     "metadata": {},
     "output_type": "execute_result"
    }
   ],
   "source": [
    "array.typecodes #all supported typecodes for array"
   ]
  },
  {
   "cell_type": "code",
   "execution_count": 6,
   "id": "0c417d33",
   "metadata": {},
   "outputs": [
    {
     "data": {
      "text/plain": [
       "'i'"
      ]
     },
     "execution_count": 6,
     "metadata": {},
     "output_type": "execute_result"
    }
   ],
   "source": [
    "arr.typecode"
   ]
  },
  {
   "cell_type": "code",
   "execution_count": 8,
   "id": "25ea7f82",
   "metadata": {},
   "outputs": [
    {
     "data": {
      "text/plain": [
       "array('i', [1, 2, 3, 6, 6])"
      ]
     },
     "execution_count": 8,
     "metadata": {},
     "output_type": "execute_result"
    }
   ],
   "source": [
    "arr.append(6)\n",
    "arr"
   ]
  },
  {
   "cell_type": "code",
   "execution_count": 9,
   "id": "a9303205",
   "metadata": {},
   "outputs": [
    {
     "data": {
      "text/plain": [
       "2"
      ]
     },
     "execution_count": 9,
     "metadata": {},
     "output_type": "execute_result"
    }
   ],
   "source": [
    "arr = array.array('i',[7,3,5,2,6,7,4])\n",
    "arr.count(7) #count occurance of 7 in arr"
   ]
  },
  {
   "cell_type": "code",
   "execution_count": 10,
   "id": "a2eb6903",
   "metadata": {},
   "outputs": [
    {
     "data": {
      "text/plain": [
       "array('i', [7, 3, 4, 5, 2, 6, 7, 4])"
      ]
     },
     "execution_count": 10,
     "metadata": {},
     "output_type": "execute_result"
    }
   ],
   "source": [
    "arr.insert(2,4) #insert 4 at index 2\n",
    "arr"
   ]
  },
  {
   "cell_type": "code",
   "execution_count": 11,
   "id": "f6802653",
   "metadata": {},
   "outputs": [
    {
     "data": {
      "text/plain": [
       "4"
      ]
     },
     "execution_count": 11,
     "metadata": {},
     "output_type": "execute_result"
    }
   ],
   "source": [
    "arr.pop(2) #remove from position 2"
   ]
  },
  {
   "cell_type": "code",
   "execution_count": 12,
   "id": "f04e62a7",
   "metadata": {},
   "outputs": [
    {
     "data": {
      "text/plain": [
       "array('i', [7, 3, 5, 2, 6, 7, 4])"
      ]
     },
     "execution_count": 12,
     "metadata": {},
     "output_type": "execute_result"
    }
   ],
   "source": [
    "arr"
   ]
  },
  {
   "cell_type": "code",
   "execution_count": 14,
   "id": "139946c6",
   "metadata": {},
   "outputs": [
    {
     "data": {
      "text/plain": [
       "[7, 3, 5, 2, 6, 7, 4]"
      ]
     },
     "execution_count": 14,
     "metadata": {},
     "output_type": "execute_result"
    }
   ],
   "source": [
    "arr.tolist()"
   ]
  },
  {
   "cell_type": "code",
   "execution_count": 15,
   "id": "5876d34a",
   "metadata": {},
   "outputs": [
    {
     "data": {
      "text/plain": [
       "array('i', [5, 2, 6, 7, 4])"
      ]
     },
     "execution_count": 15,
     "metadata": {},
     "output_type": "execute_result"
    }
   ],
   "source": [
    "arr[2:7]"
   ]
  },
  {
   "cell_type": "code",
   "execution_count": null,
   "id": "8cb50153",
   "metadata": {},
   "outputs": [],
   "source": []
  }
 ],
 "metadata": {
  "kernelspec": {
   "display_name": "Python 3",
   "language": "python",
   "name": "python3"
  },
  "language_info": {
   "codemirror_mode": {
    "name": "ipython",
    "version": 3
   },
   "file_extension": ".py",
   "mimetype": "text/x-python",
   "name": "python",
   "nbconvert_exporter": "python",
   "pygments_lexer": "ipython3",
   "version": "3.8.8"
  }
 },
 "nbformat": 4,
 "nbformat_minor": 5
}
