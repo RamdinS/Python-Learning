{
 "cells": [
  {
   "cell_type": "markdown",
   "id": "31c6a7b2",
   "metadata": {},
   "source": [
    "# Problems on varibale scope"
   ]
  },
  {
   "cell_type": "code",
   "execution_count": 7,
   "id": "69398b55",
   "metadata": {},
   "outputs": [
    {
     "ename": "UnboundLocalError",
     "evalue": "local variable 'a' referenced before assignment",
     "output_type": "error",
     "traceback": [
      "\u001b[1;31m---------------------------------------------------------------------------\u001b[0m",
      "\u001b[1;31mUnboundLocalError\u001b[0m                         Traceback (most recent call last)",
      "\u001b[1;32m~\\AppData\\Local\\Temp/ipykernel_12912/4083131113.py\u001b[0m in \u001b[0;36m<module>\u001b[1;34m\u001b[0m\n\u001b[0;32m      5\u001b[0m     \u001b[0mprint\u001b[0m\u001b[1;33m(\u001b[0m\u001b[0ma\u001b[0m\u001b[1;33m)\u001b[0m\u001b[1;33m\u001b[0m\u001b[1;33m\u001b[0m\u001b[0m\n\u001b[0;32m      6\u001b[0m \u001b[1;33m\u001b[0m\u001b[0m\n\u001b[1;32m----> 7\u001b[1;33m \u001b[0mfunc\u001b[0m\u001b[1;33m(\u001b[0m\u001b[1;33m)\u001b[0m\u001b[1;33m\u001b[0m\u001b[1;33m\u001b[0m\u001b[0m\n\u001b[0m",
      "\u001b[1;32m~\\AppData\\Local\\Temp/ipykernel_12912/4083131113.py\u001b[0m in \u001b[0;36mfunc\u001b[1;34m()\u001b[0m\n\u001b[0;32m      2\u001b[0m \u001b[0ma\u001b[0m\u001b[1;33m=\u001b[0m\u001b[1;36m1\u001b[0m\u001b[1;33m\u001b[0m\u001b[1;33m\u001b[0m\u001b[0m\n\u001b[0;32m      3\u001b[0m \u001b[1;32mdef\u001b[0m \u001b[0mfunc\u001b[0m\u001b[1;33m(\u001b[0m\u001b[1;33m)\u001b[0m\u001b[1;33m:\u001b[0m\u001b[1;33m\u001b[0m\u001b[1;33m\u001b[0m\u001b[0m\n\u001b[1;32m----> 4\u001b[1;33m     \u001b[0ma\u001b[0m\u001b[1;33m+=\u001b[0m\u001b[1;36m1\u001b[0m\u001b[1;33m\u001b[0m\u001b[1;33m\u001b[0m\u001b[0m\n\u001b[0m\u001b[0;32m      5\u001b[0m     \u001b[0mprint\u001b[0m\u001b[1;33m(\u001b[0m\u001b[0ma\u001b[0m\u001b[1;33m)\u001b[0m\u001b[1;33m\u001b[0m\u001b[1;33m\u001b[0m\u001b[0m\n\u001b[0;32m      6\u001b[0m \u001b[1;33m\u001b[0m\u001b[0m\n",
      "\u001b[1;31mUnboundLocalError\u001b[0m: local variable 'a' referenced before assignment"
     ]
    }
   ],
   "source": [
    "#We can not reference a global variable before assigning locally in a function\n",
    "a=1\n",
    "def func():\n",
    "    a+=1\n",
    "    print(a)\n",
    "\n",
    "func()"
   ]
  },
  {
   "cell_type": "code",
   "execution_count": 8,
   "id": "412a7fc1",
   "metadata": {},
   "outputs": [
    {
     "name": "stdout",
     "output_type": "stream",
     "text": [
      "2\n"
     ]
    }
   ],
   "source": [
    "a=1\n",
    "def func(a=1):\n",
    "    a+=1\n",
    "    print(a)\n",
    "\n",
    "func()"
   ]
  },
  {
   "cell_type": "code",
   "execution_count": 9,
   "id": "6e447936",
   "metadata": {},
   "outputs": [
    {
     "name": "stdout",
     "output_type": "stream",
     "text": [
      "2\n"
     ]
    }
   ],
   "source": [
    "a=1\n",
    "def func():\n",
    "    a=1\n",
    "    a+=1\n",
    "    print(a)\n",
    "\n",
    "func()"
   ]
  },
  {
   "cell_type": "code",
   "execution_count": 11,
   "id": "da06366b",
   "metadata": {},
   "outputs": [
    {
     "name": "stdout",
     "output_type": "stream",
     "text": [
      "2  local to func\n",
      "1  global to program\n"
     ]
    }
   ],
   "source": [
    "#local to global\n",
    "a=1\n",
    "def func():\n",
    "    a=2\n",
    "    print(a,\" local to func\")\n",
    "\n",
    "func()\n",
    "print(a,\" global to program\")"
   ]
  },
  {
   "cell_type": "code",
   "execution_count": 12,
   "id": "4d4fcf58",
   "metadata": {},
   "outputs": [
    {
     "name": "stdout",
     "output_type": "stream",
     "text": [
      "2  local to func\n",
      "2  global to program\n"
     ]
    }
   ],
   "source": [
    "a=1\n",
    "def func():\n",
    "    global a\n",
    "    a=2\n",
    "    print(a,\" local to func\")\n",
    "\n",
    "func()\n",
    "print(a,\" global to program\")"
   ]
  },
  {
   "cell_type": "code",
   "execution_count": 20,
   "id": "a41c6eb4",
   "metadata": {},
   "outputs": [
    {
     "name": "stdout",
     "output_type": "stream",
     "text": [
      "2  local to func\n",
      "1  local to my_func\n",
      "5  global to program\n"
     ]
    }
   ],
   "source": [
    "#non local in case of nested function\n",
    "a=5\n",
    "def my_func():\n",
    "    a=1\n",
    "    def func():\n",
    "        a=2\n",
    "        print(a,\" local to func\")\n",
    "    func()\n",
    "    print(a,\" local to my_func\")\n",
    "\n",
    "\n",
    "my_func()\n",
    "print(a,\" global to program\")"
   ]
  },
  {
   "cell_type": "code",
   "execution_count": 21,
   "id": "92790738",
   "metadata": {},
   "outputs": [
    {
     "name": "stdout",
     "output_type": "stream",
     "text": [
      "2  local to func\n",
      "2  local to my_func\n",
      "5  global to program\n"
     ]
    }
   ],
   "source": [
    "a=5\n",
    "def my_func():\n",
    "    a=1\n",
    "    def func():\n",
    "        nonlocal a\n",
    "        a=2\n",
    "        print(a,\" local to func\")\n",
    "    func()\n",
    "    print(a,\" local to my_func\")\n",
    "\n",
    "\n",
    "my_func()\n",
    "print(a,\" global to program\")"
   ]
  },
  {
   "cell_type": "code",
   "execution_count": 23,
   "id": "4b6a5b16",
   "metadata": {},
   "outputs": [
    {
     "name": "stdout",
     "output_type": "stream",
     "text": [
      "3  local to f\n",
      "3  local to func\n",
      "1  local to my_func\n",
      "5  global to program\n"
     ]
    }
   ],
   "source": [
    "a=5\n",
    "def my_func():\n",
    "    a=1\n",
    "    def func():\n",
    "        a=2\n",
    "        def f():\n",
    "            nonlocal a #updates just the parent func value not across the program\n",
    "            a=3\n",
    "            print(a,\" local to f\")\n",
    "        f()\n",
    "        print(a,\" local to func\")\n",
    "    func()\n",
    "    print(a,\" local to my_func\")\n",
    "\n",
    "\n",
    "my_func()\n",
    "print(a,\" global to program\")"
   ]
  },
  {
   "cell_type": "code",
   "execution_count": null,
   "id": "d7fc472e",
   "metadata": {},
   "outputs": [],
   "source": []
  }
 ],
 "metadata": {
  "kernelspec": {
   "display_name": "Python 3 (ipykernel)",
   "language": "python",
   "name": "python3"
  },
  "language_info": {
   "codemirror_mode": {
    "name": "ipython",
    "version": 3
   },
   "file_extension": ".py",
   "mimetype": "text/x-python",
   "name": "python",
   "nbconvert_exporter": "python",
   "pygments_lexer": "ipython3",
   "version": "3.9.7"
  }
 },
 "nbformat": 4,
 "nbformat_minor": 5
}
