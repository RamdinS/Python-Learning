{
 "cells": [
  {
   "cell_type": "markdown",
   "id": "c3794cd4",
   "metadata": {},
   "source": [
    "# Problems on String formatters"
   ]
  },
  {
   "cell_type": "code",
   "execution_count": 1,
   "id": "2884c914",
   "metadata": {},
   "outputs": [
    {
     "name": "stdout",
     "output_type": "stream",
     "text": [
      "you are 5' 3.0\" tall\n",
      "None\n",
      "you are 5' 10.5\" tall\n",
      "None\n",
      "you are 4' 4.8\" tall\n",
      "None\n",
      "you are 3' 3.4\" tall\n",
      "None\n"
     ]
    }
   ],
   "source": [
    "#Tall, Taller , Tallest -- take height in cm and convert into feet and inches \n",
    "def func(h):\n",
    "    feet=h/30.48\n",
    "    inch=(feet%1)*12\n",
    "    print(f\"you are {int(feet)}' {round(inch,1)}\\\" tall\")\n",
    "    \n",
    "print(func(160))\n",
    "print(func(179))\n",
    "print(func(134))\n",
    "print(func(100))"
   ]
  },
  {
   "cell_type": "code",
   "execution_count": 8,
   "id": "11349e4b",
   "metadata": {},
   "outputs": [
    {
     "name": "stdout",
     "output_type": "stream",
     "text": [
      "ride becomes riding\n",
      "begin becomes begining\n",
      "drinking\n"
     ]
    }
   ],
   "source": [
    "# To Gerund -- ending in ing\n",
    "def func(n):\n",
    "    if(n[-1]=='e'):\n",
    "        return f'{n} becomes {n[:-1]+\"ing\"}'\n",
    "    if(n[-3:]!='ing'):\n",
    "        return f'{n} becomes {n+\"ing\"}'\n",
    "    return n\n",
    "print(func(\"ride\"))\n",
    "print(func(\"begin\"))\n",
    "print(func(\"drinking\"))"
   ]
  },
  {
   "cell_type": "code",
   "execution_count": 26,
   "id": "00686af9",
   "metadata": {},
   "outputs": [
    {
     "name": "stdout",
     "output_type": "stream",
     "text": [
      "ASCII of Capital A 65\n",
      "ASCII of small a 97\n",
      "Difference of ASCII(A) and ASCII(a) -32\n",
      "ASCII of space 32\n",
      "ASCII conversion of a --> A is  A\n"
     ]
    }
   ],
   "source": [
    "# WAP to take a string capitalize charcates with even ASCII values and lowercase for odd ASCII values\n",
    "print(\"ASCII of Capital A\",ord('A'))\n",
    "print(\"ASCII of small a\",ord('a'))\n",
    "print(\"Difference of ASCII(A) and ASCII(a)\",ord('A')-ord('a'))\n",
    "print(\"ASCII of space\",ord(' '))\n",
    "print(\"ASCII conversion of a --> A is \",chr(ord('a')-32))"
   ]
  },
  {
   "cell_type": "code",
   "execution_count": 4,
   "id": "deb66f9a",
   "metadata": {},
   "outputs": [
    {
     "name": "stdout",
     "output_type": "stream",
     "text": [
      "Hi my Name is sauRaBH 123\n"
     ]
    }
   ],
   "source": [
    "def func(s):\n",
    "    newstr=\"\"\n",
    "    for i in s:\n",
    "        if(i.isalpha() and ord(i)!=32):\n",
    "            if(i.islower() and ord(i)%2==0):\n",
    "                newstr+=chr(ord(i)-32)\n",
    "            elif(i.isupper() and ord(i)%2!=0):\n",
    "                newstr+=chr(ord(i)+32)\n",
    "            else:\n",
    "                newstr+=i\n",
    "        else: newstr+=i\n",
    "    return newstr\n",
    "\n",
    "print(func(\"Hi my Name is Saurabh 123\"))"
   ]
  },
  {
   "cell_type": "code",
   "execution_count": 2,
   "id": "35b79c21",
   "metadata": {},
   "outputs": [
    {
     "name": "stdout",
     "output_type": "stream",
     "text": [
      "Hi my Name is sauRaBH 123\n"
     ]
    }
   ],
   "source": [
    "def even_caps(sentence):\n",
    "    s=''\n",
    "    for char in sentence:\n",
    "        if char.isalpha() and ord(char)!=32:\n",
    "            if char.islower() and ord(char)%2==0:\n",
    "                s+=chr(ord(char)-32)\n",
    "            elif char.isupper() and ord(char)%2!=0:\n",
    "                s+=chr(ord(char)+32)\n",
    "            else: s+=char\n",
    "        else: s+=char\n",
    "    return s\n",
    "\n",
    "print(even_caps(\"Hi my Name is Saurabh 123\"))"
   ]
  },
  {
   "cell_type": "code",
   "execution_count": 5,
   "id": "1fd11247",
   "metadata": {},
   "outputs": [
    {
     "data": {
      "text/plain": [
       "False"
      ]
     },
     "execution_count": 5,
     "metadata": {},
     "output_type": "execute_result"
    }
   ],
   "source": [
    "# check whether abbreviation in 1st list correspond to only 1 word in list 2\n",
    "\n",
    "def abb_check(abbs,words):\n",
    "    for abb in abbs:\n",
    "        count=0\n",
    "        for word in words:\n",
    "            if word.startswith(abb):\n",
    "                count+=1\n",
    "        if count!=1:\n",
    "            return False\n",
    "    return True\n",
    "\n",
    "abb_check(['h','hel','b'],['hello','holy','biased','helium'])"
   ]
  },
  {
   "cell_type": "code",
   "execution_count": 7,
   "id": "d4f16a5a",
   "metadata": {},
   "outputs": [
    {
     "data": {
      "text/plain": [
       "True"
      ]
     },
     "execution_count": 7,
     "metadata": {},
     "output_type": "execute_result"
    }
   ],
   "source": [
    "abb_check(['ho','hel','b'],['hello','holy','biased'])"
   ]
  },
  {
   "cell_type": "code",
   "execution_count": null,
   "id": "c5e79aca",
   "metadata": {},
   "outputs": [],
   "source": []
  }
 ],
 "metadata": {
  "kernelspec": {
   "display_name": "Python 3 (ipykernel)",
   "language": "python",
   "name": "python3"
  },
  "language_info": {
   "codemirror_mode": {
    "name": "ipython",
    "version": 3
   },
   "file_extension": ".py",
   "mimetype": "text/x-python",
   "name": "python",
   "nbconvert_exporter": "python",
   "pygments_lexer": "ipython3",
   "version": "3.9.7"
  }
 },
 "nbformat": 4,
 "nbformat_minor": 5
}
