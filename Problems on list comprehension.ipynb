{
 "cells": [
  {
   "cell_type": "markdown",
   "id": "be538a1b",
   "metadata": {},
   "source": [
    "# Problems on list comprehension"
   ]
  },
  {
   "cell_type": "raw",
   "id": "73ec9f69",
   "metadata": {},
   "source": [
    "1. What is a Python list comprehension?\n",
    "==> syntax -- [expression for item in list]\n",
    "List comprehension is an elegant way to define and create lists based on existing lists. List comprehension is generally more compact and faster than normal functions and loops for creating list. However, we should avoid writing very long list comprehensions in one line to ensure that code is user-friendly."
   ]
  },
  {
   "cell_type": "raw",
   "id": "137c50c9",
   "metadata": {},
   "source": [
    "2. How Python list comprehension is useful?\n",
    "==> reduce the code\n",
    ">>> mylist=[]\n",
    ">>> for i in 'anxiety':\n",
    "          mylist.append(i)\n",
    ">>> mylist\n",
    "\n",
    "can be witten as list comprehension as below\n",
    "\n",
    ">>> [i for i in 'anxiety']"
   ]
  },
  {
   "cell_type": "raw",
   "id": "c6f743f9",
   "metadata": {},
   "source": [
    "3. How does list comprehension work in Python?\n",
    "==> List comprehensions are used for creating new lists from other iterables like tuples, strings, arrays, lists, etc. A list comprehension consists of brackets containing the expression, which is executed for each element along with the for loop to iterate over each element."
   ]
  },
  {
   "cell_type": "code",
   "execution_count": 2,
   "id": "71eb2470",
   "metadata": {},
   "outputs": [
    {
     "data": {
      "text/plain": [
       "['a', 'n', 'x', 'i', 'e', 't', 'y']"
      ]
     },
     "execution_count": 2,
     "metadata": {},
     "output_type": "execute_result"
    }
   ],
   "source": [
    "#4. Give an example of Python list comprehension\n",
    "[i for i in 'anxiety']"
   ]
  },
  {
   "cell_type": "raw",
   "id": "56df6ac9",
   "metadata": {},
   "source": [
    "5. Are list comprehensions faster in Python?\n",
    "==> List comprehension is generally more compact and faster than normal functions and loops for creating list."
   ]
  },
  {
   "cell_type": "code",
   "execution_count": 1,
   "id": "1bf5f23f",
   "metadata": {},
   "outputs": [
    {
     "data": {
      "text/plain": [
       "['a', 'n', 'x', 'i', 'e', 't', 'y']"
      ]
     },
     "execution_count": 1,
     "metadata": {},
     "output_type": "execute_result"
    }
   ],
   "source": [
    "[letter for letter in 'anxiety']"
   ]
  },
  {
   "cell_type": "code",
   "execution_count": 2,
   "id": "8f33c6d1",
   "metadata": {},
   "outputs": [
    {
     "data": {
      "text/plain": [
       "[0, 3, 6]"
      ]
     },
     "execution_count": 2,
     "metadata": {},
     "output_type": "execute_result"
    }
   ],
   "source": [
    "[num for num in range(8) if num%3==0]"
   ]
  },
  {
   "cell_type": "code",
   "execution_count": 3,
   "id": "33c5cbcb",
   "metadata": {},
   "outputs": [
    {
     "data": {
      "text/plain": [
       "[0, 6]"
      ]
     },
     "execution_count": 3,
     "metadata": {},
     "output_type": "execute_result"
    }
   ],
   "source": [
    "[num for num in range(8) if num%2==0 if num%3==0]"
   ]
  },
  {
   "cell_type": "code",
   "execution_count": 4,
   "id": "c9b316a3",
   "metadata": {},
   "outputs": [
    {
     "data": {
      "text/plain": [
       "['Even', 'Odd', 'Even', 'Odd', 'Even', 'Odd', 'Even', 'Odd']"
      ]
     },
     "execution_count": 4,
     "metadata": {},
     "output_type": "execute_result"
    }
   ],
   "source": [
    "[\"Even\" if num%2==0 else \"Odd\" for num in range(8)]"
   ]
  },
  {
   "cell_type": "raw",
   "id": "59d0983f",
   "metadata": {},
   "source": [
    "Threes - Use list comprehension to build a function that returns multiples of 3 that are smaller than the number n."
   ]
  },
  {
   "cell_type": "code",
   "execution_count": 5,
   "id": "54b79829",
   "metadata": {},
   "outputs": [
    {
     "data": {
      "text/plain": [
       "[0, 3, 6, 9, 12]"
      ]
     },
     "execution_count": 5,
     "metadata": {},
     "output_type": "execute_result"
    }
   ],
   "source": [
    "def Threes(n):\n",
    "    return [num for num in range(n) if num%3==0]\n",
    "\n",
    "Threes(15)"
   ]
  },
  {
   "cell_type": "raw",
   "id": "93319c3e",
   "metadata": {},
   "source": [
    "Game of tuples - Write a function that asks the user to input a string of integers seperated with spaces. It then returns a tuple from these values"
   ]
  },
  {
   "cell_type": "code",
   "execution_count": 7,
   "id": "bfb034d2",
   "metadata": {},
   "outputs": [
    {
     "data": {
      "text/plain": [
       "(1, 2, 2, 3, 4, 2, 5)"
      ]
     },
     "execution_count": 7,
     "metadata": {},
     "output_type": "execute_result"
    }
   ],
   "source": [
    "def game_of_tuples(str1):\n",
    "    return tuple([int(item) for item in str1.split()])\n",
    "\n",
    "game_of_tuples(\"1 2 2 3 4 2 5\")"
   ]
  },
  {
   "cell_type": "raw",
   "id": "0e603a32",
   "metadata": {},
   "source": [
    "Empty Promises -- Write a function that takes in a list of integers and shifts all zeros to end of the string"
   ]
  },
  {
   "cell_type": "code",
   "execution_count": 8,
   "id": "6e38f194",
   "metadata": {},
   "outputs": [
    {
     "data": {
      "text/plain": [
       "[2, 2, 4, 4, 9, 0, 0, 0]"
      ]
     },
     "execution_count": 8,
     "metadata": {},
     "output_type": "execute_result"
    }
   ],
   "source": [
    "def empty_promises(list1):\n",
    "    zeros=list1.count(0)\n",
    "    newlist=[num for num in list1 if num!=0]\n",
    "    for i in range(zeros):\n",
    "        newlist.append(0)\n",
    "    return newlist\n",
    "\n",
    "empty_promises([2,0,2,4,0,0,4,9])"
   ]
  },
  {
   "cell_type": "raw",
   "id": "7912eb05",
   "metadata": {},
   "source": [
    "Concatenating lists -- Write a function that takes in a list of lists and concatenates all the immediate sublists into one."
   ]
  },
  {
   "cell_type": "code",
   "execution_count": 19,
   "id": "5d434fa4",
   "metadata": {},
   "outputs": [
    {
     "name": "stdout",
     "output_type": "stream",
     "text": [
      "[[1, 2], [3], [4, 5, 6]]\n",
      "[1, 2, 3, 4, 5, 6]\n"
     ]
    }
   ],
   "source": [
    "list1=[[1,2],[3],[4,5,6]]\n",
    "print(list1)\n",
    "newlist=[l for i in list1 for l in i]\n",
    "print(newlist)"
   ]
  },
  {
   "cell_type": "raw",
   "id": "d4af41e2",
   "metadata": {},
   "source": [
    "Stronger lists -- Write a function that multiplies each value in a list with the length of the list and returns that"
   ]
  },
  {
   "cell_type": "code",
   "execution_count": 20,
   "id": "e9119ddf",
   "metadata": {},
   "outputs": [
    {
     "data": {
      "text/plain": [
       "[3, 6, 9]"
      ]
     },
     "execution_count": 20,
     "metadata": {},
     "output_type": "execute_result"
    }
   ],
   "source": [
    "def stonger_list(list1):\n",
    "    return [i*len(list1) for i in list1]\n",
    "\n",
    "stonger_list([1,2,3])"
   ]
  },
  {
   "cell_type": "code",
   "execution_count": null,
   "id": "af922817",
   "metadata": {},
   "outputs": [],
   "source": []
  }
 ],
 "metadata": {
  "kernelspec": {
   "display_name": "Python 3 (ipykernel)",
   "language": "python",
   "name": "python3"
  },
  "language_info": {
   "codemirror_mode": {
    "name": "ipython",
    "version": 3
   },
   "file_extension": ".py",
   "mimetype": "text/x-python",
   "name": "python",
   "nbconvert_exporter": "python",
   "pygments_lexer": "ipython3",
   "version": "3.9.7"
  }
 },
 "nbformat": 4,
 "nbformat_minor": 5
}
