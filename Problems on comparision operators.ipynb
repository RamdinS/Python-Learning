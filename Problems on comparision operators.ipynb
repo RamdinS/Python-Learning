{
 "cells": [
  {
   "cell_type": "markdown",
   "id": "f581ca66",
   "metadata": {},
   "source": [
    "# Problems on Comparision operators"
   ]
  },
  {
   "cell_type": "code",
   "execution_count": 1,
   "id": "15f12bfb",
   "metadata": {},
   "outputs": [
    {
     "data": {
      "text/plain": [
       "True"
      ]
     },
     "execution_count": 1,
     "metadata": {},
     "output_type": "execute_result"
    }
   ],
   "source": [
    "2==2.0"
   ]
  },
  {
   "cell_type": "code",
   "execution_count": 2,
   "id": "b7feacff",
   "metadata": {},
   "outputs": [
    {
     "data": {
      "text/plain": [
       "False"
      ]
     },
     "execution_count": 2,
     "metadata": {},
     "output_type": "execute_result"
    }
   ],
   "source": [
    "(1,2,3)>(1,4,3)"
   ]
  },
  {
   "cell_type": "code",
   "execution_count": 3,
   "id": "17417955",
   "metadata": {},
   "outputs": [
    {
     "data": {
      "text/plain": [
       "True"
      ]
     },
     "execution_count": 3,
     "metadata": {},
     "output_type": "execute_result"
    }
   ],
   "source": [
    "3>=3"
   ]
  },
  {
   "cell_type": "code",
   "execution_count": 4,
   "id": "3c5bcaeb",
   "metadata": {},
   "outputs": [
    {
     "data": {
      "text/plain": [
       "True"
      ]
     },
     "execution_count": 4,
     "metadata": {},
     "output_type": "execute_result"
    }
   ],
   "source": [
    "'hello'!='Hello'"
   ]
  },
  {
   "cell_type": "code",
   "execution_count": 15,
   "id": "8de98f49",
   "metadata": {},
   "outputs": [
    {
     "data": {
      "text/plain": [
       "8"
      ]
     },
     "execution_count": 15,
     "metadata": {},
     "output_type": "execute_result"
    }
   ],
   "source": [
    "#Battle of integers -- write a func that takes a list and returns the geratest number without using max() function\n",
    "def func(l1):\n",
    "    max=l1[0]\n",
    "    for i in range(len(l1)):\n",
    "        if (l1[i] > max):\n",
    "            max=l1[i]\n",
    "    return max\n",
    "\n",
    "func([1,2,3])\n",
    "func([1,4,8,-9])"
   ]
  },
  {
   "cell_type": "code",
   "execution_count": 25,
   "id": "64efd130",
   "metadata": {},
   "outputs": [
    {
     "name": "stdout",
     "output_type": "stream",
     "text": [
      "Both are anagrams\n"
     ]
    }
   ],
   "source": [
    "#Anagram -- write a function that takes two strings and check whether thay ara anagrams\n",
    "#an anagram is a word phrase that is created by rearranging the letters of a word\n",
    "\n",
    "def func(s1,s2):\n",
    "    l1=list(s1)\n",
    "    l2=list(s2)\n",
    "    cnt=0\n",
    "    for i in range(len(l1)):\n",
    "        if (l1[i] in l2):\n",
    "            cnt+=1\n",
    "    if(cnt==(len(l1))):\n",
    "        print(\"Both are anagrams\")\n",
    "    else:\n",
    "        print(\"not an anagram\")\n",
    "        \n",
    "func('python data','nhytop atad')\n",
    "    "
   ]
  },
  {
   "cell_type": "code",
   "execution_count": 28,
   "id": "7a1c7ecd",
   "metadata": {},
   "outputs": [
    {
     "data": {
      "text/plain": [
       "False"
      ]
     },
     "execution_count": 28,
     "metadata": {},
     "output_type": "execute_result"
    }
   ],
   "source": [
    "# Another method\n",
    "\n",
    "def func(s1,s2):\n",
    "    return sorted(s1.lower())==sorted(s2.lower()) #comparision operator compares each character of s1 with each character of s2\n",
    "\n",
    "func('python data','nhytoppp atad')"
   ]
  },
  {
   "cell_type": "raw",
   "id": "6b9347c9",
   "metadata": {},
   "source": [
    "The last digit -- write a func that takes 3 digits and return true if the last digit of the result of multiplcation of 1st two nos equals that of third"
   ]
  },
  {
   "cell_type": "code",
   "execution_count": 33,
   "id": "395f5e83",
   "metadata": {},
   "outputs": [
    {
     "data": {
      "text/plain": [
       "False"
      ]
     },
     "execution_count": 33,
     "metadata": {},
     "output_type": "execute_result"
    }
   ],
   "source": [
    "def func(n1,n2,r):\n",
    "    return (str(n1*n2)[-1]==str(r)[-1])\n",
    "\n",
    "func(2,2,46)"
   ]
  },
  {
   "cell_type": "raw",
   "id": "f6c2f15a",
   "metadata": {},
   "source": [
    "Tale of twins -- write a function that takes in an integer , then check whether it is greater than the integer that is its mirror image.\n"
   ]
  },
  {
   "cell_type": "code",
   "execution_count": 45,
   "id": "866921da",
   "metadata": {},
   "outputs": [
    {
     "data": {
      "text/plain": [
       "False"
      ]
     },
     "execution_count": 45,
     "metadata": {},
     "output_type": "execute_result"
    }
   ],
   "source": [
    "def twin(n1):\n",
    "    return n1>=int(str(n1)[::-1])\n",
    "\n",
    "twin(123)"
   ]
  },
  {
   "cell_type": "code",
   "execution_count": null,
   "id": "9d5aad4c",
   "metadata": {},
   "outputs": [],
   "source": []
  }
 ],
 "metadata": {
  "kernelspec": {
   "display_name": "Python 3 (ipykernel)",
   "language": "python",
   "name": "python3"
  },
  "language_info": {
   "codemirror_mode": {
    "name": "ipython",
    "version": 3
   },
   "file_extension": ".py",
   "mimetype": "text/x-python",
   "name": "python",
   "nbconvert_exporter": "python",
   "pygments_lexer": "ipython3",
   "version": "3.9.7"
  }
 },
 "nbformat": 4,
 "nbformat_minor": 5
}
