{
 "cells": [
  {
   "cell_type": "code",
   "execution_count": 1,
   "id": "f7ec41c8",
   "metadata": {},
   "outputs": [
    {
     "data": {
      "text/plain": [
       "5"
      ]
     },
     "execution_count": 1,
     "metadata": {},
     "output_type": "execute_result"
    }
   ],
   "source": [
    "len('hello')"
   ]
  },
  {
   "cell_type": "code",
   "execution_count": 2,
   "id": "bf2db88f",
   "metadata": {},
   "outputs": [
    {
     "data": {
      "text/plain": [
       "['h', 'e', 'l', 'l', 'o', '!']"
      ]
     },
     "execution_count": 2,
     "metadata": {},
     "output_type": "execute_result"
    }
   ],
   "source": [
    "# casting string to list\n",
    "list('hello!')\n"
   ]
  },
  {
   "cell_type": "code",
   "execution_count": 4,
   "id": "7c0e06e6",
   "metadata": {},
   "outputs": [
    {
     "data": {
      "text/plain": [
       "'helloworld'"
      ]
     },
     "execution_count": 4,
     "metadata": {},
     "output_type": "execute_result"
    }
   ],
   "source": [
    "# concating two strings\n",
    "\n",
    "first_string = 'hello'\n",
    "second_string = 'world'\n",
    "new_string = first_string + second_string\n",
    "\n",
    "new_string"
   ]
  },
  {
   "cell_type": "code",
   "execution_count": 5,
   "id": "453852eb",
   "metadata": {},
   "outputs": [
    {
     "data": {
      "text/plain": [
       "'hello hello hello hello hello '"
      ]
     },
     "execution_count": 5,
     "metadata": {},
     "output_type": "execute_result"
    }
   ],
   "source": [
    "# copies of string by multiplication \n",
    "\n",
    "string = 'hello'\n",
    "(string + ' ') *5"
   ]
  },
  {
   "cell_type": "code",
   "execution_count": 9,
   "id": "0e0a8f9e",
   "metadata": {},
   "outputs": [
    {
     "name": "stdout",
     "output_type": "stream",
     "text": [
      "HELLO\n",
      "hello\n",
      "Hello\n",
      "Hello World\n"
     ]
    }
   ],
   "source": [
    "#string methods\n",
    "\n",
    "# make uppercase\n",
    "print('hello'.upper())\n",
    "\n",
    "# make lowercase\n",
    "print('HELLO'.lower())\n",
    "\n",
    "# capitalize\n",
    "print('hello'.capitalize())\n",
    "\n",
    "# title\n",
    "print('hello world'.title())\n"
   ]
  },
  {
   "cell_type": "code",
   "execution_count": 10,
   "id": "602b154f",
   "metadata": {},
   "outputs": [
    {
     "data": {
      "text/plain": [
       "['h', 'llo']"
      ]
     },
     "execution_count": 10,
     "metadata": {},
     "output_type": "execute_result"
    }
   ],
   "source": [
    "# split a word \n",
    "'hello'.split(sep = 'e')"
   ]
  },
  {
   "cell_type": "code",
   "execution_count": 12,
   "id": "0016f2da",
   "metadata": {},
   "outputs": [
    {
     "data": {
      "text/plain": [
       "['hello', 'world']"
      ]
     },
     "execution_count": 12,
     "metadata": {},
     "output_type": "execute_result"
    }
   ],
   "source": [
    "sent = 'hello world'\n",
    "sent.split(sep = ' ')"
   ]
  },
  {
   "cell_type": "code",
   "execution_count": 13,
   "id": "689381eb",
   "metadata": {},
   "outputs": [
    {
     "data": {
      "text/plain": [
       "'olleh'"
      ]
     },
     "execution_count": 13,
     "metadata": {},
     "output_type": "execute_result"
    }
   ],
   "source": [
    "# reverse a string\n",
    "s = 'hello'\n",
    "s[::-1]"
   ]
  },
  {
   "cell_type": "code",
   "execution_count": 16,
   "id": "15121842",
   "metadata": {},
   "outputs": [
    {
     "data": {
      "text/plain": [
       "'there'"
      ]
     },
     "execution_count": 16,
     "metadata": {},
     "output_type": "execute_result"
    }
   ],
   "source": [
    "# strip part of a string\n",
    "'hi there'.strip('hi ')"
   ]
  },
  {
   "cell_type": "code",
   "execution_count": 17,
   "id": "59d0c34d",
   "metadata": {},
   "outputs": [
    {
     "name": "stdout",
     "output_type": "stream",
     "text": [
      "heLLo\n",
      "hello WORLD\n"
     ]
    }
   ],
   "source": [
    "# replace a character\n",
    "print('hello'.replace('l', 'L'))\n",
    "\n",
    "# replace a word\n",
    "print('hello world'.replace('world', 'WORLD'))\n"
   ]
  },
  {
   "cell_type": "code",
   "execution_count": 20,
   "id": "0e7756bf",
   "metadata": {},
   "outputs": [
    {
     "name": "stdout",
     "output_type": "stream",
     "text": [
      "hello\n",
      "hello-world\n"
     ]
    }
   ],
   "source": [
    "# join() method you can join a list of characters or words into a longer string object.\n",
    "\n",
    "# join a list of letters\n",
    "s = ['h', 'e', 'l', 'l', 'o']\n",
    "print(''.join(s))\n",
    "\n",
    "# join a list of words \n",
    "w = ['hello', 'world']\n",
    "print('-'.join(w))\n",
    "\n"
   ]
  },
  {
   "cell_type": "code",
   "execution_count": 22,
   "id": "46136073",
   "metadata": {},
   "outputs": [
    {
     "name": "stdout",
     "output_type": "stream",
     "text": [
      "2\n",
      "2\n"
     ]
    }
   ],
   "source": [
    "# counting characters\n",
    "sent = 'His name is Abdul. Abdul is a good boy. Boy o boy'\n",
    "print(sent.count('a'))\n",
    "\n",
    "# counting the occurance of an word\n",
    "print(sent.count('boy'))\n"
   ]
  },
  {
   "cell_type": "code",
   "execution_count": 23,
   "id": "ac46f344",
   "metadata": {},
   "outputs": [
    {
     "data": {
      "text/plain": [
       "Counter({'a': 5, 'b': 6, 'x': 6})"
      ]
     },
     "execution_count": 23,
     "metadata": {},
     "output_type": "execute_result"
    }
   ],
   "source": [
    "# count ALL characters in a string\n",
    "from collections import Counter\n",
    "Counter('aaaaabbbbbbxxxxxx')"
   ]
  },
  {
   "cell_type": "code",
   "execution_count": 26,
   "id": "50f1cb25",
   "metadata": {},
   "outputs": [
    {
     "data": {
      "text/plain": [
       "Counter({'His': 1,\n",
       "         'name': 1,\n",
       "         'is': 2,\n",
       "         'Abdul.': 1,\n",
       "         'Abdul': 1,\n",
       "         'a': 1,\n",
       "         'good': 1,\n",
       "         'boy,': 1,\n",
       "         'boy': 2,\n",
       "         'o': 1})"
      ]
     },
     "execution_count": 26,
     "metadata": {},
     "output_type": "execute_result"
    }
   ],
   "source": [
    "# counting ALL words in a sentence\n",
    "sent = 'His name is Abdul. Abdul is a good boy, boy o boy'\n",
    "word_list= sent.split(' ')\n",
    "Counter(word_list)"
   ]
  },
  {
   "cell_type": "code",
   "execution_count": 27,
   "id": "03557245",
   "metadata": {},
   "outputs": [
    {
     "data": {
      "text/plain": [
       "[('is', 2), ('boy', 2), ('His', 1)]"
      ]
     },
     "execution_count": 27,
     "metadata": {},
     "output_type": "execute_result"
    }
   ],
   "source": [
    "#Associated .most_common() method returns tuples of items occurring in the highest frequencies.\n",
    "Counter(word_list).most_common(3)"
   ]
  },
  {
   "cell_type": "raw",
   "id": "f6dac03f",
   "metadata": {},
   "source": [
    "Accessing\n",
    "Accessing individual items by index or accessing index by items is quite useful.\n"
   ]
  },
  {
   "cell_type": "code",
   "execution_count": 30,
   "id": "2f0f1dff",
   "metadata": {},
   "outputs": [
    {
     "data": {
      "text/plain": [
       "6"
      ]
     },
     "execution_count": 30,
     "metadata": {},
     "output_type": "execute_result"
    }
   ],
   "source": [
    "#To access the index of a character/word:\n",
    "'hello how are you'.find('how')\n"
   ]
  },
  {
   "cell_type": "code",
   "execution_count": 29,
   "id": "be8e3a5a",
   "metadata": {},
   "outputs": [
    {
     "data": {
      "text/plain": [
       "'t'"
      ]
     },
     "execution_count": 29,
     "metadata": {},
     "output_type": "execute_result"
    }
   ],
   "source": [
    "#access a character/word by index:\n",
    "s = 'hi there'\n",
    "s[3]"
   ]
  },
  {
   "cell_type": "code",
   "execution_count": 31,
   "id": "b72d69d5",
   "metadata": {},
   "outputs": [
    {
     "data": {
      "text/plain": [
       "'hi t'"
      ]
     },
     "execution_count": 31,
     "metadata": {},
     "output_type": "execute_result"
    }
   ],
   "source": [
    "#slicing\n",
    "s = 'hi there'\n",
    "s[0:4]"
   ]
  },
  {
   "cell_type": "code",
   "execution_count": 32,
   "id": "e457a8e7",
   "metadata": {},
   "outputs": [
    {
     "name": "stdout",
     "output_type": "stream",
     "text": [
      "my name is Anna and I am 23 years old\n"
     ]
    }
   ],
   "source": [
    "#f-string\n",
    "name = 'Anna'\n",
    "age = 23\n",
    "print(f\"my name is {name} and I am {age} years old\")"
   ]
  },
  {
   "cell_type": "code",
   "execution_count": 34,
   "id": "eb0be203",
   "metadata": {},
   "outputs": [
    {
     "name": "stdout",
     "output_type": "stream",
     "text": [
      "the result of the division is 3.6666666666666665\n",
      "the result of the division is 3.667\n"
     ]
    }
   ],
   "source": [
    "# f string numbers\n",
    "div = 11/3\n",
    "print(f'the result of the division is {div}') \n",
    "print(f'the result of the division is {div:2.3f}') "
   ]
  },
  {
   "cell_type": "code",
   "execution_count": 35,
   "id": "ebdb86ae",
   "metadata": {},
   "outputs": [
    {
     "data": {
      "text/plain": [
       "<re.Match object; span=(9, 14), match='phone'>"
      ]
     },
     "execution_count": 35,
     "metadata": {},
     "output_type": "execute_result"
    }
   ],
   "source": [
    "#Regular Expression\n",
    "\n",
    "import re\n",
    "text = 'hello my phone number is (000)-111-2222'\n",
    "pattern = 'phone'\n",
    "re.search(pattern, text)"
   ]
  },
  {
   "cell_type": "code",
   "execution_count": 36,
   "id": "f49d7a2f",
   "metadata": {},
   "outputs": [
    {
     "data": {
      "text/plain": [
       "<re.Match object; span=(14, 19), match='22202'>"
      ]
     },
     "execution_count": 36,
     "metadata": {},
     "output_type": "execute_result"
    }
   ],
   "source": [
    "text = 'my zipcode is 22202'\n",
    "pattern = r'\\d\\d\\d\\d\\d' #search for number patterns in a specific format\n",
    "re.search(pattern, text)"
   ]
  },
  {
   "cell_type": "code",
   "execution_count": 40,
   "id": "a7650c2b",
   "metadata": {},
   "outputs": [
    {
     "data": {
      "text/plain": [
       "['dog', 'hog', 'fog']"
      ]
     },
     "execution_count": 40,
     "metadata": {},
     "output_type": "execute_result"
    }
   ],
   "source": [
    "#“wildcard”, represented by the .(dot) metacharacter.\n",
    "\n",
    "# input text\n",
    "text = 'the dog and the hog sat in the fog'\n",
    "# regex search\n",
    "re.findall(r'.og', text)"
   ]
  },
  {
   "cell_type": "code",
   "execution_count": null,
   "id": "dcc81397",
   "metadata": {},
   "outputs": [],
   "source": []
  }
 ],
 "metadata": {
  "kernelspec": {
   "display_name": "Python 3 (ipykernel)",
   "language": "python",
   "name": "python3"
  },
  "language_info": {
   "codemirror_mode": {
    "name": "ipython",
    "version": 3
   },
   "file_extension": ".py",
   "mimetype": "text/x-python",
   "name": "python",
   "nbconvert_exporter": "python",
   "pygments_lexer": "ipython3",
   "version": "3.9.7"
  }
 },
 "nbformat": 4,
 "nbformat_minor": 5
}
