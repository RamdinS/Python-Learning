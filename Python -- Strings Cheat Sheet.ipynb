{
 "cells": [
  {
   "cell_type": "markdown",
   "id": "def89508",
   "metadata": {},
   "source": [
    "# String Slicing Cheat Sheet"
   ]
  },
  {
   "cell_type": "code",
   "execution_count": 127,
   "id": "3e2b5544",
   "metadata": {},
   "outputs": [
    {
     "name": "stdout",
     "output_type": "stream",
     "text": [
      "'pYtHoN dAtA sCiEnCe'.capitalize()--> Python data science\n",
      "'pYtHoN dAtA sCiEnCe'.lower()--> python data science\n",
      "'pYtHoN dAtA sCiEnCe'.upper()--> PYTHON DATA SCIENCE\n",
      "'pYtHoN dAtA sCiEnCe'.title()--> Python Data Science\n",
      "'pYtHoN dAtA sCiEnCe'.swapcase()--> PyThOn DaTa ScIeNcE\n"
     ]
    }
   ],
   "source": [
    "# Cases I\n",
    "# s.capitalize()    Capitalize s # 'hello' => 'Hello'\n",
    "# s.lower()         Lowercase s # 'HELLO' => 'hello'\n",
    "# s.swapcase()      Swap cases of all characters in s # 'Hello' => \"hELLO\"\n",
    "# s.title()         Titlecase s # 'hello world' => 'Hello World'\n",
    "# s.upper()         Uppercase s # 'hello' => 'HELLO'\n",
    "\n",
    "print(\"'pYtHoN dAtA sCiEnCe'.capitalize()-->\",str1.capitalize())\n",
    "print(\"'pYtHoN dAtA sCiEnCe'.lower()-->\",str1.lower())\n",
    "print(\"'pYtHoN dAtA sCiEnCe'.upper()-->\",str1.upper())\n",
    "print(\"'pYtHoN dAtA sCiEnCe'.title()-->\",str1.title())\n",
    "print(\"'pYtHoN dAtA sCiEnCe'.swapcase()-->\",str1.swapcase())"
   ]
  },
  {
   "cell_type": "code",
   "execution_count": 132,
   "id": "0bbee611",
   "metadata": {},
   "outputs": [
    {
     "name": "stdout",
     "output_type": "stream",
     "text": [
      "str1 ==  pYtHoN dAtA sCiEnCe\n",
      "'dAtA' in 'pYtHoN dAtA sCiEnCe' -->  True\n",
      "'dAtA' + 'pYtHoN dAtA sCiEnCe' -->  dAtA pYtHoN dAtA sCiEnCe\n",
      "len('pYtHoN dAtA sCiEnCe') -->  19\n",
      "min('pYtHoN dAtA sCiEnCe') -->  A\n",
      "max('pYtHoN dAtA sCiEnCe') -->  t\n"
     ]
    }
   ],
   "source": [
    "# Sequence Operations I\n",
    "# s2 in s    Return true if s contains s2\n",
    "# s + s2     Concat s and s2\n",
    "# len(s)     Length of s\n",
    "# min(s)     Smallest character of s\n",
    "# max(s)     Largest character of s\n",
    "\n",
    "str1=\"pYtHoN dAtA sCiEnCe\"\n",
    "s2=\"dAtA\"\n",
    "print(f\"'{s2}' in '{str1}' --> \",s2 in str1)\n",
    "print(f\"'{s2}' + '{str1}' --> \",s2 + \" \" + str1)\n",
    "print(f\"len('{str1}') --> \",len(str1))\n",
    "print(f\"min('{str1}') --> \",min(s2)) #Uppercase will come before lowercase -- \"A\" is near to A\n",
    "print(f\"max('{str1}') --> \",max(s2)) # \"t\" is near to z"
   ]
  },
  {
   "cell_type": "code",
   "execution_count": 139,
   "id": "deeb8ae9",
   "metadata": {},
   "outputs": [
    {
     "name": "stdout",
     "output_type": "stream",
     "text": [
      "'dAtA ' not in 'pYtHoN dAtA sCiEnCe' -->  False\n",
      "'dAtA ' * 5 -->  dAtA dAtA dAtA dAtA dAtA \n",
      "'pYtHoN dAtA sCiEnCe'[1] -->  Y\n",
      "'pYtHoN dAtA sCiEnCe'[0:6:1] -->  pYtHoN\n",
      "'pYtHoN dAtA sCiEnCe'.count('dAtA ')  -->  1\n"
     ]
    }
   ],
   "source": [
    "# Sequence Operations II\n",
    "# s2 not in s       Return true if s does not contain s2\n",
    "# s * integer       Return integer copies of s concatenated # 'hello' => 'hellohellohello'\n",
    "# s[index]          Character at index of s\n",
    "# s[i:j:k]          Slice of s from i to j with step k\n",
    "# s.count(s2)       Count of s2 in s\n",
    "\n",
    "str1=\"pYtHoN dAtA sCiEnCe\"\n",
    "s2=\"dAtA \"\n",
    "print(f\"'{s2}' not in '{str1}' --> \", s2 not in str1)\n",
    "print(f\"'{s2}' * 5 --> \", s2 * 5)\n",
    "print(f\"'{str1}'[1] --> \",str1[1])\n",
    "print(f\"'{str1}'[0:6:1] --> \",str1[0:6:1])\n",
    "print(f\"'{str1}'.count('{s2}')  --> \",str1.count(s2))"
   ]
  },
  {
   "cell_type": "code",
   "execution_count": 144,
   "id": "4cab5515",
   "metadata": {},
   "outputs": [
    {
     "name": "stdout",
     "output_type": "stream",
     "text": [
      "'python'.center(10) --> '   python   '\n",
      "'python'.isspace() -->  False\n",
      "'python'.ljust(10) --> ' python     '\n",
      "'python'.rjust(10) --> '     python '\n",
      "'python'.strip() --> ' python '\n"
     ]
    }
   ],
   "source": [
    "# Whitespace I\n",
    "# s.center(width)     Center s with blank padding of width # 'hi' => ' hi '\n",
    "# s.isspace()         Return true if s only contains whitespace characters\n",
    "# s.ljust(width)      Left justifiy s with total size of width # 'hello' => 'hello '\n",
    "# s.rjust(width)      Right justify s with total size of width # 'hello' => ' hello'\n",
    "# s.strip()           Remove leading and trailing whitespace from s # ' hello ' => 'hello'\n",
    "\n",
    "s1=\"    python      \"\n",
    "s2=\"python\"\n",
    "print(f\"'{s2}'.center(10) --> '\",s2.center(10),\"'\")\n",
    "print(f\"'{s2}'.isspace() --> \",s2.isspace())\n",
    "print(f\"'{s2}'.ljust(10) --> '\",s2.ljust(10),\"'\")\n",
    "print(f\"'{s2}'.rjust(10) --> '\",s2.rjust(10),\"'\")\n",
    "print(f\"'{s2}'.strip() --> '\",s1.strip(),\"'\")"
   ]
  },
  {
   "cell_type": "code",
   "execution_count": 58,
   "id": "980b366f",
   "metadata": {},
   "outputs": [
    {
     "name": "stdout",
     "output_type": "stream",
     "text": [
      "'pYtHoN dAtA sCiEnCe, dAtA Analytics'.index('dAtA ', 0, 15) -->  7\n",
      "'pYtHoN dAtA sCiEnCe, dAtA Analytics'.find('dAtA ') -->  7\n",
      "'pYtHoN dAtA sCiEnCe, dAtA Analytics'.replace('dAtA ', 'and') -->  pYtHoN and sCiEnCe, and Analytics\n",
      "'pYtHoN dAtA sCiEnCe, dAtA Analytics'.replace('dAtA ','and',1) -->  pYtHoN and sCiEnCe, dAtA Analytics\n",
      "'pYtHoN dAtA sCiEnCe, dAtA Analytics'.rfind('dAtA ') -->  21\n",
      "'pYtHoN dAtA sCiEnCe, dAtA Analytics'.rindex('dAtA ') -->  21\n"
     ]
    }
   ],
   "source": [
    "# Find / Replace I\n",
    "# s.index(s2, i, j)     Index of first occurrence of s2 in s after index i and before index j\n",
    "# s.find(s2)            Find and return lowest index of s2 in s\n",
    "# s.index(s2)           Return lowest index of s2 in s (but raise ValueError if not found)\n",
    "# s.replace(s2, s3)     Replace s2 with s3 in s\n",
    "# s.replace(s2, s3, count)  Replace s2 with s3 in s at most count times\n",
    "# s.rfind(s2)           Return highest index of s2 in s\n",
    "# s.rindex(s2)          Return highest index of s2 in s (raise ValueError if not found)\n",
    "\n",
    "str1=\"pYtHoN dAtA sCiEnCe, dAtA Analytics\"\n",
    "s2=\"dAtA \"\n",
    "print(f\"'{str1}'.index('{s2}', 0, 15) --> \", str1.index(s2, 0, 15))\n",
    "print(f\"'{str1}'.find('{s2}') --> \",str1.find(s2))\n",
    "print(f\"'{str1}'.replace('{s2}', 'and') --> \",str1.replace(s2,'and '))\n",
    "print(f\"'{str1}'.replace('{s2}','and',1) --> \",str1.replace(s2,'and ',1))\n",
    "print(f\"'{str1}'.rfind('{s2}') --> \",str1.rfind(s2))\n",
    "print(f\"'{str1}'.rindex('{s2}') --> \",str1.rindex(s2))"
   ]
  },
  {
   "cell_type": "code",
   "execution_count": 70,
   "id": "5472ac6b",
   "metadata": {},
   "outputs": [
    {
     "name": "stdout",
     "output_type": "stream",
     "text": [
      "'ßorat'.casefold() -->  ssorat\n",
      "'python'.islower() -->  True\n",
      "'Python Data'.istitle() -->  True\n",
      "'PYTHON'.isupper() -->  True\n"
     ]
    }
   ],
   "source": [
    "# Cases II\n",
    "# s.casefold()      Casefold s (aggressive lowercasing for caseless matching) # 'ßorat' => 'ssorat'\n",
    "# s.islower()       Return true if s is lowercase\n",
    "# s.istitle()       Return true if s is titlecased # 'Hello World' => true\n",
    "# s.isupper()       Return true if s is uppercase\n",
    "\n",
    "print(f\"'ßorat'.casefold() --> \",'ßorat'.casefold())\n",
    "print(f\"'python'.islower() --> \",'python'.islower())\n",
    "print(f\"'Python Data'.istitle() --> \",'Python Data'.istitle())\n",
    "print(f\"'PYTHON'.isupper() --> \",'PYTHON'.isupper())"
   ]
  },
  {
   "cell_type": "code",
   "execution_count": 78,
   "id": "c85da0b3",
   "metadata": {},
   "outputs": [
    {
     "name": "stdout",
     "output_type": "stream",
     "text": [
      "'python'.endswith('on') -->  True\n",
      "'python123'.isalnum() -->  True\n",
      "'python'.isalpha() -->  True\n",
      "'1234'.isdecimal() -->  True\n",
      "'1234'.isnumeric() -->  True\n",
      "'1234'.startswith('1') -->  True\n"
     ]
    }
   ],
   "source": [
    "# Inspection I\n",
    "# s.endswith(s2)        Return true if s ends with s2\n",
    "# s.isalnum()           Return true if s is alphanumeric\n",
    "# s.isalpha()           Return true if s is alphabetic\n",
    "# s.isdecimal()         Return true if s is  digits/numbers and unicodes\n",
    "# s.isnumeric()         Return true if s is digits/numbers and unicodes,subscripts, superscripts, vulgar fractions\n",
    "# s.startswith(s2)      Return true is s starts with s2\n",
    "\n",
    "print(\"'python'.endswith('on') --> \",'python'.endswith('on'))\n",
    "print(\"'python123'.isalnum() --> \",'python123'.isalnum())\n",
    "print(\"'python'.isalpha() --> \",'python'.isalpha())\n",
    "print(\"'1234'.isdecimal() --> \",'1234'.isdecimal())\n",
    "print(\"'1234'.isnumeric() --> \",'1234'.isnumeric())\n",
    "print(\"'1234'.startswith('1') --> \",'1234'.startswith('1'))"
   ]
  },
  {
   "cell_type": "code",
   "execution_count": 100,
   "id": "3c366bd5",
   "metadata": {},
   "outputs": [
    {
     "name": "stdout",
     "output_type": "stream",
     "text": [
      "'hello'.join('123') -->  1hello2hello3\n",
      "'hello'.partition('l') -->  ('he', 'l', 'lo')\n",
      "'hello'.rpartition('l') -->  ('hel', 'l', 'o')\n",
      "'apple, banana, cherry'.rsplit(',',1) -->  ['apple, banana', ' cherry']\n",
      "'apple, banana, cherry'.split(',',1) -->  ['apple', ' banana, cherry']\n",
      "'hello\\nworld'.splitlines() -->  ['hello', 'world']\n"
     ]
    }
   ],
   "source": [
    "# Splitting I\n",
    "# s.join('123')          Return s joined by iterable '123' # 'hello' => '1hello2hello3'\n",
    "# s.partition(sep)       Partition string at sep and return 3-tuple with part before, the sep itself, and part after # 'hello' => ('he', 'l', 'lo')\n",
    "# s.rpartition(sep)      Partition string at last occurrence of sep, return 3-tuple with part before, the sep, and part after # 'hello' => ('hel', 'l', 'o')\n",
    "# s.rsplit(sep, maxsplit) Return list of s split by sep with rightmost maxsplits performed\n",
    "# s.split(sep, maxsplit)  Return list of s split by sep with leftmost maxsplits performed\n",
    "# s.splitlines()         Return a list of lines in s # 'hello\\nworld' => ['hello', 'world']\n",
    "\n",
    "print(\"'hello'.join('123') --> \",'hello'.join('123'))\n",
    "print(\"'hello'.partition('l') --> \",'hello'.partition('l'))\n",
    "print(\"'hello'.rpartition('l') --> \",'hello'.rpartition('l'))\n",
    "print(\"'apple, banana, cherry'.rsplit(',',1) --> \",'apple, banana, cherry'.rsplit(',',1))\n",
    "print(\"'apple, banana, cherry'.split(',',1) --> \",'apple, banana, cherry'.split(',',1))\n",
    "print(\"'hello\\\\nworld'.splitlines() --> \",'hello\\nworld'.splitlines())"
   ]
  },
  {
   "cell_type": "code",
   "execution_count": 115,
   "id": "7ce47366",
   "metadata": {},
   "outputs": [
    {
     "name": "stdout",
     "output_type": "stream",
     "text": [
      "'hello'[2:5] -->  llo\n",
      "'hello'.endswith('a','e','i','o','u') -->  True\n",
      "'123'.isdigit() -->  True\n",
      "'if'.isidentifier() -->  True\n",
      "'if'.isprintable() -->  True\n"
     ]
    }
   ],
   "source": [
    "# Inspection II\n",
    "# s[i:j]                    Slice of s from i to j\n",
    "# s.endswith((s1, s2, s3))  Return true if s ends with any of string tuple s1, s2, and s3\n",
    "# s.isdigit()               Return true if s is digits/numbers and unicodes,subscripts, superscripts  \n",
    "# s.isidentifier()          Return true if s is a valid identifier\n",
    "# s.isprintable()           Return true is s is printable\n",
    "\n",
    "print(\"'hello'[2:5] --> \",'hello'[2:5])\n",
    "print(\"'hello'.endswith('a','e','i','o','u') --> \",'hello'.endswith(('a','e','i','o','u')))\n",
    "print(\"'123'.isdigit() --> \",'123'.isdigit())\n",
    "print(\"'if'.isidentifier() --> \",'if'.isidentifier())\n",
    "print(\"'if'.isprintable() --> \",'if'.isidentifier())"
   ]
  },
  {
   "cell_type": "code",
   "execution_count": 125,
   "id": "259c6f74",
   "metadata": {},
   "outputs": [
    {
     "name": "stdout",
     "output_type": "stream",
     "text": [
      "'hi'.center(10,'#') -->  ####hi####\n",
      "'hello\tworld'.expandtabs(5) -->  hello     world\n",
      "'     hello     '.lstrip() --> ' hello      '\n",
      "'     hello     '.rstrip() --> '      hello '\n",
      "'hello'.zfill(10) -->  00000hello\n"
     ]
    }
   ],
   "source": [
    "# Whitespace II\n",
    "# s.center(width, pad)           Center s with padding pad of width # 'hi' => 'padpadhipadpad'\n",
    "# s.expandtabs(integer)          Replace all tabs with spaces of tabsize integer # 'hello\\tworld' => 'hello world'\n",
    "# s.lstrip()                     Remove leading whitespace from s # ' hello ' => 'hello '\n",
    "# s.rstrip()                     Remove trailing whitespace from s # ' hello ' => ' hello'\n",
    "# s.zfill(width)                 Left fill s with ASCII '0' digits with total length width # '42' => '00042'\n",
    "\n",
    "print(\"'hi'.center(10,'#') --> \",'hi'.center(10,'#'))\n",
    "print(\"'hello\\tworld'.expandtabs(5) --> \",'hello\\tworld'.expandtabs(5))\n",
    "print(\"'     hello     '.lstrip() --> '\",'     hello     '.lstrip(),\"'\")\n",
    "print(\"'     hello     '.rstrip() --> '\",'     hello     '.rstrip(),\"'\")\n",
    "print(\"'hello'.zfill(10) --> \",'hello'.zfill(10))"
   ]
  }
 ],
 "metadata": {
  "kernelspec": {
   "display_name": "Python 3 (ipykernel)",
   "language": "python",
   "name": "python3"
  },
  "language_info": {
   "codemirror_mode": {
    "name": "ipython",
    "version": 3
   },
   "file_extension": ".py",
   "mimetype": "text/x-python",
   "name": "python",
   "nbconvert_exporter": "python",
   "pygments_lexer": "ipython3",
   "version": "3.9.7"
  }
 },
 "nbformat": 4,
 "nbformat_minor": 5
}
