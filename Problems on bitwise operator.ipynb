{
 "cells": [
  {
   "cell_type": "markdown",
   "id": "4a710987",
   "metadata": {},
   "source": [
    "# Problem on Bitwise Operators"
   ]
  },
  {
   "cell_type": "code",
   "execution_count": 47,
   "id": "98ddffd4",
   "metadata": {},
   "outputs": [
    {
     "data": {
      "text/plain": [
       "'11'"
      ]
     },
     "execution_count": 47,
     "metadata": {},
     "output_type": "execute_result"
    }
   ],
   "source": [
    "bin(3).replace(\"0b\", \"\")"
   ]
  },
  {
   "cell_type": "code",
   "execution_count": 7,
   "id": "4f561553",
   "metadata": {},
   "outputs": [
    {
     "data": {
      "text/plain": [
       "'111'"
      ]
     },
     "execution_count": 7,
     "metadata": {},
     "output_type": "execute_result"
    }
   ],
   "source": [
    "bin(7).replace(\"0b\", \"\")"
   ]
  },
  {
   "cell_type": "raw",
   "id": "00f6c084",
   "metadata": {},
   "source": [
    "5 -->   1 0 1\n",
    "7 -->   1 1 1\n",
    "(+) --> 1 1 1 --> 7 --> |\n",
    "(*) --> 1 0 1 --> 5 --> &\n",
    "\n",
    "Bitwise AND operator: Returns 1 if both the bits are 1 else 0. --> &\n",
    "a = 10 = 1010 (Binary)\n",
    "b = 4 =  0100 (Binary)\n",
    "\n",
    "a & b = 1010\n",
    "         &\n",
    "        0100\n",
    "      = 0000\n",
    "      = 0 (Decimal)\n",
    "      \n",
    "Bitwise or operator: Returns 1 if either of the bit is 1 else 0. --> |\n",
    "a = 10 = 1010 (Binary)\n",
    "b = 4 =  0100 (Binary)\n",
    "\n",
    "a | b = 1010\n",
    "         |\n",
    "        0100\n",
    "      = 1110\n",
    "      = 14 (Decimal)\n",
    "      \n",
    "Bitwise not operator: Returns one’s complement of the number. --> ~\n",
    "a = 10 = 1010 (Binary)\n",
    "\n",
    "~a = ~1010\n",
    "   = -(1010 + 1)\n",
    "   = -(1011)\n",
    "   = -11 (Decimal)\n",
    "   \n",
    "Bitwise xor operator: Returns 1 if one of the bits is 1 and the other is 0 else returns false. --> ^\n",
    "a = 5 = 0101 (Binary)\n",
    "b = 7 = 0111 (Binary)\n",
    "\n",
    "a ^ b = 0101\n",
    "         ^\n",
    "        0111\n",
    "      = 0010\n",
    "      = 2 (Decimal)\n",
    "      \n",
    "\n",
    "Bitwise right shift: Shifts the bits of the number to the right and fills 0 on voids left( fills 1 in the case of a negative number) as a result. Similar effect as of dividing the number with some power of two.\n",
    "Example: \n",
    "\n",
    "Example 1:\n",
    "a = 10 = 0000 1010 (Binary)\n",
    "a >> 1 = 0000 0101 = 5\n",
    "\n",
    "Example 2:\n",
    "a = -10 = 1111 0110 (Binary)\n",
    "a >> 1 = 1111 1011 = -5 \n",
    "\n",
    "Bitwise left shift: Shifts the bits of the number to the left and fills 0 on voids right as a result. Similar effect as of multiplying the number with some power of two.\n",
    "Example: \n",
    "\n",
    "Example 1:\n",
    "a = 5 = 0000 0101 (Binary)\n",
    "a << 1 = 0000 1010 = 10\n",
    "a << 2 = 0001 0100 = 20 \n",
    "\n",
    "Example 2:\n",
    "b = -10 = 1111 0110 (Binary)\n",
    "b << 1 = 1110 1100 = -20\n",
    "b << 2 = 1101 1000 = -40 "
   ]
  },
  {
   "cell_type": "code",
   "execution_count": 33,
   "id": "099067dc",
   "metadata": {},
   "outputs": [
    {
     "name": "stdout",
     "output_type": "stream",
     "text": [
      "a & b = 0\n",
      "a | b = 14\n",
      "~a = -11\n",
      "a ^ b = 14\n"
     ]
    }
   ],
   "source": [
    "# Python program to show\n",
    "# bitwise operators\n",
    " \n",
    "a = 10\n",
    "b = 4\n",
    " \n",
    "# Print bitwise AND operation\n",
    "print(\"a & b =\", a & b)\n",
    " \n",
    "# Print bitwise OR operation\n",
    "print(\"a | b =\", a | b)\n",
    " \n",
    "# Print bitwise NOT operation\n",
    "print(\"~a =\", ~a)\n",
    " \n",
    "# print bitwise XOR operation\n",
    "print(\"a ^ b =\", a ^ b)"
   ]
  },
  {
   "cell_type": "code",
   "execution_count": 35,
   "id": "aacd021a",
   "metadata": {},
   "outputs": [
    {
     "name": "stdout",
     "output_type": "stream",
     "text": [
      "a >> 1 = 5\n",
      "b >> 1 = -5\n",
      "a << 1 = 10\n",
      "b << 1 = -20\n"
     ]
    }
   ],
   "source": [
    "\n",
    "# Python program to show\n",
    "# shift operators\n",
    " \n",
    "a = 10\n",
    "b = -10\n",
    " \n",
    "# print bitwise right shift operator\n",
    "print(\"a >> 1 =\", a >> 1)\n",
    "print(\"b >> 1 =\", b >> 1)\n",
    " \n",
    "a = 5\n",
    "b = -10\n",
    " \n",
    "# print bitwise left shift operator\n",
    "print(\"a << 1 =\", a << 1)\n",
    "print(\"b << 1 =\", b << 1)"
   ]
  },
  {
   "cell_type": "code",
   "execution_count": 34,
   "id": "f9e3993a",
   "metadata": {},
   "outputs": [
    {
     "data": {
      "text/plain": [
       "5"
      ]
     },
     "execution_count": 34,
     "metadata": {},
     "output_type": "execute_result"
    }
   ],
   "source": [
    "5 & 7 #multiplication of binary"
   ]
  },
  {
   "cell_type": "code",
   "execution_count": 5,
   "id": "0aa1e624",
   "metadata": {},
   "outputs": [
    {
     "data": {
      "text/plain": [
       "7"
      ]
     },
     "execution_count": 5,
     "metadata": {},
     "output_type": "execute_result"
    }
   ],
   "source": [
    "5 | 7 #addition of binary"
   ]
  },
  {
   "cell_type": "code",
   "execution_count": 8,
   "id": "6dae329f",
   "metadata": {},
   "outputs": [
    {
     "data": {
      "text/plain": [
       "1"
      ]
     },
     "execution_count": 8,
     "metadata": {},
     "output_type": "execute_result"
    }
   ],
   "source": [
    "0 | True"
   ]
  },
  {
   "cell_type": "code",
   "execution_count": 12,
   "id": "e58847a4",
   "metadata": {},
   "outputs": [
    {
     "data": {
      "text/plain": [
       "8"
      ]
     },
     "execution_count": 12,
     "metadata": {},
     "output_type": "execute_result"
    }
   ],
   "source": [
    "4<<1 # 4 --> 100 and shifting left by 1 bit is 1000 i.e 8"
   ]
  },
  {
   "cell_type": "code",
   "execution_count": 17,
   "id": "28ecb5f6",
   "metadata": {},
   "outputs": [
    {
     "data": {
      "text/plain": [
       "20"
      ]
     },
     "execution_count": 17,
     "metadata": {},
     "output_type": "execute_result"
    }
   ],
   "source": [
    "5<<2 # 5 --> 101 and shifting by 2 bit is 10100 i.e 20"
   ]
  },
  {
   "cell_type": "code",
   "execution_count": 27,
   "id": "302719cd",
   "metadata": {},
   "outputs": [
    {
     "data": {
      "text/plain": [
       "2"
      ]
     },
     "execution_count": 27,
     "metadata": {},
     "output_type": "execute_result"
    }
   ],
   "source": [
    "1<<1"
   ]
  },
  {
   "cell_type": "code",
   "execution_count": 36,
   "id": "71839d89",
   "metadata": {},
   "outputs": [
    {
     "data": {
      "text/plain": [
       "5"
      ]
     },
     "execution_count": 36,
     "metadata": {},
     "output_type": "execute_result"
    }
   ],
   "source": [
    "4^1"
   ]
  },
  {
   "cell_type": "code",
   "execution_count": 41,
   "id": "34a68f29",
   "metadata": {},
   "outputs": [
    {
     "data": {
      "text/plain": [
       "5"
      ]
     },
     "execution_count": 41,
     "metadata": {},
     "output_type": "execute_result"
    }
   ],
   "source": [
    "# Toggled digits --- toggle the digits at a specified location in its binary form and return it \n",
    "def toggle(num,pos): # num=4 --> 0100 and pos=1\n",
    "    num^=(1<<pos) # num = 4 ^ (1<<1) --> 0100 ^ (0001 << 1) --> 0100 ^ 0010 --> 0110 i.e [5]\n",
    "    return num\n",
    "\n",
    "# We have used 1<<pos because 1 binary is 0001 so we can shift 1 acc to our position and then XOR will toggle the digit at that position \n",
    "# # As XOR--> 1 ^ 1 is 0 # where ever we XOR with 1 it resuls toggled output\n",
    "#             0 ^ 0 is 0 # where ever we XOR with 0 it resuls same output\n",
    "#             1 ^ 0 is 1 # where ever we XOR with 0 it resuls same output\n",
    "#             0 ^ 1 is 1 # where ever we XOR with 1 it resuls toggled output\n",
    "\n",
    "toggle(4,1) # 4 --> 0100 [toggeling 1st location 0 to 1]--> 0110 [5] "
   ]
  },
  {
   "cell_type": "code",
   "execution_count": 45,
   "id": "d6ee1368",
   "metadata": {},
   "outputs": [
    {
     "data": {
      "text/plain": [
       "3"
      ]
     },
     "execution_count": 45,
     "metadata": {},
     "output_type": "execute_result"
    }
   ],
   "source": [
    "toggle(7,2)\n",
    "# 0001 << 2 == 0100\n",
    "# 7 --> 0111\n",
    "# 0111 ^ 0100 == 0011 i.e 3 \n",
    "# we toggled 2nd position in 7 --> 0111 to 0011"
   ]
  },
  {
   "cell_type": "code",
   "execution_count": 48,
   "id": "c8aa0158",
   "metadata": {},
   "outputs": [
    {
     "name": "stdout",
     "output_type": "stream",
     "text": [
      "6\n",
      "12\n",
      "24\n"
     ]
    }
   ],
   "source": [
    "#Doubles -- Write a function which gives n number of times in a series the series begins at 3 and doubles the number each time\n",
    "\n",
    "def doubles(n):\n",
    "    num=3\n",
    "    for index in range(n):\n",
    "        num=eval(bin(num))<<1\n",
    "        print(num)\n",
    "\n",
    "doubles(3)\n",
    "3 --> 0011\n",
    "n=3 i.e 3 iterations\n",
    "1st iteration :\n",
    "num = 0011 << 1 == 0110 i.e 6 --> <<1 to a number doubles it or 2x\n",
    "2nd iteration :\n",
    "num = 0110 << 1 == 1100 i.e 12\n",
    "3rd iteration :\n",
    "num = 1100 << 1 == 0001 1000 i.e 24"
   ]
  },
  {
   "cell_type": "code",
   "execution_count": 56,
   "id": "85f59d06",
   "metadata": {},
   "outputs": [
    {
     "data": {
      "text/plain": [
       "15"
      ]
     },
     "execution_count": 56,
     "metadata": {},
     "output_type": "execute_result"
    }
   ],
   "source": [
    "#troubled addition -- add 2 nos without using the sum() or + operator\n",
    "# Not operator can be used \n",
    "# ~a = ~1010\n",
    "#    = -(1010 + 1)\n",
    "#    = -(1011)\n",
    "#    = -11 (Decimal)\n",
    "\n",
    "a=10\n",
    "b=5\n",
    "res = a - ~b - 1 \n",
    "# 10 - (~5) -1\n",
    "# 10 - (-5 - 1) -1\n",
    "# 10 + 5 + 1 - 1\n",
    "# 10+5\n",
    "# 15\n",
    "res"
   ]
  },
  {
   "cell_type": "code",
   "execution_count": 57,
   "id": "742a62dc",
   "metadata": {},
   "outputs": [
    {
     "data": {
      "text/plain": [
       "(21, 4)"
      ]
     },
     "execution_count": 57,
     "metadata": {},
     "output_type": "execute_result"
    }
   ],
   "source": [
    "# Bit wise swap -- swap two integers\n",
    "# The bitwise XOR operator can be used to swap two variables. \n",
    "# The XOR of two numbers x and y returns a number which has all the bits as 1 wherever bits of x and y differ. \n",
    "# For example XOR of 10 (In Binary 1010) and 5 (In Binary 0101) is 1111 and XOR of 7 (0111) and 5 (0101) is (0010).\n",
    "\n",
    "def bit_swap(a,b): #a=4 and b=21\n",
    "    a=a^b # a = 4 ^ 21 --> 0000 0100 ^ 0001 0101 --> 0001 0001\n",
    "    b=b^a # b = 0001 0101 ^ 0001 0001 --> 0000 0100 i.e 4 so its bsically 21 ^ (4 ^ 21) = 4\n",
    "    a=a^b # a = 0000 0100 ^ 0001 0001 --> 0001 0101 i.e 21 so its bsically (4 ^ 21) ^ 4 = 21\n",
    "    return (a,b)\n",
    "\n",
    "bit_swap(4,21)"
   ]
  },
  {
   "cell_type": "code",
   "execution_count": 59,
   "id": "d8c00ffc",
   "metadata": {},
   "outputs": [
    {
     "data": {
      "text/plain": [
       "'0b10101'"
      ]
     },
     "execution_count": 59,
     "metadata": {},
     "output_type": "execute_result"
    }
   ],
   "source": [
    "bin(21)"
   ]
  },
  {
   "cell_type": "code",
   "execution_count": null,
   "id": "b246fbc0",
   "metadata": {},
   "outputs": [],
   "source": []
  }
 ],
 "metadata": {
  "kernelspec": {
   "display_name": "Python 3 (ipykernel)",
   "language": "python",
   "name": "python3"
  },
  "language_info": {
   "codemirror_mode": {
    "name": "ipython",
    "version": 3
   },
   "file_extension": ".py",
   "mimetype": "text/x-python",
   "name": "python",
   "nbconvert_exporter": "python",
   "pygments_lexer": "ipython3",
   "version": "3.9.7"
  }
 },
 "nbformat": 4,
 "nbformat_minor": 5
}
