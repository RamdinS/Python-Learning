{
 "cells": [
  {
   "cell_type": "markdown",
   "id": "1e453b8f",
   "metadata": {},
   "source": [
    "# Problems in sequence and collections"
   ]
  },
  {
   "cell_type": "raw",
   "id": "0c2dcd19",
   "metadata": {},
   "source": [
    "1. What are Python Collections and Sequences?\n"
   ]
  },
  {
   "cell_type": "raw",
   "id": "aa17d906",
   "metadata": {},
   "source": [
    "2. What are the different types of Sequences in Python?\n"
   ]
  },
  {
   "cell_type": "raw",
   "id": "966d99f1",
   "metadata": {},
   "source": [
    "3. Is string, a collection in Python?\n"
   ]
  },
  {
   "cell_type": "raw",
   "id": "14fff264",
   "metadata": {},
   "source": [
    "4. What are collection data types in Python?\n"
   ]
  },
  {
   "cell_type": "raw",
   "id": "e1fa9765",
   "metadata": {},
   "source": [
    "5. Is set, a sequence in Python?\n"
   ]
  }
 ],
 "metadata": {
  "kernelspec": {
   "display_name": "Python 3",
   "language": "python",
   "name": "python3"
  },
  "language_info": {
   "codemirror_mode": {
    "name": "ipython",
    "version": 3
   },
   "file_extension": ".py",
   "mimetype": "text/x-python",
   "name": "python",
   "nbconvert_exporter": "python",
   "pygments_lexer": "ipython3",
   "version": "3.8.8"
  }
 },
 "nbformat": 4,
 "nbformat_minor": 5
}
