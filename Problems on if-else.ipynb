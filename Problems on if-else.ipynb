{
 "cells": [
  {
   "cell_type": "markdown",
   "id": "2a5dbdaa",
   "metadata": {},
   "source": [
    "# Problems on If-else"
   ]
  },
  {
   "cell_type": "raw",
   "id": "11af20ab",
   "metadata": {},
   "source": [
    "fizzbuzz -- WAP to print 1-50 as below\n",
    "print fizz if divisible by 3\n",
    "print buzz if divisible by 5\n",
    "print fizzbuzz if divisible by 3 and 5"
   ]
  },
  {
   "cell_type": "code",
   "execution_count": 2,
   "id": "712582de",
   "metadata": {},
   "outputs": [
    {
     "name": "stdout",
     "output_type": "stream",
     "text": [
      "1\n",
      "2\n",
      "fizz\n",
      "4\n",
      "buzz\n",
      "fizz\n",
      "7\n",
      "8\n",
      "fizz\n",
      "buzz\n",
      "11\n",
      "fizz\n",
      "13\n",
      "14\n",
      "fizzbuzz\n",
      "16\n",
      "17\n",
      "fizz\n",
      "19\n",
      "buzz\n",
      "fizz\n",
      "22\n",
      "23\n",
      "fizz\n",
      "buzz\n",
      "26\n",
      "fizz\n",
      "28\n",
      "29\n",
      "fizzbuzz\n",
      "31\n",
      "32\n",
      "fizz\n",
      "34\n",
      "buzz\n",
      "fizz\n",
      "37\n",
      "38\n",
      "fizz\n",
      "buzz\n",
      "41\n",
      "fizz\n",
      "43\n",
      "44\n",
      "fizzbuzz\n",
      "46\n",
      "47\n",
      "fizz\n",
      "49\n",
      "buzz\n"
     ]
    }
   ],
   "source": [
    "def func():\n",
    "    for i in range(1,51):\n",
    "        if(i%3==0):\n",
    "            print(\"fizz\",end=\"\")\n",
    "        if(i%5==0):\n",
    "            print(\"buzz\")\n",
    "            continue\n",
    "        if(i%3==0):\n",
    "            print(\"\")\n",
    "            continue\n",
    "        print(i)\n",
    "\n",
    "func()"
   ]
  },
  {
   "cell_type": "code",
   "execution_count": 5,
   "id": "26bd9a01",
   "metadata": {},
   "outputs": [
    {
     "data": {
      "text/plain": [
       "12"
      ]
     },
     "execution_count": 5,
     "metadata": {},
     "output_type": "execute_result"
    }
   ],
   "source": [
    "# Double-sum: WAP to print sum of two integers \n",
    "# if the 1st is twice the 2nd then return twice their sum\n",
    "\n",
    "def func(a,b):\n",
    "    return 2*(a+b) if (a==2*b) else (a+b)\n",
    "\n",
    "func(4,2)"
   ]
  },
  {
   "cell_type": "code",
   "execution_count": 7,
   "id": "03d1af78",
   "metadata": {},
   "outputs": [
    {
     "data": {
      "text/plain": [
       "12"
      ]
     },
     "execution_count": 7,
     "metadata": {},
     "output_type": "execute_result"
    }
   ],
   "source": [
    "#Another way\n",
    "def func(a,b):\n",
    "    return (1+int(a==2*b))*(a+b) # here int(a==2*b) will return 1 if true else 0 so in case of true it will be (1+1)*(a+b)\n",
    "\n",
    "func(4,2)"
   ]
  },
  {
   "cell_type": "code",
   "execution_count": 11,
   "id": "b1836a58",
   "metadata": {},
   "outputs": [
    {
     "name": "stdout",
     "output_type": "stream",
     "text": [
      "200,202,204,206,208,220,222,224,226,228,240,242,244,246,248,260,262,264,266,268,280,282,284,286,288,"
     ]
    }
   ],
   "source": [
    "#All evens -- WAP that takes inclusive interval from user and rerun all values where all digits are even.\n",
    "def func(a,b):\n",
    "    for i in range(a,b+1):\n",
    "        if all([int(digit)%2==0 for digit in [char for char in str(i)]]):\n",
    "            print(i,end=\",\")\n",
    "func(200,300)"
   ]
  },
  {
   "cell_type": "code",
   "execution_count": 26,
   "id": "7a59ec58",
   "metadata": {},
   "outputs": [
    {
     "data": {
      "text/plain": [
       "False"
      ]
     },
     "execution_count": 26,
     "metadata": {},
     "output_type": "execute_result"
    }
   ],
   "source": [
    "#upp -- WAP that takes list of integers and checks whether they are arranged in strictly increasing order.\n",
    "def func(l1):\n",
    "    max=0\n",
    "    newlst=l1\n",
    "    for i in range(len(l1)):\n",
    "        for j in range(i+1,len(l1)):\n",
    "            if(l1[i]>=l1[j]):\n",
    "                return False\n",
    "    return True\n",
    "\n",
    "            \n",
    "    \n",
    "func([1,5,3,4])"
   ]
  },
  {
   "cell_type": "code",
   "execution_count": 29,
   "id": "90db9c3b",
   "metadata": {},
   "outputs": [
    {
     "data": {
      "text/plain": [
       "[3, 4, 6, 6, 7, 38]"
      ]
     },
     "execution_count": 29,
     "metadata": {},
     "output_type": "execute_result"
    }
   ],
   "source": [
    "l1=[6,4,7,3,6,38]\n",
    "l1.sort()\n",
    "l1"
   ]
  },
  {
   "cell_type": "code",
   "execution_count": null,
   "id": "706ae0f7",
   "metadata": {},
   "outputs": [],
   "source": []
  }
 ],
 "metadata": {
  "kernelspec": {
   "display_name": "Python 3 (ipykernel)",
   "language": "python",
   "name": "python3"
  },
  "language_info": {
   "codemirror_mode": {
    "name": "ipython",
    "version": 3
   },
   "file_extension": ".py",
   "mimetype": "text/x-python",
   "name": "python",
   "nbconvert_exporter": "python",
   "pygments_lexer": "ipython3",
   "version": "3.9.7"
  }
 },
 "nbformat": 4,
 "nbformat_minor": 5
}
