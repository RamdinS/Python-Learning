{
 "cells": [
  {
   "cell_type": "markdown",
   "id": "a2a652ec",
   "metadata": {},
   "source": [
    "# Problems on strings"
   ]
  },
  {
   "cell_type": "code",
   "execution_count": 2,
   "id": "df044cde",
   "metadata": {},
   "outputs": [
    {
     "data": {
      "text/plain": [
       "True"
      ]
     },
     "execution_count": 2,
     "metadata": {},
     "output_type": "execute_result"
    }
   ],
   "source": [
    "\"Saurabh\"=='Saurabh'"
   ]
  },
  {
   "cell_type": "code",
   "execution_count": 3,
   "id": "a93a35f7",
   "metadata": {},
   "outputs": [
    {
     "ename": "SyntaxError",
     "evalue": "EOL while scanning string literal (Temp/ipykernel_14032/4085372636.py, line 1)",
     "output_type": "error",
     "traceback": [
      "\u001b[1;36m  File \u001b[1;32m\"C:\\Users\\saura\\AppData\\Local\\Temp/ipykernel_14032/4085372636.py\"\u001b[1;36m, line \u001b[1;32m1\u001b[0m\n\u001b[1;33m    'Saurabh\"\u001b[0m\n\u001b[1;37m             ^\u001b[0m\n\u001b[1;31mSyntaxError\u001b[0m\u001b[1;31m:\u001b[0m EOL while scanning string literal\n"
     ]
    }
   ],
   "source": [
    "'Saurabh\""
   ]
  },
  {
   "cell_type": "code",
   "execution_count": 4,
   "id": "86654930",
   "metadata": {},
   "outputs": [
    {
     "data": {
      "text/plain": [
       "\"I'm a string\""
      ]
     },
     "execution_count": 4,
     "metadata": {},
     "output_type": "execute_result"
    }
   ],
   "source": [
    "\"I'm a string\""
   ]
  },
  {
   "cell_type": "code",
   "execution_count": 5,
   "id": "52987dd3",
   "metadata": {},
   "outputs": [
    {
     "data": {
      "text/plain": [
       "'Hi\\nViewer'"
      ]
     },
     "execution_count": 5,
     "metadata": {},
     "output_type": "execute_result"
    }
   ],
   "source": [
    "\"\"\"Hi\n",
    "Viewer\"\"\""
   ]
  },
  {
   "cell_type": "code",
   "execution_count": 6,
   "id": "99567175",
   "metadata": {},
   "outputs": [
    {
     "data": {
      "text/plain": [
       "'HiViewer'"
      ]
     },
     "execution_count": 6,
     "metadata": {},
     "output_type": "execute_result"
    }
   ],
   "source": [
    "\"Hi\\\n",
    "Viewer\""
   ]
  },
  {
   "cell_type": "code",
   "execution_count": 8,
   "id": "b50e9ff5",
   "metadata": {},
   "outputs": [
    {
     "name": "stdout",
     "output_type": "stream",
     "text": [
      "s are\n",
      "ve\n"
     ]
    }
   ],
   "source": [
    "a=\"Dogs are love\"\n",
    "print(a[3:8])\n",
    "print(a[-2:])"
   ]
  },
  {
   "cell_type": "code",
   "execution_count": 9,
   "id": "fe65d2f2",
   "metadata": {},
   "outputs": [
    {
     "data": {
      "text/plain": [
       "'HelloWorld'"
      ]
     },
     "execution_count": 9,
     "metadata": {},
     "output_type": "execute_result"
    }
   ],
   "source": [
    "'Hello'+'World'"
   ]
  },
  {
   "cell_type": "code",
   "execution_count": 10,
   "id": "cbfc55ae",
   "metadata": {},
   "outputs": [
    {
     "data": {
      "text/plain": [
       "'1010'"
      ]
     },
     "execution_count": 10,
     "metadata": {},
     "output_type": "execute_result"
    }
   ],
   "source": [
    "'10'+'10'"
   ]
  },
  {
   "cell_type": "code",
   "execution_count": 11,
   "id": "0f6f1a78",
   "metadata": {},
   "outputs": [
    {
     "data": {
      "text/plain": [
       "'1010'"
      ]
     },
     "execution_count": 11,
     "metadata": {},
     "output_type": "execute_result"
    }
   ],
   "source": [
    "\"10\"*2"
   ]
  },
  {
   "cell_type": "code",
   "execution_count": 27,
   "id": "2dbae029",
   "metadata": {},
   "outputs": [
    {
     "data": {
      "text/plain": [
       "'Hi how are you gniod '"
      ]
     },
     "execution_count": 27,
     "metadata": {},
     "output_type": "execute_result"
    }
   ],
   "source": [
    "# WAP to print a string while reversing the words that are 4 or more in length\n",
    "def func(s):\n",
    "    lst=s.split(' ')\n",
    "    newstr=\"\"\n",
    "    for i in lst:\n",
    "        if(len(i)>=4):\n",
    "            i=i[::-1]\n",
    "        else:\n",
    "            i=i\n",
    "        newstr+=i+\" \"\n",
    "    return newstr\n",
    "\n",
    "func(\"Hi how are you doing\")"
   ]
  },
  {
   "cell_type": "code",
   "execution_count": 31,
   "id": "017656ca",
   "metadata": {},
   "outputs": [
    {
     "data": {
      "text/plain": [
       "'Hi how are you gniod'"
      ]
     },
     "execution_count": 31,
     "metadata": {},
     "output_type": "execute_result"
    }
   ],
   "source": [
    "def func(s):\n",
    "    return ' '.join([word[::-1] if len(word)>=4 else word for word in s.split(' ')])\n",
    "\n",
    "func(\"Hi how are you doing\")"
   ]
  },
  {
   "cell_type": "code",
   "execution_count": 39,
   "id": "0e849fa0",
   "metadata": {},
   "outputs": [
    {
     "name": "stdout",
     "output_type": "stream",
     "text": [
      "True\n",
      "True\n",
      "False\n",
      "True\n",
      "True\n",
      "False\n"
     ]
    }
   ],
   "source": [
    "# Check palindrome string\n",
    "def func(s):\n",
    "    cnt=0\n",
    "    for i in range(int(len(s)/2)):\n",
    "        for j in range(len(s)-1,int(len(s)/2),-1):\n",
    "            if(s[i]==s[j]):\n",
    "                cnt+=1\n",
    "    if(cnt==int(len(s)/2)):\n",
    "        return True\n",
    "    else:\n",
    "        return False\n",
    "    \n",
    "print(func(''))\n",
    "print(func('0'))\n",
    "print(func('10'))\n",
    "print(func('212'))\n",
    "print(func('1n0n1'))\n",
    "print(func('1n0n1.'))"
   ]
  },
  {
   "cell_type": "code",
   "execution_count": 40,
   "id": "e194d667",
   "metadata": {},
   "outputs": [
    {
     "name": "stdout",
     "output_type": "stream",
     "text": [
      "True\n",
      "True\n",
      "False\n",
      "True\n",
      "True\n",
      "False\n"
     ]
    }
   ],
   "source": [
    "# check palindrome string/integer\n",
    "\n",
    "def func(s):\n",
    "    return str(s)==str(s)[::-1]\n",
    "\n",
    "print(func(''))\n",
    "print(func(0))\n",
    "print(func(10))\n",
    "print(func(212))\n",
    "print(func('1n0n1'))\n",
    "print(func('1n0n1.'))"
   ]
  },
  {
   "cell_type": "code",
   "execution_count": 44,
   "id": "6fb83dfa",
   "metadata": {},
   "outputs": [
    {
     "name": "stdout",
     "output_type": "stream",
     "text": [
      "['Ayush']\n",
      "['Ayush', 'Renuka', 'Anish', 'Rinu']\n"
     ]
    }
   ],
   "source": [
    "# Guest list -- strip only 1st name \n",
    "# Saurabh ramdin --> Saurabh\n",
    "def func(guestlist):\n",
    "    return [name.split(' ')[0] for name in guestlist]\n",
    "\n",
    "print(func(['Ayush K. Sharma']))\n",
    "print(func(['Ayush K. Sharma','Renuka Phadke','Anish Vyas','Rinu Gupta']))"
   ]
  },
  {
   "cell_type": "code",
   "execution_count": 51,
   "id": "af9347c7",
   "metadata": {},
   "outputs": [
    {
     "data": {
      "text/plain": [
       "['none', 'no', 'nowhere']"
      ]
     },
     "execution_count": 51,
     "metadata": {},
     "output_type": "execute_result"
    }
   ],
   "source": [
    "# Return string that start with particular prefix\n",
    "\n",
    "def func(s,p):\n",
    "    return [word for word in s if(word.startswith(p))]\n",
    "\n",
    "func(['none','no','nine','night','nowhere'],'no')"
   ]
  },
  {
   "cell_type": "code",
   "execution_count": null,
   "id": "2065c327",
   "metadata": {},
   "outputs": [],
   "source": []
  }
 ],
 "metadata": {
  "kernelspec": {
   "display_name": "Python 3 (ipykernel)",
   "language": "python",
   "name": "python3"
  },
  "language_info": {
   "codemirror_mode": {
    "name": "ipython",
    "version": 3
   },
   "file_extension": ".py",
   "mimetype": "text/x-python",
   "name": "python",
   "nbconvert_exporter": "python",
   "pygments_lexer": "ipython3",
   "version": "3.9.7"
  }
 },
 "nbformat": 4,
 "nbformat_minor": 5
}
