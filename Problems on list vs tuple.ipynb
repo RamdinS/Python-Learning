{
 "cells": [
  {
   "cell_type": "markdown",
   "id": "7a323a41",
   "metadata": {},
   "source": [
    "# Problems on list vs tuples"
   ]
  },
  {
   "cell_type": "code",
   "execution_count": 1,
   "id": "c1391d46",
   "metadata": {},
   "outputs": [],
   "source": [
    "names = ('red','green','blue') # tuple\n",
    "colors = ['red','green','blue'] # list"
   ]
  },
  {
   "cell_type": "code",
   "execution_count": 2,
   "id": "2f90737f",
   "metadata": {},
   "outputs": [],
   "source": [
    "colors.append(\"occur\") # list are mutable"
   ]
  },
  {
   "cell_type": "code",
   "execution_count": 3,
   "id": "fe5671a3",
   "metadata": {},
   "outputs": [
    {
     "ename": "TypeError",
     "evalue": "'tuple' object does not support item assignment",
     "output_type": "error",
     "traceback": [
      "\u001b[0;31m---------------------------------------------------------------------------\u001b[0m",
      "\u001b[0;31mTypeError\u001b[0m                                 Traceback (most recent call last)",
      "\u001b[0;32m<ipython-input-3-3e33dcad6171>\u001b[0m in \u001b[0;36m<module>\u001b[0;34m\u001b[0m\n\u001b[0;32m----> 1\u001b[0;31m \u001b[0mnames\u001b[0m\u001b[0;34m[\u001b[0m\u001b[0;36m2\u001b[0m\u001b[0;34m]\u001b[0m\u001b[0;34m=\u001b[0m\u001b[0;34m\"occur\"\u001b[0m\u001b[0;34m\u001b[0m\u001b[0;34m\u001b[0m\u001b[0m\n\u001b[0m",
      "\u001b[0;31mTypeError\u001b[0m: 'tuple' object does not support item assignment"
     ]
    }
   ],
   "source": [
    "names[2]=\"occur\" # tuple are immutable"
   ]
  },
  {
   "cell_type": "code",
   "execution_count": 4,
   "id": "a3558331",
   "metadata": {},
   "outputs": [
    {
     "data": {
      "text/plain": [
       "(22, 23, [2, 4, 11])"
      ]
     },
     "execution_count": 4,
     "metadata": {},
     "output_type": "execute_result"
    }
   ],
   "source": [
    "(22,23,[2,4,11]) # tuple may hold list"
   ]
  },
  {
   "cell_type": "code",
   "execution_count": 6,
   "id": "8bfb44d2",
   "metadata": {},
   "outputs": [
    {
     "data": {
      "text/plain": [
       "[22, 23, (2, 4, 11)]"
      ]
     },
     "execution_count": 6,
     "metadata": {},
     "output_type": "execute_result"
    }
   ],
   "source": [
    "[22,23,(2,4,11)] # list may hold tuple"
   ]
  },
  {
   "cell_type": "raw",
   "id": "9d06fed2",
   "metadata": {},
   "source": [
    "Everything is even -- Write a function that, in a range , prints out numbers with all even digits like 846"
   ]
  },
  {
   "cell_type": "code",
   "execution_count": 33,
   "id": "79b6e9d5",
   "metadata": {},
   "outputs": [
    {
     "data": {
      "text/plain": [
       "[2, 4, 6, 8]"
      ]
     },
     "execution_count": 33,
     "metadata": {},
     "output_type": "execute_result"
    }
   ],
   "source": [
    "def all_even(strt,last):\n",
    "    evens=[]\n",
    "    for num in range(strt,last+1):\n",
    "        s=str(num)\n",
    "        cnt=0\n",
    "        for d in s:\n",
    "            if int(d)%2==0:\n",
    "                cnt+=1\n",
    "        if cnt==len(s):\n",
    "            evens.append(num)\n",
    "    return evens\n",
    "\n",
    "all_even(2,11)"
   ]
  },
  {
   "cell_type": "code",
   "execution_count": 34,
   "id": "5ef9adf8",
   "metadata": {},
   "outputs": [
    {
     "data": {
      "text/plain": [
       "[2, 4, 6, 8]"
      ]
     },
     "execution_count": 34,
     "metadata": {},
     "output_type": "execute_result"
    }
   ],
   "source": [
    "# Another way using lambda and map\n",
    "def even(strt,last):\n",
    "    evens=[]\n",
    "    for num in range(strt,last+1):\n",
    "        if all(map(lambda x:x%2==0,[int(digit) for digit in str(num)])): evens.append(num)\n",
    "    return evens\n",
    "\n",
    "even(2,11)"
   ]
  },
  {
   "cell_type": "raw",
   "id": "bf2853bf",
   "metadata": {},
   "source": [
    "Parentheses -- Write a function that accepts a string of parenthesis and extracts from it properly closed groups of parenthesis"
   ]
  },
  {
   "cell_type": "code",
   "execution_count": 36,
   "id": "7065c875",
   "metadata": {},
   "outputs": [
    {
     "data": {
      "text/plain": [
       "['()']"
      ]
     },
     "execution_count": 36,
     "metadata": {},
     "output_type": "execute_result"
    }
   ],
   "source": [
    "def parenthesis(text):\n",
    "    groups,group=[],''\n",
    "    count=0\n",
    "    for char in text:\n",
    "        group+=char\n",
    "        count= count+1 if char=='(' else count-1\n",
    "        if count==0:\n",
    "            groups.append(group)\n",
    "            group=''\n",
    "    return groups\n",
    "\n",
    "parenthesis('()')"
   ]
  },
  {
   "cell_type": "code",
   "execution_count": 42,
   "id": "715aa071",
   "metadata": {},
   "outputs": [
    {
     "data": {
      "text/plain": [
       "['((())(((()))))', ')(']"
      ]
     },
     "execution_count": 42,
     "metadata": {},
     "output_type": "execute_result"
    }
   ],
   "source": [
    "parenthesis('((())(((())))))(')"
   ]
  },
  {
   "cell_type": "code",
   "execution_count": null,
   "id": "22ad3ad0",
   "metadata": {},
   "outputs": [],
   "source": []
  }
 ],
 "metadata": {
  "kernelspec": {
   "display_name": "Python 3",
   "language": "python",
   "name": "python3"
  },
  "language_info": {
   "codemirror_mode": {
    "name": "ipython",
    "version": 3
   },
   "file_extension": ".py",
   "mimetype": "text/x-python",
   "name": "python",
   "nbconvert_exporter": "python",
   "pygments_lexer": "ipython3",
   "version": "3.8.8"
  }
 },
 "nbformat": 4,
 "nbformat_minor": 5
}
