{
 "cells": [
  {
   "cell_type": "markdown",
   "id": "16093da9",
   "metadata": {},
   "source": [
    "# Problems on Slicing"
   ]
  },
  {
   "cell_type": "raw",
   "id": "57a3911b",
   "metadata": {},
   "source": [
    "1. What is slicing in Python? Explain with an example.\n",
    "==> On our way up the learning curve for Python, we only need to deal with Python iterables not so huge.\n",
    "\n",
    "But when building an application with it, not always do we need to retrieve the entire iterable.\n",
    "\n",
    "In such cases, slicing is useful as it lets us choose what to see and focus on. This aids readability and implements abstraction.\n",
    "\n",
    "To slice a iterable, we use the slicing operator, that is [ ]. To separate the start, stop, and step values, we use the colon ( : ).\n",
    "\n",
    "Say you want to declare a list with the values 1,2,3,4,5, and only want to see values 2,3, and 4. You can slice the list for that.\n",
    "\n",
    ">>> list=[1,2,3,4,5]\n",
    ">>> list[1:4]\n",
    "o/p --> [2, 3, 4]"
   ]
  },
  {
   "cell_type": "raw",
   "id": "879340c6",
   "metadata": {},
   "source": [
    "2. How do you slice in Python?\n",
    "==> To slice a iterable, we use the slicing operator, that is [ ]. To separate the start, stop, and step values, we use the colon ( : ).\n",
    "\n",
    "Say you want to declare a list with the values 1,2,3,4,5, and only want to see values 2,3, and 4. You can slice the list for that.\n",
    "\n",
    ">>> list=[1,2,3,4,5]\n",
    ">>> list[1:4]\n",
    "o/p --> [2, 3, 4]"
   ]
  },
  {
   "cell_type": "raw",
   "id": "952875f5",
   "metadata": {},
   "source": [
    "3. What is slicing operator in Python?\n",
    "==> slice() is a constructor that creates a Python Slice object to represent the set of indices that range(start, stop, step) specifies.\n",
    "\n",
    "With this, we can slice a sequence like a string, a tuple, a list, a range object, or a bytes object.\n",
    "\n",
    "These are all objects that support sequence protocols and implement __getitem__() and __len__(). The slice() function returns a Python Slice Object.\n",
    "\n",
    "slice(start, stop, step)\n",
    "\n",
    ">>> l=[1,2,3,4,5]\n",
    ">>> l[slice(3)]\n",
    "o/p: [1, 2, 3]"
   ]
  },
  {
   "cell_type": "raw",
   "id": "d85e74e3",
   "metadata": {},
   "source": [
    "4. Can you slice a tuple in Python?\n",
    "==> Positive Indices-\n",
    ">>> t=(1,2,3,4,5)\n",
    ">>> t[slice(2,4)]\n",
    "o/p: (3, 4)\n",
    "\n",
    "Negative Indices- Let’s traverse right to left.\n",
    ">>> t[slice(-1,-5,-2)]\n",
    "o/p: (5, 3)"
   ]
  },
  {
   "cell_type": "raw",
   "id": "87d6d808",
   "metadata": {},
   "source": [
    "5. How does Python slicing work?\n",
    "==> The slice() function returns a slice object. A slice object is used to specify how to slice a sequence. You can specify where to start the slicing, and where to end. You can also specify the step, which allows you to e.g. slice only every other item."
   ]
  },
  {
   "cell_type": "code",
   "execution_count": 2,
   "id": "f44cba53",
   "metadata": {},
   "outputs": [
    {
     "data": {
      "text/plain": [
       "[2, 3, 4]"
      ]
     },
     "execution_count": 2,
     "metadata": {},
     "output_type": "execute_result"
    }
   ],
   "source": [
    "list1=[1,2,3,4,5]\n",
    "list1[1:4]"
   ]
  },
  {
   "cell_type": "code",
   "execution_count": 3,
   "id": "6cffffef",
   "metadata": {},
   "outputs": [
    {
     "data": {
      "text/plain": [
       "'llowo'"
      ]
     },
     "execution_count": 3,
     "metadata": {},
     "output_type": "execute_result"
    }
   ],
   "source": [
    "\"helloworls!\"[2:7]"
   ]
  },
  {
   "cell_type": "code",
   "execution_count": 4,
   "id": "674f3311",
   "metadata": {},
   "outputs": [
    {
     "data": {
      "text/plain": [
       "'hlool!'"
      ]
     },
     "execution_count": 4,
     "metadata": {},
     "output_type": "execute_result"
    }
   ],
   "source": [
    "\"helloworls!\"[::2] #letters at even position "
   ]
  },
  {
   "cell_type": "raw",
   "id": "18d9c9a6",
   "metadata": {},
   "source": [
    "Double evens -- Write a function that checks every other index in a string and returns True only if it contains any letter twice."
   ]
  },
  {
   "cell_type": "code",
   "execution_count": 7,
   "id": "5be3b2b9",
   "metadata": {},
   "outputs": [
    {
     "name": "stdout",
     "output_type": "stream",
     "text": [
      "None\n",
      "None\n",
      "True\n",
      "True\n"
     ]
    }
   ],
   "source": [
    "def double_even(s):\n",
    "    count=0\n",
    "    for i in s[1::2]:\n",
    "        if s[1::2].count(i)>1:\n",
    "            count+=1\n",
    "    if count>0:\n",
    "        return True\n",
    "\n",
    "print(double_even(\"hello\"))\n",
    "print(double_even(\"python\"))\n",
    "print(double_even(\"hello world\"))\n",
    "print(double_even(\"heleo worrd\"))\n"
   ]
  },
  {
   "cell_type": "raw",
   "id": "da3a2c86",
   "metadata": {},
   "source": [
    "Two Lists -- Write a function that takes two lists of equal lengths and interleaves their values. So, it takes one value from list1 another from list2 then from list1 and so on until lists are exhasted."
   ]
  },
  {
   "cell_type": "code",
   "execution_count": 13,
   "id": "94de98b6",
   "metadata": {},
   "outputs": [
    {
     "data": {
      "text/plain": [
       "[1, 'a', 2, 'b', 3, 'c', 4, 'd']"
      ]
     },
     "execution_count": 13,
     "metadata": {},
     "output_type": "execute_result"
    }
   ],
   "source": [
    "def two_list(l1,l2):\n",
    "    newlist=[]\n",
    "    if len(l1)==len(l2):\n",
    "        for i in range(len(l1)):\n",
    "            newlist.append(l1[i])\n",
    "            newlist.append(l2[i])\n",
    "    else: print(\"lists are not for equal length\")\n",
    "    return newlist\n",
    "\n",
    "two_list([1,2,3,4],['a','b','c','d'])"
   ]
  },
  {
   "cell_type": "code",
   "execution_count": 14,
   "id": "af3e77c6",
   "metadata": {},
   "outputs": [
    {
     "data": {
      "text/plain": [
       "[1, 'a', 2, 'b', 3, 'c', 4, 'd']"
      ]
     },
     "execution_count": 14,
     "metadata": {},
     "output_type": "execute_result"
    }
   ],
   "source": [
    "#Another method\n",
    "\n",
    "def two_list(l1,l2):\n",
    "    newlist=l1*2 #create a newlist with twice the length of l1\n",
    "    newlist[::2]=l1 #put the list1 at even position in new list\n",
    "    newlist[1::2]=l2 #put list2 at odd position in newlist\n",
    "    return newlist\n",
    "\n",
    "two_list([1,2,3,4],['a','b','c','d'])\n"
   ]
  },
  {
   "cell_type": "raw",
   "id": "c61ea11d",
   "metadata": {},
   "source": [
    "The greatest -- write a function that takes in a list of integers and returns true only if for each value in the list the sum of previos value is lesser."
   ]
  },
  {
   "cell_type": "code",
   "execution_count": 25,
   "id": "627aa91c",
   "metadata": {},
   "outputs": [
    {
     "name": "stdout",
     "output_type": "stream",
     "text": [
      "False\n",
      "True\n"
     ]
    }
   ],
   "source": [
    "def greatest(l1):\n",
    "    sum=0\n",
    "    for i in range(1,len(l1)):\n",
    "        for j in l1[:i]:\n",
    "            sum+=j\n",
    "        if l1[i] <= sum:\n",
    "            return False\n",
    "        sum=0\n",
    "    return True\n",
    "\n",
    "print(greatest([1,2,3,4,5,6]))\n",
    "print(greatest([2,3,6,13]))"
   ]
  },
  {
   "cell_type": "code",
   "execution_count": 27,
   "id": "2a5906d3",
   "metadata": {},
   "outputs": [
    {
     "name": "stdout",
     "output_type": "stream",
     "text": [
      "False\n",
      "True\n"
     ]
    }
   ],
   "source": [
    "#using sum function\n",
    "def greatest(l1):\n",
    "    for i in range(1,len(l1)):\n",
    "        if l1[i] <= sum(l1[:i]):\n",
    "            return False\n",
    "    return True\n",
    "\n",
    "print(greatest([1,2,3,4,5,6]))\n",
    "print(greatest([2,3,6,13]))"
   ]
  },
  {
   "cell_type": "raw",
   "id": "6d6f4d26",
   "metadata": {},
   "source": [
    "Divide and conquer -- Write a function that takes in a word and a size.\n",
    "and breaks it down into substrings of given size."
   ]
  },
  {
   "cell_type": "code",
   "execution_count": 71,
   "id": "e3aebced",
   "metadata": {},
   "outputs": [
    {
     "name": "stdout",
     "output_type": "stream",
     "text": [
      "['py', 'th', 'on']\n",
      "['cl', 'ue', 'lu', 'es', 's']\n",
      "['clu', 'elu', 'ess']\n",
      "['fas', 'cin', 'ati', 'ng']\n"
     ]
    }
   ],
   "source": [
    "def div_conq(word,size):\n",
    "    list1=[]\n",
    "    for i in range(0,len(word),size):\n",
    "        start=i\n",
    "        end=i+size\n",
    "        list1.append(word[start:end])\n",
    "    return list1\n",
    "\n",
    "print(div_conq(\"python\",2))\n",
    "print(div_conq(\"clueluess\",2))\n",
    "print(div_conq(\"clueluess\",3))\n",
    "print(div_conq(\"fascinating\",3))"
   ]
  },
  {
   "cell_type": "code",
   "execution_count": 64,
   "id": "31e00bfc",
   "metadata": {},
   "outputs": [
    {
     "name": "stdout",
     "output_type": "stream",
     "text": [
      "['py', 'th', 'on']\n",
      "['cl', 'ue', 'lu', 'es', 's']\n",
      "['clu', 'elu', 'ess']\n",
      "['fas', 'cin', 'ati', 'ng']\n"
     ]
    }
   ],
   "source": [
    "def divide(word,size):\n",
    "    return [word[index:index+size] for index in range(0,len(word),size)]\n",
    "\n",
    "print(divide(\"python\",2))\n",
    "print(divide(\"clueluess\",2))\n",
    "print(divide(\"clueluess\",3))\n",
    "print(divide(\"fascinating\",3))"
   ]
  },
  {
   "cell_type": "code",
   "execution_count": null,
   "id": "bce5c1c7",
   "metadata": {},
   "outputs": [],
   "source": []
  }
 ],
 "metadata": {
  "kernelspec": {
   "display_name": "Python 3",
   "language": "python",
   "name": "python3"
  },
  "language_info": {
   "codemirror_mode": {
    "name": "ipython",
    "version": 3
   },
   "file_extension": ".py",
   "mimetype": "text/x-python",
   "name": "python",
   "nbconvert_exporter": "python",
   "pygments_lexer": "ipython3",
   "version": "3.8.8"
  }
 },
 "nbformat": 4,
 "nbformat_minor": 5
}
