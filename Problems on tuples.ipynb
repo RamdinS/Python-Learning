{
 "cells": [
  {
   "cell_type": "markdown",
   "id": "46c4e29a",
   "metadata": {},
   "source": [
    "# Problems on Tuples"
   ]
  },
  {
   "cell_type": "raw",
   "id": "d538091e",
   "metadata": {},
   "source": [
    "1. What is tuples in Python?\n",
    "==> Python Tuples are like a list. It can hold a sequence of items. The difference is that it is immutable."
   ]
  },
  {
   "cell_type": "raw",
   "id": "7c8e5fd4",
   "metadata": {},
   "source": [
    "2. How do tuples work in Python?\n",
    "==> Tuples are used to store multiple items in a single variable. Tuple is one of 4 built-in data types in Python used to store collections of data, the other 3 are List, Set, and Dictionary, all with different qualities and usage. A tuple is a collection which is ordered and unchangeable."
   ]
  },
  {
   "cell_type": "raw",
   "id": "52e2ea50",
   "metadata": {},
   "source": [
    "3. How do you initialize a tuple in Python?\n",
    "==> percentages=(90,95,89)\n",
    "1. Python Tuples Packing\n",
    "b= 1, 2.0, 'three'\n",
    "2. Python Tuples Unpacking\n",
    ">>> percentages=(99,95,90,89,93,96)\n",
    ">>> a,b,c,d,e,f=percentages\n",
    ">>> c\n",
    "3. Creating a tuple with a single item\n",
    "a=(1)"
   ]
  },
  {
   "cell_type": "raw",
   "id": "ff971541",
   "metadata": {},
   "source": [
    "4. What is the difference between a Python Tuple and Python list?\n",
    "==> The key difference between the tuples and lists is that while the tuples are immutable objects the lists are mutable. This means that tuples cannot be changed while the lists can be modified. Tuples are more memory efficient than the lists."
   ]
  },
  {
   "cell_type": "raw",
   "id": "dc1e8532",
   "metadata": {},
   "source": [
    "5. Why do we use tuples in Python?\n",
    "==> If your data should or does not need to be changed.\n",
    "==> Tuples are faster than lists. We should use a Tuple instead of a List if we are defining a constant set of values and all we are ever going to do with it is iterate through it.\n",
    "==> If we need an array of elements to be used as dictionary keys, we can use Tuples."
   ]
  },
  {
   "cell_type": "code",
   "execution_count": 1,
   "id": "a1e0dfa0",
   "metadata": {},
   "outputs": [
    {
     "data": {
      "text/plain": [
       "(1,)"
      ]
     },
     "execution_count": 1,
     "metadata": {},
     "output_type": "execute_result"
    }
   ],
   "source": [
    "(1,)"
   ]
  },
  {
   "cell_type": "code",
   "execution_count": 2,
   "id": "c83c145c",
   "metadata": {},
   "outputs": [
    {
     "data": {
      "text/plain": [
       "(1, 2, 3)"
      ]
     },
     "execution_count": 2,
     "metadata": {},
     "output_type": "execute_result"
    }
   ],
   "source": [
    "(1,2,3)"
   ]
  },
  {
   "cell_type": "code",
   "execution_count": 3,
   "id": "237fd5f2",
   "metadata": {},
   "outputs": [
    {
     "data": {
      "text/plain": [
       "(1,)"
      ]
     },
     "execution_count": 3,
     "metadata": {},
     "output_type": "execute_result"
    }
   ],
   "source": [
    "1,"
   ]
  },
  {
   "cell_type": "code",
   "execution_count": 4,
   "id": "939e2c6e",
   "metadata": {},
   "outputs": [
    {
     "data": {
      "text/plain": [
       "(1, 2, 3)"
      ]
     },
     "execution_count": 4,
     "metadata": {},
     "output_type": "execute_result"
    }
   ],
   "source": [
    "1,2,3"
   ]
  },
  {
   "cell_type": "code",
   "execution_count": 5,
   "id": "0600fe13",
   "metadata": {},
   "outputs": [
    {
     "data": {
      "text/plain": [
       "3"
      ]
     },
     "execution_count": 5,
     "metadata": {},
     "output_type": "execute_result"
    }
   ],
   "source": [
    "a=(1,2,3)\n",
    "a[2]"
   ]
  },
  {
   "cell_type": "code",
   "execution_count": 6,
   "id": "6860d02b",
   "metadata": {},
   "outputs": [
    {
     "ename": "TypeError",
     "evalue": "'tuple' object doesn't support item deletion",
     "output_type": "error",
     "traceback": [
      "\u001b[0;31m---------------------------------------------------------------------------\u001b[0m",
      "\u001b[0;31mTypeError\u001b[0m                                 Traceback (most recent call last)",
      "\u001b[0;32m<ipython-input-6-734682c6a06c>\u001b[0m in \u001b[0;36m<module>\u001b[0;34m\u001b[0m\n\u001b[0;32m----> 1\u001b[0;31m \u001b[0;32mdel\u001b[0m \u001b[0ma\u001b[0m\u001b[0;34m[\u001b[0m\u001b[0;36m2\u001b[0m\u001b[0;34m]\u001b[0m\u001b[0;34m\u001b[0m\u001b[0;34m\u001b[0m\u001b[0m\n\u001b[0m",
      "\u001b[0;31mTypeError\u001b[0m: 'tuple' object doesn't support item deletion"
     ]
    }
   ],
   "source": [
    "del a[2]"
   ]
  },
  {
   "cell_type": "code",
   "execution_count": 7,
   "id": "a208119e",
   "metadata": {},
   "outputs": [
    {
     "data": {
      "text/plain": [
       "6"
      ]
     },
     "execution_count": 7,
     "metadata": {},
     "output_type": "execute_result"
    }
   ],
   "source": [
    "sum(a)"
   ]
  },
  {
   "cell_type": "raw",
   "id": "c4ae24f7",
   "metadata": {},
   "source": [
    "Apples and oranges -- Write a function that takes in a list of fruits holding the no of apples and oranges - tuples of such numbers \n",
    "Apples have 2 points and oranges have 3 points . Make a function to return total points for each case"
   ]
  },
  {
   "cell_type": "code",
   "execution_count": 9,
   "id": "cb984129",
   "metadata": {},
   "outputs": [
    {
     "data": {
      "text/plain": [
       "{(2, 3): 13, (4, 3): 17, (4, 7): 29}"
      ]
     },
     "execution_count": 9,
     "metadata": {},
     "output_type": "execute_result"
    }
   ],
   "source": [
    "def fruits(values):\n",
    "    results=dict()\n",
    "    for point in values:\n",
    "        results[point]=2*point[0]+3*point[1]\n",
    "    return results\n",
    "\n",
    "fruits([(2,3),(4,3),(4,7)])"
   ]
  },
  {
   "cell_type": "raw",
   "id": "40fcd5c2",
   "metadata": {},
   "source": [
    "Tuple pyramid -- Write a function that creates a tuple with a string adding a counter to it each time until it reaches desired height"
   ]
  },
  {
   "cell_type": "code",
   "execution_count": 10,
   "id": "7e409e0e",
   "metadata": {},
   "outputs": [
    {
     "name": "stdout",
     "output_type": "stream",
     "text": [
      "('egypt', 1)\n",
      "(('egypt', 1), 2)\n",
      "((('egypt', 1), 2), 3)\n",
      "(((('egypt', 1), 2), 3), 4)\n",
      "((((('egypt', 1), 2), 3), 4), 5)\n",
      "(((((('egypt', 1), 2), 3), 4), 5), 6)\n",
      "((((((('egypt', 1), 2), 3), 4), 5), 6), 7)\n"
     ]
    }
   ],
   "source": [
    "def pyramid(string,height):\n",
    "    tup=(string)\n",
    "    for i in range(1,height+1):\n",
    "        tup=(tup,i)\n",
    "        print(tup)\n",
    "        \n",
    "pyramid('egypt',7)"
   ]
  },
  {
   "cell_type": "code",
   "execution_count": null,
   "id": "edc89c70",
   "metadata": {},
   "outputs": [],
   "source": []
  }
 ],
 "metadata": {
  "kernelspec": {
   "display_name": "Python 3",
   "language": "python",
   "name": "python3"
  },
  "language_info": {
   "codemirror_mode": {
    "name": "ipython",
    "version": 3
   },
   "file_extension": ".py",
   "mimetype": "text/x-python",
   "name": "python",
   "nbconvert_exporter": "python",
   "pygments_lexer": "ipython3",
   "version": "3.8.8"
  }
 },
 "nbformat": 4,
 "nbformat_minor": 5
}
