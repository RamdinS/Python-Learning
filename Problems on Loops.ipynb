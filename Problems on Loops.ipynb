{
 "cells": [
  {
   "cell_type": "markdown",
   "id": "a8fd8954",
   "metadata": {},
   "source": [
    "# Problems on loops"
   ]
  },
  {
   "cell_type": "code",
   "execution_count": 1,
   "id": "49a6a6d1",
   "metadata": {},
   "outputs": [
    {
     "name": "stdout",
     "output_type": "stream",
     "text": [
      "3\n",
      "2\n",
      "1\n"
     ]
    }
   ],
   "source": [
    "num=3\n",
    "while(num>0):\n",
    "    print(num)\n",
    "    num-=1\n",
    "\n"
   ]
  },
  {
   "cell_type": "code",
   "execution_count": 2,
   "id": "396c69d5",
   "metadata": {},
   "outputs": [
    {
     "name": "stdout",
     "output_type": "stream",
     "text": [
      "1\n",
      "2\n",
      "3\n"
     ]
    }
   ],
   "source": [
    "for i in [1,2,3]: print(i)"
   ]
  },
  {
   "cell_type": "code",
   "execution_count": 3,
   "id": "04c7d25c",
   "metadata": {},
   "outputs": [
    {
     "name": "stdout",
     "output_type": "stream",
     "text": [
      "2\n",
      "1\n",
      "Done\n"
     ]
    }
   ],
   "source": [
    "num=2\n",
    "while(num>0):\n",
    "    print(num)\n",
    "    num-=1\n",
    "else:\n",
    "    print(\"Done\")"
   ]
  },
  {
   "cell_type": "code",
   "execution_count": 4,
   "id": "1805e4e3",
   "metadata": {},
   "outputs": [
    {
     "name": "stdout",
     "output_type": "stream",
     "text": [
      "b\n",
      "r\n",
      "e\n",
      "a\n"
     ]
    }
   ],
   "source": [
    "for letter in 'break':\n",
    "    print(letter)\n",
    "    if(letter=='a'):\n",
    "        break;\n",
    "        "
   ]
  },
  {
   "cell_type": "code",
   "execution_count": 12,
   "id": "86ca8d73",
   "metadata": {},
   "outputs": [
    {
     "name": "stdout",
     "output_type": "stream",
     "text": [
      "   *\n",
      "  ***\n",
      " *****\n",
      "*******\n",
      " *****\n",
      "  ***\n",
      "   *\n"
     ]
    }
   ],
   "source": [
    "#Star Diamond -- WAP that print a diamond of stars length 7\n",
    "def star_diamond():\n",
    "    for row in range(4):\n",
    "        for space in range(3-row):\n",
    "            print(\" \",end=\"\") #for spaces \n",
    "        for star in range(row+1):\n",
    "            print(\"*\",end=\"\") #for pattern in 1st half\n",
    "        for star in range(row):\n",
    "            print(\"*\",end=\"\") #for patter in 2nd half\n",
    "        print()\n",
    "    for row in range(3):\n",
    "        for space in range(row+1):\n",
    "            print(\" \",end=\"\")\n",
    "        for star in range(3-row):\n",
    "            print(\"*\",end=\"\")\n",
    "        for star in range(2-row):\n",
    "            print(\"*\",end=\"\")\n",
    "        print()\n",
    "        \n",
    "star_diamond()"
   ]
  },
  {
   "cell_type": "code",
   "execution_count": 36,
   "id": "26ecf3d5",
   "metadata": {},
   "outputs": [
    {
     "name": "stdout",
     "output_type": "stream",
     "text": [
      "Positive Index =  0  | Negative Index =  -6  | Character =  P\n",
      "Positive Index =  1  | Negative Index =  -5  | Character =  Y\n",
      "Positive Index =  2  | Negative Index =  -4  | Character =  T\n",
      "Positive Index =  3  | Negative Index =  -3  | Character =  H\n",
      "Positive Index =  4  | Negative Index =  -2  | Character =  O\n",
      "Positive Index =  5  | Negative Index =  -1  | Character =  N\n"
     ]
    }
   ],
   "source": [
    "s='PYTHON'\n",
    "x=0\n",
    "y=-len(s)\n",
    "for i in s:\n",
    "    print(\"Positive Index = \",x,\" | Negative Index = \",y,\" | Character = \",i)\n",
    "    x+=1\n",
    "    y+=1\n"
   ]
  },
  {
   "cell_type": "code",
   "execution_count": 2,
   "id": "7f99b487",
   "metadata": {},
   "outputs": [
    {
     "name": "stdout",
     "output_type": "stream",
     "text": [
      "[[4, 4], [4, 4]]\n"
     ]
    }
   ],
   "source": [
    "# Matrix Multiplication -- WAF to take 2D matrix and multipy them and return result.\n",
    "# If the matrices can not be multiplied then declare so.\n",
    "def mn(m1,m2):\n",
    "    if (len(m1[0])!=len(m2)): #no of cols on 1st matrix not equal no of rows of 2nd matrix\n",
    "        print(\"Matrices are not compatible for multiplication\")\n",
    "        return\n",
    "    result=[[0 for i in range(len(m2[0]))] for j in range(len(m1))] # all zero matrix with no of rows in 1st matrix and no of cols in 2nd matrix\n",
    "    for row in range(len(m1)):\n",
    "        for col in range(len(m2[0])):\n",
    "            for temp in range(len(m2)):\n",
    "                result[row][col]+=m1[row][temp]*m2[temp][col]\n",
    "    return result\n",
    "\n",
    "m1=[[1,1],[1,1]]\n",
    "m2=[[2,2],[2,2]]\n",
    "\n",
    "print(mn(m1,m2))"
   ]
  },
  {
   "cell_type": "code",
   "execution_count": 3,
   "id": "e45ca3ab",
   "metadata": {},
   "outputs": [
    {
     "name": "stdout",
     "output_type": "stream",
     "text": [
      "Matrices are not compatible for multiplication\n",
      "None\n"
     ]
    }
   ],
   "source": [
    "m1=[[1,1,1],[1,1,1]]\n",
    "m2=[[2,2],[2,2]]\n",
    "\n",
    "print(mn(m1,m2))"
   ]
  },
  {
   "cell_type": "code",
   "execution_count": 5,
   "id": "dfeec607",
   "metadata": {},
   "outputs": [
    {
     "name": "stdout",
     "output_type": "stream",
     "text": [
      "1 \n",
      "2 3 \n",
      "4 5 6 \n",
      "7 8 9 10 \n",
      "11 12 13 14 15 \n"
     ]
    }
   ],
   "source": [
    "#Number Pyramid\n",
    "def num_pyramid(n):\n",
    "    num=1\n",
    "    for rows in range(n):\n",
    "        for row in range(rows+1):\n",
    "            print(num,end=' ')\n",
    "            num+=1\n",
    "        print()\n",
    "        \n",
    "num_pyramid(5)"
   ]
  },
  {
   "cell_type": "code",
   "execution_count": 6,
   "id": "c7165b42",
   "metadata": {},
   "outputs": [
    {
     "name": "stdout",
     "output_type": "stream",
     "text": [
      "10000\n",
      "02000\n",
      "00300\n",
      "00040\n",
      "00005\n"
     ]
    }
   ],
   "source": [
    "#Number Diagonal\n",
    "def num_diagonal():\n",
    "    for row in range(1,6):\n",
    "        for col in range(1,6):\n",
    "            if row==col: print(row,end='')\n",
    "            else: print(0,end='')\n",
    "        print()\n",
    "        \n",
    "num_diagonal()\n",
    "                "
   ]
  },
  {
   "cell_type": "code",
   "execution_count": 7,
   "id": "e8eba714",
   "metadata": {},
   "outputs": [
    {
     "name": "stdout",
     "output_type": "stream",
     "text": [
      "1 2 3 4 5 4 3 2 1 \n",
      "2 3 4 5 4 3 2 \n",
      "3 4 5 4 3 \n",
      "4 5 4 \n",
      "5 \n"
     ]
    }
   ],
   "source": [
    "#High Low \n",
    "def high_low(n):\n",
    "    for row in range(1,n+1): #(1,6)\n",
    "        for col in range(row,n+1): #(1,6)\n",
    "            print(col,end=' ')\n",
    "        for col in range(n-1,row-1,-1): #(4,0,-1)\n",
    "            print(col,end=' ')\n",
    "        print()\n",
    "        \n",
    "high_low(5)"
   ]
  },
  {
   "cell_type": "code",
   "execution_count": null,
   "id": "5b2284ae",
   "metadata": {},
   "outputs": [],
   "source": []
  }
 ],
 "metadata": {
  "kernelspec": {
   "display_name": "Python 3 (ipykernel)",
   "language": "python",
   "name": "python3"
  },
  "language_info": {
   "codemirror_mode": {
    "name": "ipython",
    "version": 3
   },
   "file_extension": ".py",
   "mimetype": "text/x-python",
   "name": "python",
   "nbconvert_exporter": "python",
   "pygments_lexer": "ipython3",
   "version": "3.9.7"
  }
 },
 "nbformat": 4,
 "nbformat_minor": 5
}
