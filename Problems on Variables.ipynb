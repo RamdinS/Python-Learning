{
 "cells": [
  {
   "cell_type": "markdown",
   "id": "4d1ce141",
   "metadata": {},
   "source": [
    "# Problems on variables"
   ]
  },
  {
   "cell_type": "raw",
   "id": "970a2af9",
   "metadata": {},
   "source": [
    "Area of a triangle -- write a function that takes length and height from the user and output the resulting area of a triangle as an integer"
   ]
  },
  {
   "cell_type": "code",
   "execution_count": 4,
   "id": "da42e4fe",
   "metadata": {},
   "outputs": [
    {
     "name": "stdout",
     "output_type": "stream",
     "text": [
      "enter the length: 10\n",
      "enter the height: 10\n",
      "Area of triangle with length=10, height=10 is 50\n"
     ]
    }
   ],
   "source": [
    "def my_func():\n",
    "    l=int(input(\"enter the length: \"))\n",
    "    h=int(input(\"enter the height: \"))\n",
    "    area=int(0.5*l*h)\n",
    "    print(\"Area of triangle with length={}, height={} is {}\".format(l,h,area))\n",
    "    \n",
    "my_func()"
   ]
  },
  {
   "cell_type": "raw",
   "id": "41ac3b0a",
   "metadata": {},
   "source": [
    "Fibonnaci Series -- Write a function that takes from the user, the number of numbers to print and prints the fibonacci series upto the length."
   ]
  },
  {
   "cell_type": "code",
   "execution_count": 12,
   "id": "ea6c741f",
   "metadata": {},
   "outputs": [
    {
     "name": "stdout",
     "output_type": "stream",
     "text": [
      "Enter the length of the fibonacci series to be printed: 10\n",
      "0, 1, 1, 2, 3, 5, 8, 13, 21, 34, "
     ]
    }
   ],
   "source": [
    "def my_func():\n",
    "    n=int(input(\"Enter the length of the fibonacci series to be printed: \"))\n",
    "    a=0\n",
    "    b=1\n",
    "    for i in range(n):\n",
    "        print(a,end=', ')\n",
    "        a,b=b,a+b\n",
    "\n",
    "my_func()\n",
    "        \n",
    "        "
   ]
  },
  {
   "cell_type": "raw",
   "id": "48427da2",
   "metadata": {},
   "source": [
    "Integers comes in all sizes -- Write a function to print the length of an integer without using len() function"
   ]
  },
  {
   "cell_type": "code",
   "execution_count": 1,
   "id": "e2107be8",
   "metadata": {},
   "outputs": [
    {
     "name": "stdout",
     "output_type": "stream",
     "text": [
      "enter the interger: 345\n",
      "the lenth of interger : 345 is 3\n"
     ]
    }
   ],
   "source": [
    "def my_func():\n",
    "    n=int(input(\"enter the interger: \"))\n",
    "    i=n\n",
    "    cnt=0\n",
    "    while(i>1):\n",
    "        cnt+=1\n",
    "        i/=10\n",
    "    print(\"the lenth of interger : {} is {}\".format(n,cnt))\n",
    "    \n",
    "    \n",
    "my_func()"
   ]
  },
  {
   "cell_type": "raw",
   "id": "05ee4a18",
   "metadata": {},
   "source": [
    "Decimal Combat -- Write a function to take 2 integers and whichever is the greater number subtract the diff of the two number and 1 from it.\n",
    "Whichever number diminishes to 0 that loses the race. Declare the winner each time."
   ]
  },
  {
   "cell_type": "code",
   "execution_count": 7,
   "id": "ec1a6ac8",
   "metadata": {},
   "outputs": [
    {
     "name": "stdout",
     "output_type": "stream",
     "text": [
      "8  is greater than  7\n",
      "7  is greater than  6\n",
      "6  is greater than  5\n",
      "5  is greater than  4\n",
      "4  is greater than  3\n",
      "3  is greater than  2\n",
      "2  is greater than  1\n",
      "7  is the winner.\n",
      "8  is greater than  6\n",
      "6  is greater than  5\n",
      "5  is greater than  4\n",
      "4  is greater than  3\n",
      "3  is greater than  2\n",
      "2  is greater than  1\n",
      "8  is the winner.\n"
     ]
    }
   ],
   "source": [
    "def my_func(num1,num2):\n",
    "    #num1=int(input(\"enter num1: \"))\n",
    "    #num2=int(input(\"enter num2: \"))\n",
    "    nums=(num1,num2)\n",
    "    while (num1*num2 > 0):\n",
    "        diff=abs(num1-num2)\n",
    "        if (num1>num2):\n",
    "            print(num1,\" is greater than \",num2)\n",
    "            num1=num1-diff-1\n",
    "        else:\n",
    "            print(num2,\" is greater than \",num1)\n",
    "            num2=num2-diff-1\n",
    "    if(num2>num1):\n",
    "        print(nums[1],\" is the winner.\")\n",
    "    else:\n",
    "        print(nums[0],\" is the winner.\")\n",
    "        \n",
    "my_func(8,7)\n",
    "my_func(8,6)"
   ]
  },
  {
   "cell_type": "code",
   "execution_count": null,
   "id": "7a26406b",
   "metadata": {},
   "outputs": [],
   "source": []
  },
  {
   "cell_type": "code",
   "execution_count": null,
   "id": "e0bcefdf",
   "metadata": {},
   "outputs": [],
   "source": []
  }
 ],
 "metadata": {
  "kernelspec": {
   "display_name": "Python 3 (ipykernel)",
   "language": "python",
   "name": "python3"
  },
  "language_info": {
   "codemirror_mode": {
    "name": "ipython",
    "version": 3
   },
   "file_extension": ".py",
   "mimetype": "text/x-python",
   "name": "python",
   "nbconvert_exporter": "python",
   "pygments_lexer": "ipython3",
   "version": "3.9.7"
  }
 },
 "nbformat": 4,
 "nbformat_minor": 5
}
