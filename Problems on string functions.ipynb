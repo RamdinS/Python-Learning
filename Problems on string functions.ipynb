{
 "cells": [
  {
   "cell_type": "markdown",
   "id": "56e42c05",
   "metadata": {},
   "source": [
    "# Problems on string function "
   ]
  },
  {
   "cell_type": "code",
   "execution_count": 2,
   "id": "59097c6f",
   "metadata": {},
   "outputs": [
    {
     "data": {
      "text/plain": [
       "5"
      ]
     },
     "execution_count": 2,
     "metadata": {},
     "output_type": "execute_result"
    }
   ],
   "source": [
    "len('Hello')"
   ]
  },
  {
   "cell_type": "code",
   "execution_count": 3,
   "id": "1721542b",
   "metadata": {},
   "outputs": [
    {
     "data": {
      "text/plain": [
       "'HELLO'"
      ]
     },
     "execution_count": 3,
     "metadata": {},
     "output_type": "execute_result"
    }
   ],
   "source": [
    "'hello'.upper()"
   ]
  },
  {
   "cell_type": "code",
   "execution_count": 4,
   "id": "b9d4deb4",
   "metadata": {},
   "outputs": [
    {
     "data": {
      "text/plain": [
       "True"
      ]
     },
     "execution_count": 4,
     "metadata": {},
     "output_type": "execute_result"
    }
   ],
   "source": [
    "'Hello'.startswith('Hel')"
   ]
  },
  {
   "cell_type": "code",
   "execution_count": 6,
   "id": "b55894fc",
   "metadata": {},
   "outputs": [
    {
     "data": {
      "text/plain": [
       "'twenty+seven+forex'"
      ]
     },
     "execution_count": 6,
     "metadata": {},
     "output_type": "execute_result"
    }
   ],
   "source": [
    "'+'.join(['twenty','seven','forex'])"
   ]
  },
  {
   "cell_type": "code",
   "execution_count": 7,
   "id": "45a8c294",
   "metadata": {},
   "outputs": [
    {
     "data": {
      "text/plain": [
       "'t+w+e+n+t+y'"
      ]
     },
     "execution_count": 7,
     "metadata": {},
     "output_type": "execute_result"
    }
   ],
   "source": [
    "'+'.join('twenty')"
   ]
  },
  {
   "cell_type": "code",
   "execution_count": 8,
   "id": "d93e1909",
   "metadata": {},
   "outputs": [
    {
     "data": {
      "text/plain": [
       "1"
      ]
     },
     "execution_count": 8,
     "metadata": {},
     "output_type": "execute_result"
    }
   ],
   "source": [
    "'hello'.count('h')"
   ]
  },
  {
   "cell_type": "code",
   "execution_count": 11,
   "id": "6c8b4aff",
   "metadata": {},
   "outputs": [
    {
     "name": "stdout",
     "output_type": "stream",
     "text": [
      "False\n",
      "True\n",
      "True\n"
     ]
    }
   ],
   "source": [
    "#Isograms -- Determine whether a word is inogram -- it is a word where no letter repeates - and space are exepted\n",
    "def inogram(s):\n",
    "    for w in s:\n",
    "        if s.count(w)>1 and w.isalpha():\n",
    "            return False\n",
    "    return True\n",
    "\n",
    "print(inogram('hello'))\n",
    "print(inogram('python'))\n",
    "print(inogram('p-y-t-h-o-n'))"
   ]
  },
  {
   "cell_type": "code",
   "execution_count": 28,
   "id": "62e0f9a9",
   "metadata": {},
   "outputs": [
    {
     "name": "stdout",
     "output_type": "stream",
     "text": [
      "False\n",
      "True\n",
      "True\n"
     ]
    }
   ],
   "source": [
    "# pangram - sentence in which each letter from a-z occur atleaset once\n",
    "def pangram(s):\n",
    "    for alpha in range(ord('a'),ord('z')+1):\n",
    "            if chr(alpha) not in s.lower(): return False\n",
    "    return True\n",
    "\n",
    "print(pangram('hello'))\n",
    "print(pangram('The quick brown fox jumps over the lazy dog'))\n",
    "print(pangram('the five boxing wizards jump quickly'))"
   ]
  },
  {
   "cell_type": "code",
   "execution_count": 43,
   "id": "e5b1f84d",
   "metadata": {},
   "outputs": [
    {
     "name": "stdout",
     "output_type": "stream",
     "text": [
      "False\n",
      "True\n",
      "True\n",
      "True\n",
      "False\n",
      "True\n"
     ]
    }
   ],
   "source": [
    "# Super isogram -- take a sentence and analyze where each word is isogram this is case insensitive\n",
    "\n",
    "def super_inogram(s):\n",
    "    for w in s.split(' '):\n",
    "        for c in w:\n",
    "            if w.count(c.lower())>1 and c.isalpha():\n",
    "                return False\n",
    "    return True\n",
    "\n",
    "print(super_inogram('hello'))\n",
    "print(super_inogram('python'))\n",
    "print(super_inogram('p-y-t-h-o-n'))\n",
    "print(super_inogram('The quick brown fox jumps over the lazy dog'))\n",
    "print(super_inogram('The calling brown 1111 fox jumps over the lazy dog'))\n",
    "print(super_inogram('The quick brown 1111 fox jumps over the lazy dog'))"
   ]
  },
  {
   "cell_type": "code",
   "execution_count": 46,
   "id": "6f317839",
   "metadata": {},
   "outputs": [
    {
     "data": {
      "text/plain": [
       "'tu'"
      ]
     },
     "execution_count": 46,
     "metadata": {},
     "output_type": "execute_result"
    }
   ],
   "source": [
    "# check whether 1st and last charcter of a word in a sentence are same to that of entire sentence\n",
    "\n",
    "s='This was a good day and the tests were great too! the energy is tremendous'\n",
    "(s[0]+s[-1]).lower()"
   ]
  },
  {
   "cell_type": "code",
   "execution_count": 47,
   "id": "35cc8573",
   "metadata": {},
   "outputs": [
    {
     "data": {
      "text/plain": [
       "3"
      ]
     },
     "execution_count": 47,
     "metadata": {},
     "output_type": "execute_result"
    }
   ],
   "source": [
    "def func(s):\n",
    "    count=0\n",
    "    for w in s.split(' '):\n",
    "        if (w[0]+w[-1]).lower()==(s[0]+s[-1]).lower():\n",
    "            count+=1\n",
    "    return count\n",
    "\n",
    "func('This was a good day and the tests were great too! the energy is tremendous')"
   ]
  },
  {
   "cell_type": "code",
   "execution_count": null,
   "id": "1d1cf474",
   "metadata": {},
   "outputs": [],
   "source": []
  }
 ],
 "metadata": {
  "kernelspec": {
   "display_name": "Python 3 (ipykernel)",
   "language": "python",
   "name": "python3"
  },
  "language_info": {
   "codemirror_mode": {
    "name": "ipython",
    "version": 3
   },
   "file_extension": ".py",
   "mimetype": "text/x-python",
   "name": "python",
   "nbconvert_exporter": "python",
   "pygments_lexer": "ipython3",
   "version": "3.9.7"
  }
 },
 "nbformat": 4,
 "nbformat_minor": 5
}
