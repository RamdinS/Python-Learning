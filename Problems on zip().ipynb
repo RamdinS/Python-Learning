{
 "cells": [
  {
   "cell_type": "markdown",
   "id": "9f6d45b7",
   "metadata": {},
   "source": [
    "# Problems in zip()"
   ]
  },
  {
   "cell_type": "raw",
   "id": "c99909bc",
   "metadata": {},
   "source": [
    "1. What is Python zip Function? Explain with example.\n",
    "==> the interpreter for Python has some types and functions built into it; these are the ones always available to it.\n",
    "zip() is one such function\n",
    "zip() is a built-in Python function that gives us an iterator of tuples. Let’s take a quick example of Python Zip Function\n",
    "\n",
    ">>> for i in zip([1,2,3],['a','b','c']):\n",
    "        print(i)\n",
    "      \n",
    "(1, ‘a’)\n",
    "(2, ‘b’)\n",
    "(3, ‘c’)"
   ]
  },
  {
   "cell_type": "raw",
   "id": "2d3cfc66",
   "metadata": {},
   "source": [
    "2. What does zip() do in Python?\n",
    "==> Like Ziploc in the real world and .zip files in the virtual one, a zip is a kind of a container. Like a .zip file holds real files within itself, a zip holds real data within.\n",
    "\n",
    "It takes iterable elements as input and returns an iterator on them (an iterator of tuples). It evaluates the iterables left to right.\n",
    "\n"
   ]
  },
  {
   "cell_type": "raw",
   "id": "6d6f2e5d",
   "metadata": {},
   "source": [
    "3. How to get a zip file in Python?\n",
    "==> ZIP is an archive file format that supports lossless data compression. By lossless compression, we mean that the compression algorithm allows the original data to be perfectly reconstructed from the compressed data. So, a ZIP file is a single file containing one or more compressed files, offering an ideal way to make large files smaller and keep related files together.\n",
    "\n",
    "Why do we need zip files?\n",
    "\n",
    "To reduce storage requirements.\n",
    "To improve transfer speed over standard connections.\n",
    "\n",
    "# importing required modules\n",
    "from zipfile import ZipFile\n",
    "\n",
    "# specifying the zip file name\n",
    "file_name = \"my_python_files.zip\"\n",
    "\n",
    "# opening the zip file in READ mode\n",
    "with ZipFile(file_name, 'r') as zip:\n",
    "\t# printing all the contents of the zip file\n",
    "\tzip.printdir()\n",
    "\n",
    "\t# extracting all the files\n",
    "\tprint('Extracting all the files now...')\n",
    "\tzip.extractall()\n",
    "\tprint('Done!')\n",
    "\n"
   ]
  },
  {
   "cell_type": "raw",
   "id": "aa8f6c39",
   "metadata": {},
   "source": [
    "4. How do you zip two lists in Python?\n",
    "==> \n",
    ">>> set(zip([1,2],[3,4,5]))\n",
    "o/p: {(1, 3), (2, 4)}"
   ]
  },
  {
   "cell_type": "raw",
   "id": "fb79f228",
   "metadata": {},
   "source": [
    "5. Can Python read zip files?\n",
    "==> Unzipping Values in Python\n",
    ">>> z=zip([1,2,3],['a','b','c'],['#','*','$'])\n",
    ">>> a,b,c=zip(*z)\n",
    ">>> a,b,c\n",
    "o/p: ((1, 2, 3), (‘a’, ‘b’, ‘c’), (‘#’, ‘*’, ‘$’))\n"
   ]
  },
  {
   "cell_type": "code",
   "execution_count": 2,
   "id": "86f0acb3",
   "metadata": {},
   "outputs": [
    {
     "name": "stdout",
     "output_type": "stream",
     "text": [
      "(1, 'red')\n",
      "(2, 'green')\n",
      "(3, 'blue')\n"
     ]
    }
   ],
   "source": [
    "for item in zip([1,2,3],['red','green','blue']):\n",
    "    print(item)"
   ]
  },
  {
   "cell_type": "code",
   "execution_count": 3,
   "id": "a138e72b",
   "metadata": {},
   "outputs": [
    {
     "data": {
      "text/plain": [
       "{(1, 3), (2, 4)}"
      ]
     },
     "execution_count": 3,
     "metadata": {},
     "output_type": "execute_result"
    }
   ],
   "source": [
    "set(zip([1,2],[3,4,5])) #zips as per the smaller one hence 5 is ignored in 2nd list"
   ]
  },
  {
   "cell_type": "code",
   "execution_count": 5,
   "id": "192c72a1",
   "metadata": {},
   "outputs": [
    {
     "data": {
      "text/plain": [
       "((1, 2, 3), ('a', 'b', 'c'), ('#', '*', '$'))"
      ]
     },
     "execution_count": 5,
     "metadata": {},
     "output_type": "execute_result"
    }
   ],
   "source": [
    "pairs=zip([1,2,3],['a','b','c'],['#','*','$'])\n",
    "nums,letters,chars=zip(*pairs)\n",
    "nums,letters,chars"
   ]
  },
  {
   "cell_type": "raw",
   "id": "cb4a55dd",
   "metadata": {},
   "source": [
    "Groceries: Write a function that takes in a list of tuples of items and their prices \n",
    "    Make it return a list of items and another of their prices"
   ]
  },
  {
   "cell_type": "code",
   "execution_count": 11,
   "id": "072fcb45",
   "metadata": {},
   "outputs": [
    {
     "data": {
      "text/plain": [
       "(['bread', 'egg', 'jam'], [20, 60, 90])"
      ]
     },
     "execution_count": 11,
     "metadata": {},
     "output_type": "execute_result"
    }
   ],
   "source": [
    "def Groceries(list1):\n",
    "    item,price=zip(*list1)\n",
    "    return list(item),list(price)\n",
    "\n",
    "Groceries([('bread',20),('egg',60),('jam',90)])"
   ]
  },
  {
   "cell_type": "raw",
   "id": "dba54a2b",
   "metadata": {},
   "source": [
    "Conflicts -- A function takes in a list. Adjacent numbers dont like to stand together \n",
    "Write a function to create tuoples from alternate numbers in the list"
   ]
  },
  {
   "cell_type": "code",
   "execution_count": 12,
   "id": "340d2d40",
   "metadata": {},
   "outputs": [
    {
     "data": {
      "text/plain": [
       "[(1, 3), (2, 4), (3, 5), (4, 6), (5, 7), (6, 8), (7, 9)]"
      ]
     },
     "execution_count": 12,
     "metadata": {},
     "output_type": "execute_result"
    }
   ],
   "source": [
    "def conflicts(list1):\n",
    "    return list(zip(list1[:],list1[2:]))\n",
    "\n",
    "conflicts([1,2,3,4,5,6,7,8,9])"
   ]
  },
  {
   "cell_type": "raw",
   "id": "611edb1f",
   "metadata": {},
   "source": [
    "Miles Apart -- Write a function that takes in 2 integers of equal lengths \n",
    "Return the sum of the distance between its individual digits "
   ]
  },
  {
   "cell_type": "code",
   "execution_count": 15,
   "id": "dc78e693",
   "metadata": {},
   "outputs": [
    {
     "data": {
      "text/plain": [
       "4"
      ]
     },
     "execution_count": 15,
     "metadata": {},
     "output_type": "execute_result"
    }
   ],
   "source": [
    "def miles_apart(a,b):\n",
    "    assert(len(str(a))==len(str(b)))\n",
    "    return sum([abs(int(d1)-int(d2)) for d1,d2 in zip(list(str(a)),list(str(b)))])\n",
    "\n",
    "miles_apart(252,371)\n",
    "    "
   ]
  },
  {
   "cell_type": "code",
   "execution_count": 16,
   "id": "57621d06",
   "metadata": {},
   "outputs": [
    {
     "ename": "AssertionError",
     "evalue": "",
     "output_type": "error",
     "traceback": [
      "\u001b[0;31m---------------------------------------------------------------------------\u001b[0m",
      "\u001b[0;31mAssertionError\u001b[0m                            Traceback (most recent call last)",
      "\u001b[0;32m<ipython-input-16-81b6865a44fb>\u001b[0m in \u001b[0;36m<module>\u001b[0;34m\u001b[0m\n\u001b[0;32m----> 1\u001b[0;31m \u001b[0mmiles_apart\u001b[0m\u001b[0;34m(\u001b[0m\u001b[0;36m252\u001b[0m\u001b[0;34m,\u001b[0m\u001b[0;36m3701\u001b[0m\u001b[0;34m)\u001b[0m\u001b[0;34m\u001b[0m\u001b[0;34m\u001b[0m\u001b[0m\n\u001b[0m",
      "\u001b[0;32m<ipython-input-15-6750d577257b>\u001b[0m in \u001b[0;36mmiles_apart\u001b[0;34m(a, b)\u001b[0m\n\u001b[1;32m      1\u001b[0m \u001b[0;32mdef\u001b[0m \u001b[0mmiles_apart\u001b[0m\u001b[0;34m(\u001b[0m\u001b[0ma\u001b[0m\u001b[0;34m,\u001b[0m\u001b[0mb\u001b[0m\u001b[0;34m)\u001b[0m\u001b[0;34m:\u001b[0m\u001b[0;34m\u001b[0m\u001b[0;34m\u001b[0m\u001b[0m\n\u001b[0;32m----> 2\u001b[0;31m     \u001b[0;32massert\u001b[0m\u001b[0;34m(\u001b[0m\u001b[0mlen\u001b[0m\u001b[0;34m(\u001b[0m\u001b[0mstr\u001b[0m\u001b[0;34m(\u001b[0m\u001b[0ma\u001b[0m\u001b[0;34m)\u001b[0m\u001b[0;34m)\u001b[0m\u001b[0;34m==\u001b[0m\u001b[0mlen\u001b[0m\u001b[0;34m(\u001b[0m\u001b[0mstr\u001b[0m\u001b[0;34m(\u001b[0m\u001b[0mb\u001b[0m\u001b[0;34m)\u001b[0m\u001b[0;34m)\u001b[0m\u001b[0;34m)\u001b[0m\u001b[0;34m\u001b[0m\u001b[0;34m\u001b[0m\u001b[0m\n\u001b[0m\u001b[1;32m      3\u001b[0m     \u001b[0;32mreturn\u001b[0m \u001b[0msum\u001b[0m\u001b[0;34m(\u001b[0m\u001b[0;34m[\u001b[0m\u001b[0mabs\u001b[0m\u001b[0;34m(\u001b[0m\u001b[0mint\u001b[0m\u001b[0;34m(\u001b[0m\u001b[0md1\u001b[0m\u001b[0;34m)\u001b[0m\u001b[0;34m-\u001b[0m\u001b[0mint\u001b[0m\u001b[0;34m(\u001b[0m\u001b[0md2\u001b[0m\u001b[0;34m)\u001b[0m\u001b[0;34m)\u001b[0m \u001b[0;32mfor\u001b[0m \u001b[0md1\u001b[0m\u001b[0;34m,\u001b[0m\u001b[0md2\u001b[0m \u001b[0;32min\u001b[0m \u001b[0mzip\u001b[0m\u001b[0;34m(\u001b[0m\u001b[0mlist\u001b[0m\u001b[0;34m(\u001b[0m\u001b[0mstr\u001b[0m\u001b[0;34m(\u001b[0m\u001b[0ma\u001b[0m\u001b[0;34m)\u001b[0m\u001b[0;34m)\u001b[0m\u001b[0;34m,\u001b[0m\u001b[0mlist\u001b[0m\u001b[0;34m(\u001b[0m\u001b[0mstr\u001b[0m\u001b[0;34m(\u001b[0m\u001b[0mb\u001b[0m\u001b[0;34m)\u001b[0m\u001b[0;34m)\u001b[0m\u001b[0;34m)\u001b[0m\u001b[0;34m]\u001b[0m\u001b[0;34m)\u001b[0m\u001b[0;34m\u001b[0m\u001b[0;34m\u001b[0m\u001b[0m\n\u001b[1;32m      4\u001b[0m \u001b[0;34m\u001b[0m\u001b[0m\n\u001b[1;32m      5\u001b[0m \u001b[0mmiles_apart\u001b[0m\u001b[0;34m(\u001b[0m\u001b[0;36m252\u001b[0m\u001b[0;34m,\u001b[0m\u001b[0;36m371\u001b[0m\u001b[0;34m)\u001b[0m\u001b[0;34m\u001b[0m\u001b[0;34m\u001b[0m\u001b[0m\n",
      "\u001b[0;31mAssertionError\u001b[0m: "
     ]
    }
   ],
   "source": [
    "miles_apart(252,3701)\n"
   ]
  },
  {
   "cell_type": "raw",
   "id": "7efa7cc3",
   "metadata": {},
   "source": [
    "Group Projects -- Write a function that takes in 2 strings holding names of students in two groups \n",
    "for a group project , pair the students acc to their roll nos. There may only be 2 students in one group."
   ]
  },
  {
   "cell_type": "code",
   "execution_count": 17,
   "id": "b535499d",
   "metadata": {},
   "outputs": [
    {
     "name": "stdout",
     "output_type": "stream",
     "text": [
      "saurabh,snehal,nikhil --- simon,vaibhav,apurba\n",
      "saurabh is paired with simon\n",
      "snehal is paired with vaibhav\n",
      "nikhil is paired with apurba\n"
     ]
    }
   ],
   "source": [
    "def make_grp(s1,s2):\n",
    "    print(s1,\"---\",s2)\n",
    "    grp1,grp2=s1.split(','),s2.split(',')\n",
    "    for pair in zip(grp1,grp2):\n",
    "        print(\"{} is paired with {}\".format(pair[0],pair[1]))\n",
    "\n",
    "make_grp('saurabh,snehal,nikhil','simon,vaibhav,apurba')"
   ]
  },
  {
   "cell_type": "code",
   "execution_count": null,
   "id": "81f375ea",
   "metadata": {},
   "outputs": [],
   "source": []
  }
 ],
 "metadata": {
  "kernelspec": {
   "display_name": "Python 3",
   "language": "python",
   "name": "python3"
  },
  "language_info": {
   "codemirror_mode": {
    "name": "ipython",
    "version": 3
   },
   "file_extension": ".py",
   "mimetype": "text/x-python",
   "name": "python",
   "nbconvert_exporter": "python",
   "pygments_lexer": "ipython3",
   "version": "3.8.8"
  }
 },
 "nbformat": 4,
 "nbformat_minor": 5
}
