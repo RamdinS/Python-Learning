{
 "cells": [
  {
   "cell_type": "markdown",
   "id": "b4242837",
   "metadata": {},
   "source": [
    "\n",
    "# Identifiers in Python"
   ]
  },
  {
   "cell_type": "raw",
   "id": "7e7cb29b",
   "metadata": {},
   "source": [
    "1. Rules for naming Identifiers in Python\n",
    "So we know what a Python Identifier is. But can we name it anything? Or do certain rules apply?\n",
    "\n",
    "Well, we do have five rules to follow when naming identifiers in Python:\n",
    "\n",
    "a. A Python identifier can be a combination of lowercase/ uppercase letters, digits, or an underscore. The following characters are valid:\n",
    "\n",
    "Lowercase letters (a to z)\n",
    "Uppercase letters (A to Z)\n",
    "Digits (0 to 9)\n",
    "Underscore (_)\n",
    "\n",
    "Some valid names are:\n",
    "myVar\n",
    "var_3\n",
    "this_works_too\n",
    "b. An identifier cannot begin with a digit.\n",
    "\n",
    "Some valid names:\n",
    "_9lives\n",
    "lives9\n",
    "\n",
    "An invalid name:\n",
    "9lives\n",
    "\n",
    "c. We cannot use special symbols in the identifier name. Some of these are:\n",
    "!\n",
    "@\n",
    "#\n",
    "$\n",
    "%\n",
    ".\n",
    "\n",
    "d. We cannot use a keyword as an identifier.\n",
    "\n",
    "Keywords are reserved names in Python and using one of those as a name for an identifier will result in a SyntaxError."
   ]
  },
  {
   "cell_type": "code",
   "execution_count": 6,
   "id": "e52d8125",
   "metadata": {},
   "outputs": [
    {
     "name": "stdout",
     "output_type": "stream",
     "text": [
      "True\n",
      "False\n"
     ]
    }
   ],
   "source": [
    "import keyword\n",
    "print(keyword.iskeyword('and')) # to check whether particular string is reserved keyword or not\n",
    "print(keyword.iskeyword('num1'))\n"
   ]
  },
  {
   "cell_type": "code",
   "execution_count": 8,
   "id": "7983fc69",
   "metadata": {},
   "outputs": [
    {
     "name": "stdout",
     "output_type": "stream",
     "text": [
      "False\n",
      "True\n",
      "False\n",
      "False\n"
     ]
    }
   ],
   "source": [
    "#str.isidentifier() function will tell us if a string is a valid identifier.\n",
    "\n",
    "print('__$$__'.isidentifier())\n",
    "print('__99__'.isidentifier())\n",
    "print('9lives'.isidentifier())\n",
    "print('9.5okay'.isidentifier())"
   ]
  },
  {
   "cell_type": "code",
   "execution_count": null,
   "id": "1c714377",
   "metadata": {},
   "outputs": [],
   "source": []
  }
 ],
 "metadata": {
  "kernelspec": {
   "display_name": "Python 3 (ipykernel)",
   "language": "python",
   "name": "python3"
  },
  "language_info": {
   "codemirror_mode": {
    "name": "ipython",
    "version": 3
   },
   "file_extension": ".py",
   "mimetype": "text/x-python",
   "name": "python",
   "nbconvert_exporter": "python",
   "pygments_lexer": "ipython3",
   "version": "3.9.7"
  }
 },
 "nbformat": 4,
 "nbformat_minor": 5
}
