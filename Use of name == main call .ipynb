{
 "cells": [
  {
   "cell_type": "markdown",
   "id": "4be378c8",
   "metadata": {},
   "source": [
    "# What does the if __name__ == “__main__”: do?"
   ]
  },
  {
   "cell_type": "raw",
   "id": "0a0d30b6",
   "metadata": {},
   "source": [
    "-->Every Python module has it’s __name__ defined and if this is ‘__main__’, it implies that the module is being run standalone by the user and we can do corresponding appropriate actions.\n",
    "-->If you import this script as a module in another script, the __name__ is set to the name of the script/module.\n",
    "\n"
   ]
  },
  {
   "cell_type": "code",
   "execution_count": 1,
   "id": "23188850",
   "metadata": {},
   "outputs": [
    {
     "name": "stdout",
     "output_type": "stream",
     "text": [
      "Always executed\n",
      "Executed when invoked directly\n"
     ]
    }
   ],
   "source": [
    "# Python program to execute\n",
    "# main directly\n",
    "print (\"Always executed\")\n",
    "\n",
    "if __name__ == \"__main__\":\n",
    "\tprint (\"Executed when invoked directly\")\n",
    "else:\n",
    "\tprint (\"Executed when imported\")\n"
   ]
  },
  {
   "cell_type": "raw",
   "id": "22616cd5",
   "metadata": {},
   "source": [
    "# Suppose we have a module as below\n",
    "\n",
    "# Python program to execute\n",
    "# function directly\n",
    "def my_function():\n",
    "    print (\"I am inside function\")\n",
    " \n",
    "# We can test function by calling it.\n",
    "my_function()\n",
    "\n",
    "# to import it we will have to comment the func call this can be avoided by writing as below\n",
    "\n",
    "\n",
    "# Python program to use\n",
    "# main for function call.\n",
    "if __name__ == \"__main__\":\n",
    "    my_function()\n",
    " \n",
    "import myscript\n",
    " \n",
    "myscript.my_function()"
   ]
  }
 ],
 "metadata": {
  "kernelspec": {
   "display_name": "Python 3 (ipykernel)",
   "language": "python",
   "name": "python3"
  },
  "language_info": {
   "codemirror_mode": {
    "name": "ipython",
    "version": 3
   },
   "file_extension": ".py",
   "mimetype": "text/x-python",
   "name": "python",
   "nbconvert_exporter": "python",
   "pygments_lexer": "ipython3",
   "version": "3.9.7"
  }
 },
 "nbformat": 4,
 "nbformat_minor": 5
}
